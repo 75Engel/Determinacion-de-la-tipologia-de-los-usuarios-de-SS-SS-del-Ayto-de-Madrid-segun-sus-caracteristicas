{
 "cells": [
  {
   "cell_type": "markdown",
   "metadata": {},
   "source": [
    "# TITLE\n",
    "\n",
    "\"ESTIMACION SOBRE LAS NECESIDADES DEL AREA DE SERVICIOS SOCIALES DEL AYUNTAMIENTO DE MADRID\" "
   ]
  },
  {
   "cell_type": "markdown",
   "metadata": {},
   "source": [
    "## SUBJECT:\n",
    "\n",
    "\"HACER UNA ESTIMACION GLOBAL Y PARCIAL DE LAS NECESIDADES A ATENDER EN EL AREA DE SERVICIOS SOCIALES DEL AYUNTAMIENTO DE MADRID\"\n",
    "\n",
    "Se tomarán los datos de los últimos años y se realizará una estimación global para el año XXXX y por trimestre."
   ]
  },
  {
   "cell_type": "markdown",
   "metadata": {},
   "source": [
    "### HYPOTHESIS: (ESTO HAY QUE HACERLO)\n",
    "hipotesis_1 = \"Hay mucha demanda de ayudas y servicios sociales en determinados distritos (valorar si es en todos) y poco personal para absorber esta demanda\"\n",
    "\n",
    "hipotesis_2 = \"Valorar si hay suficientes recursos no humanos para atender las demandas de los usuarios\""
   ]
  },
  {
   "cell_type": "code",
   "execution_count": 2,
   "metadata": {},
   "outputs": [],
   "source": [
    "\"\"\"\n",
    "IMPORTS\n",
    "\"\"\"\n",
    "import numpy as np\n",
    "import pandas as pd\n",
    "import seaborn as sns\n",
    "import matplotlib.pyplot as plt\n",
    "\n",
    "import xlrd\n",
    "import squarify\n",
    "import folium \n",
    "from folium import plugins\n",
    "import ipywidgets\n",
    "import geocoder\n",
    "import geopy\n",
    "from vega_datasets import data as vds\n",
    "from branca.element import Figure"
   ]
  },
  {
   "cell_type": "code",
   "execution_count": 3,
   "metadata": {},
   "outputs": [],
   "source": [
    "from sklearn.model_selection import train_test_split\n",
    "from sklearn.linear_model import LinearRegression\n",
    "from sklearn.preprocessing import PolynomialFeatures\n",
    "from sklearn.metrics import r2_score\n",
    "from sklearn.tree import DecisionTreeRegressor\n",
    "from sklearn import metrics"
   ]
  },
  {
   "cell_type": "markdown",
   "metadata": {},
   "source": [
    "### 1.- Data Collection:\n",
    "\n",
    "La fuente principal de todos los datos obtenidos ha sido a través de las páginas del ayuntamiento de Madrid (MUNIMADRID y PORTAL DE DATOS ABIERTOS DEL AYUNTAMIENTO DE MADRID)\n"
   ]
  },
  {
   "cell_type": "code",
   "execution_count": null,
   "metadata": {},
   "outputs": [],
   "source": [
    "# guarda en variables los datasets y su fuente\n",
    "\n",
    "# df_demandas = pd.DataFrame()\n",
    "# URL_demandas_de_servicio=\"https://datos.madrid.es/portal/site/egob/menuitem.c05c1f754a33a9fbe4b2e4b284f1a5a0/?vgnextoid=40ab4e8b0327d610VgnVCM1000001d4a900aRCRD&vgnextchannel=374512b9ace9f310VgnVCM100000171f5a0aRCRD&vgnextfmt=default\"\n",
    "# Solicitudes de procesos solicitados por los usuarios\n",
    "\n",
    "# df_urgencias = pd.DataFrame()\n",
    "# URL_urgencias_atendidas=\"https://datos.madrid.es/portal/site/egob/menuitem.c05c1f754a33a9fbe4b2e4b284f1a5a0/?vgnextoid=0b006dace9578610VgnVCM1000001d4a900aRCRD&vgnextchannel=374512b9ace9f310VgnVCM100000171f5a0aRCRD&vgnextfmt=default\"\n",
    "# URGENCIAS ATENDIDAS EN LOS CENTROS. ESTAS URGENCIAS SON DE LA SIGUIENTES TIPOLOGIAS \n",
    "# Malos tratos                                      --      Código: 10\n",
    "# Abandono                                          --      Código: 20\n",
    "# Alojamiento/Vivienda                              --      Código: 30\n",
    "# Desprotección social problema salud               --      Código: 40\n",
    "# Desprotección socio-familiar                      --      Código: 50\n",
    "\n",
    "# df_centros_sociales = pd.DataFrame()\n",
    "# URL_centros_sociales=\"https://datos.madrid.es/portal/site/egob/menuitem.c05c1f754a33a9fbe4b2e4b284f1a5a0/?vgnextoid=7c123e08dafc8410VgnVCM1000000b205a0aRCRD&vgnextchannel=374512b9ace9f310VgnVCM100000171f5a0aRCRD&vgnextfmt=default\"\n",
    "# Listado con geoposicionamiento de los diferentes centros sociales que se encuentran en Madrid, tanto del ayuntamiento como otros que no son del ayuntamiento (por ejemplo el Centro de Atención Social del \"Casino de la Reina\").\n"
   ]
  },
  {
   "cell_type": "markdown",
   "metadata": {},
   "source": [
    "### 2.- Data Extraction from different Datasets and storage in data\\Outcomes"
   ]
  },
  {
   "cell_type": "markdown",
   "metadata": {},
   "source": [
    "Vamos a tomar los datos de los años __desde el 2018 al 2021__.\n",
    "\n",
    "Los datos de este último año no están completos. Solo hay hasta el mes de Julio."
   ]
  },
  {
   "cell_type": "code",
   "execution_count": 4,
   "metadata": {},
   "outputs": [],
   "source": [
    "df_2021=pd.read_csv(\"E:\\Bootcamp_22\\Javier\\Repositorios\\Machine_Learning\\data\\Incomes\\servicios_sociales_urgencias_2021.csv\",sep=';',encoding='ISO-8859-1',index_col='Secuencia')   \n",
    "#Este  dataset solo contine información hasta julio de 2021\n",
    "df_2020=pd.read_csv(\"E:\\Bootcamp_22\\Javier\\Repositorios\\Machine_Learning\\data\\Incomes\\servicios_sociales_urgencias_2020.csv\",sep=';',encoding='utf-8',index_col='Secuencia')\n",
    "\n",
    "df_2019=pd.read_csv(\"E:\\Bootcamp_22\\Javier\\Repositorios\\Machine_Learning\\data\\Incomes\\servicios_sociales_urgencias_2019.csv\",sep=';',encoding='ISO-8859-1',index_col='Secuencia')\n",
    "\n",
    "df_2018=pd.read_csv(\"E:\\Bootcamp_22\\Javier\\Repositorios\\Machine_Learning\\data\\Incomes\\servicios_sociales_urgencias_2018.csv\",sep=';',encoding='ISO-8859-1',index_col='Secuencia')"
   ]
  },
  {
   "cell_type": "code",
   "execution_count": null,
   "metadata": {},
   "outputs": [],
   "source": [
    "df_urgencias=pd.concat([df_2020,df_2019,df_2018], ignore_index=True)\n",
    "df_urgencias"
   ]
  },
  {
   "cell_type": "code",
   "execution_count": 6,
   "metadata": {},
   "outputs": [
    {
     "data": {
      "text/html": [
       "<div>\n",
       "<style scoped>\n",
       "    .dataframe tbody tr th:only-of-type {\n",
       "        vertical-align: middle;\n",
       "    }\n",
       "\n",
       "    .dataframe tbody tr th {\n",
       "        vertical-align: top;\n",
       "    }\n",
       "\n",
       "    .dataframe thead th {\n",
       "        text-align: right;\n",
       "    }\n",
       "</style>\n",
       "<table border=\"1\" class=\"dataframe\">\n",
       "  <thead>\n",
       "    <tr style=\"text-align: right;\">\n",
       "      <th></th>\n",
       "      <th>Código Centro</th>\n",
       "      <th>Centro</th>\n",
       "      <th>Código Distrito Centro</th>\n",
       "      <th>Distrito Centro</th>\n",
       "      <th>Tramo Edad</th>\n",
       "      <th>Nacionalidad</th>\n",
       "      <th>Sexo</th>\n",
       "      <th>Código Tipo Atención</th>\n",
       "      <th>Tipo Atención</th>\n",
       "      <th>Código Tipo Supuesto Urgente</th>\n",
       "      <th>Tipo Supuesto Urgente</th>\n",
       "      <th>Fecha Cita</th>\n",
       "    </tr>\n",
       "  </thead>\n",
       "  <tbody>\n",
       "    <tr>\n",
       "      <th>0</th>\n",
       "      <td>69</td>\n",
       "      <td>CSS José Villarreal</td>\n",
       "      <td>2</td>\n",
       "      <td>ARGANZUELA</td>\n",
       "      <td>50 - 54</td>\n",
       "      <td>Española</td>\n",
       "      <td>H</td>\n",
       "      <td>1</td>\n",
       "      <td>Primera Atención</td>\n",
       "      <td>50.0</td>\n",
       "      <td>Desprotección socio-familiar</td>\n",
       "      <td>02/01/2020</td>\n",
       "    </tr>\n",
       "    <tr>\n",
       "      <th>1</th>\n",
       "      <td>69</td>\n",
       "      <td>CSS José Villarreal</td>\n",
       "      <td>2</td>\n",
       "      <td>ARGANZUELA</td>\n",
       "      <td>&gt;= 85</td>\n",
       "      <td>Española</td>\n",
       "      <td>M</td>\n",
       "      <td>2</td>\n",
       "      <td>Zona / Historia Social</td>\n",
       "      <td>40.0</td>\n",
       "      <td>Desproteccion social problema salud</td>\n",
       "      <td>02/01/2020</td>\n",
       "    </tr>\n",
       "    <tr>\n",
       "      <th>2</th>\n",
       "      <td>69</td>\n",
       "      <td>CSS José Villarreal</td>\n",
       "      <td>2</td>\n",
       "      <td>ARGANZUELA</td>\n",
       "      <td>60 - 64</td>\n",
       "      <td>Extranjera</td>\n",
       "      <td>H</td>\n",
       "      <td>2</td>\n",
       "      <td>Zona / Historia Social</td>\n",
       "      <td>30.0</td>\n",
       "      <td>Alojamiento/Vivienda</td>\n",
       "      <td>02/01/2020</td>\n",
       "    </tr>\n",
       "    <tr>\n",
       "      <th>3</th>\n",
       "      <td>69</td>\n",
       "      <td>CSS José Villarreal</td>\n",
       "      <td>2</td>\n",
       "      <td>ARGANZUELA</td>\n",
       "      <td>75 - 79</td>\n",
       "      <td>Española</td>\n",
       "      <td>H</td>\n",
       "      <td>1</td>\n",
       "      <td>Primera Atención</td>\n",
       "      <td>40.0</td>\n",
       "      <td>Desproteccion social problema salud</td>\n",
       "      <td>02/01/2020</td>\n",
       "    </tr>\n",
       "    <tr>\n",
       "      <th>4</th>\n",
       "      <td>99</td>\n",
       "      <td>CSS Teresa de Calcuta</td>\n",
       "      <td>21</td>\n",
       "      <td>BARAJAS</td>\n",
       "      <td>40 - 44</td>\n",
       "      <td>Española</td>\n",
       "      <td>M</td>\n",
       "      <td>2</td>\n",
       "      <td>Zona / Historia Social</td>\n",
       "      <td>50.0</td>\n",
       "      <td>Desprotección socio-familiar</td>\n",
       "      <td>02/01/2020</td>\n",
       "    </tr>\n",
       "    <tr>\n",
       "      <th>...</th>\n",
       "      <td>...</td>\n",
       "      <td>...</td>\n",
       "      <td>...</td>\n",
       "      <td>...</td>\n",
       "      <td>...</td>\n",
       "      <td>...</td>\n",
       "      <td>...</td>\n",
       "      <td>...</td>\n",
       "      <td>...</td>\n",
       "      <td>...</td>\n",
       "      <td>...</td>\n",
       "      <td>...</td>\n",
       "    </tr>\n",
       "    <tr>\n",
       "      <th>35275</th>\n",
       "      <td>98</td>\n",
       "      <td>CSS Pablo Casals</td>\n",
       "      <td>20</td>\n",
       "      <td>SAN BLAS-CANILLEJAS</td>\n",
       "      <td>30 - 34</td>\n",
       "      <td>Española</td>\n",
       "      <td>M</td>\n",
       "      <td>2</td>\n",
       "      <td>Zona / Historia Social</td>\n",
       "      <td>30.0</td>\n",
       "      <td>Alojamiento/Vivienda</td>\n",
       "      <td>28/12/2018</td>\n",
       "    </tr>\n",
       "    <tr>\n",
       "      <th>35276</th>\n",
       "      <td>85</td>\n",
       "      <td>CSS Loyola de Palacio</td>\n",
       "      <td>12</td>\n",
       "      <td>USERA</td>\n",
       "      <td>&gt;= 85</td>\n",
       "      <td>Española</td>\n",
       "      <td>M</td>\n",
       "      <td>2</td>\n",
       "      <td>Zona / Historia Social</td>\n",
       "      <td>40.0</td>\n",
       "      <td>Desproteccion social problema salud</td>\n",
       "      <td>28/12/2018</td>\n",
       "    </tr>\n",
       "    <tr>\n",
       "      <th>35277</th>\n",
       "      <td>84</td>\n",
       "      <td>CSS San Filiberto</td>\n",
       "      <td>12</td>\n",
       "      <td>USERA</td>\n",
       "      <td>35 - 39</td>\n",
       "      <td>Extranjera</td>\n",
       "      <td>M</td>\n",
       "      <td>2</td>\n",
       "      <td>Zona / Historia Social</td>\n",
       "      <td>30.0</td>\n",
       "      <td>Alojamiento/Vivienda</td>\n",
       "      <td>28/12/2018</td>\n",
       "    </tr>\n",
       "    <tr>\n",
       "      <th>35278</th>\n",
       "      <td>84</td>\n",
       "      <td>CSS San Filiberto</td>\n",
       "      <td>12</td>\n",
       "      <td>USERA</td>\n",
       "      <td>65 - 69</td>\n",
       "      <td>Española</td>\n",
       "      <td>H</td>\n",
       "      <td>1</td>\n",
       "      <td>Primera Atención</td>\n",
       "      <td>30.0</td>\n",
       "      <td>Alojamiento/Vivienda</td>\n",
       "      <td>28/12/2018</td>\n",
       "    </tr>\n",
       "    <tr>\n",
       "      <th>35279</th>\n",
       "      <td>84</td>\n",
       "      <td>CSS San Filiberto</td>\n",
       "      <td>12</td>\n",
       "      <td>USERA</td>\n",
       "      <td>80 - 84</td>\n",
       "      <td>Española</td>\n",
       "      <td>M</td>\n",
       "      <td>2</td>\n",
       "      <td>Zona / Historia Social</td>\n",
       "      <td>40.0</td>\n",
       "      <td>Desproteccion social problema salud</td>\n",
       "      <td>28/12/2018</td>\n",
       "    </tr>\n",
       "  </tbody>\n",
       "</table>\n",
       "<p>35280 rows × 12 columns</p>\n",
       "</div>"
      ],
      "text/plain": [
       "       Código Centro                 Centro  Código Distrito Centro  \\\n",
       "0                 69    CSS José Villarreal                       2   \n",
       "1                 69    CSS José Villarreal                       2   \n",
       "2                 69    CSS José Villarreal                       2   \n",
       "3                 69    CSS José Villarreal                       2   \n",
       "4                 99  CSS Teresa de Calcuta                      21   \n",
       "...              ...                    ...                     ...   \n",
       "35275             98       CSS Pablo Casals                      20   \n",
       "35276             85  CSS Loyola de Palacio                      12   \n",
       "35277             84      CSS San Filiberto                      12   \n",
       "35278             84      CSS San Filiberto                      12   \n",
       "35279             84      CSS San Filiberto                      12   \n",
       "\n",
       "           Distrito Centro Tramo Edad Nacionalidad Sexo  Código Tipo Atención  \\\n",
       "0               ARGANZUELA    50 - 54     Española    H                     1   \n",
       "1               ARGANZUELA      >= 85     Española    M                     2   \n",
       "2               ARGANZUELA    60 - 64   Extranjera    H                     2   \n",
       "3               ARGANZUELA    75 - 79     Española    H                     1   \n",
       "4                  BARAJAS    40 - 44     Española    M                     2   \n",
       "...                    ...        ...          ...  ...                   ...   \n",
       "35275  SAN BLAS-CANILLEJAS    30 - 34     Española    M                     2   \n",
       "35276               USERA       >= 85     Española    M                     2   \n",
       "35277               USERA     35 - 39   Extranjera    M                     2   \n",
       "35278               USERA     65 - 69     Española    H                     1   \n",
       "35279               USERA     80 - 84     Española    M                     2   \n",
       "\n",
       "                Tipo Atención  Código Tipo Supuesto Urgente  \\\n",
       "0            Primera Atención                          50.0   \n",
       "1      Zona / Historia Social                          40.0   \n",
       "2      Zona / Historia Social                          30.0   \n",
       "3            Primera Atención                          40.0   \n",
       "4      Zona / Historia Social                          50.0   \n",
       "...                       ...                           ...   \n",
       "35275  Zona / Historia Social                          30.0   \n",
       "35276  Zona / Historia Social                          40.0   \n",
       "35277  Zona / Historia Social                          30.0   \n",
       "35278        Primera Atención                          30.0   \n",
       "35279  Zona / Historia Social                          40.0   \n",
       "\n",
       "                     Tipo Supuesto Urgente  Fecha Cita  \n",
       "0             Desprotección socio-familiar  02/01/2020  \n",
       "1      Desproteccion social problema salud  02/01/2020  \n",
       "2                     Alojamiento/Vivienda  02/01/2020  \n",
       "3      Desproteccion social problema salud  02/01/2020  \n",
       "4             Desprotección socio-familiar  02/01/2020  \n",
       "...                                    ...         ...  \n",
       "35275                 Alojamiento/Vivienda  28/12/2018  \n",
       "35276  Desproteccion social problema salud  28/12/2018  \n",
       "35277                 Alojamiento/Vivienda  28/12/2018  \n",
       "35278                 Alojamiento/Vivienda  28/12/2018  \n",
       "35279  Desproteccion social problema salud  28/12/2018  \n",
       "\n",
       "[35280 rows x 12 columns]"
      ]
     },
     "execution_count": 6,
     "metadata": {},
     "output_type": "execute_result"
    }
   ],
   "source": [
    "df_urgencias.drop(['Código Distrito','Distrito','Código Barrio','Barrio','Sección Censal'],axis=1,inplace=True)\n",
    "df_urgencias"
   ]
  },
  {
   "cell_type": "code",
   "execution_count": 7,
   "metadata": {},
   "outputs": [],
   "source": [
    "df_urgencias.to_csv('E:\\Bootcamp_22\\Javier\\Repositorios\\Machine_Learning\\data\\Outcomes\\df_urgencias.csv',header=True,index=False)"
   ]
  },
  {
   "cell_type": "markdown",
   "metadata": {},
   "source": [
    "### 3.- Featuring Engineering"
   ]
  },
  {
   "cell_type": "code",
   "execution_count": null,
   "metadata": {},
   "outputs": [],
   "source": [
    "df_urgencias= pd.read_csv(\"E:\\Bootcamp_22\\Javier\\Repositorios\\Machine_Learning\\data\\Outcomes\\df_urgencias.csv\",sep=',')\n",
    "df_urgencias"
   ]
  },
  {
   "cell_type": "markdown",
   "metadata": {},
   "source": [
    "Vamos a agrupar las __fechas de edades__ para tener un rango más manejable.\n",
    "\n",
    "Así agruparemos < 18 años a todos los grupos que sean inferiores a esta edad.\n",
    "\n",
    "Agruparemos >65 a todos los grupos que sean superiores a esta edad.\n",
    "\n",
    "Agruparemos de 10 en 10 años al resto."
   ]
  },
  {
   "cell_type": "code",
   "execution_count": 10,
   "metadata": {},
   "outputs": [],
   "source": [
    "df_urgencias['Tramo Edad']=df_urgencias['Tramo Edad'].str.replace(' - ','-')\n",
    "df_urgencias['Tramo Edad']=df_urgencias['Tramo Edad'].str.replace('- ','-')\n",
    "df_urgencias['Tramo Edad']=df_urgencias['Tramo Edad'].str.replace('= ','=')"
   ]
  },
  {
   "cell_type": "code",
   "execution_count": null,
   "metadata": {},
   "outputs": [],
   "source": [
    "df_urgencias['Tramo Edad']=df_urgencias['Tramo Edad'].str.replace(\"\\A4-11\", \"<=18\")\n",
    "df_urgencias['Tramo Edad']=df_urgencias['Tramo Edad'].str.replace(\"\\A12-17\", \"<=18\")\n",
    "df_urgencias['Tramo Edad']=df_urgencias['Tramo Edad'].str.replace(\"\\A0-3\", \"<=18\") \n",
    "\n",
    "df_urgencias['Tramo Edad']=df_urgencias['Tramo Edad'].str.replace(\"\\A18-24\", \"19-29\")\n",
    "df_urgencias['Tramo Edad']=df_urgencias['Tramo Edad'].str.replace(\"\\A25-29\", \"19-29\")\n",
    "\n",
    "df_urgencias['Tramo Edad']=df_urgencias['Tramo Edad'].str.replace(\"\\A30-34\", \"30-39\")\n",
    "df_urgencias['Tramo Edad']=df_urgencias['Tramo Edad'].str.replace(\"\\A35-39\", \"30-39\")\n",
    "\n",
    "df_urgencias['Tramo Edad']=df_urgencias['Tramo Edad'].str.replace(\"\\A40-44\", \"40-49\")\n",
    "df_urgencias['Tramo Edad']=df_urgencias['Tramo Edad'].str.replace(\"\\A44-49\", \"40-49\")\n",
    "df_urgencias['Tramo Edad']=df_urgencias['Tramo Edad'].str.replace(\"\\A45-49\", \"40-49\")\n",
    "\n",
    "df_urgencias['Tramo Edad']=df_urgencias['Tramo Edad'].str.replace(\"\\A50-54\", \"50-59\")\n",
    "df_urgencias['Tramo Edad']=df_urgencias['Tramo Edad'].str.replace(\"\\A55-59\", \"50-59\")\n",
    "\n",
    "df_urgencias['Tramo Edad']=df_urgencias['Tramo Edad'].str.replace(\"\\A60-64\", \"60-64\")\n",
    "\n",
    "df_urgencias['Tramo Edad']=df_urgencias['Tramo Edad'].str.replace(\"\\A65-69\", \">=65\")\n",
    "df_urgencias['Tramo Edad']=df_urgencias['Tramo Edad'].str.replace(\"\\A75-79\", \">=65\")\n",
    "df_urgencias['Tramo Edad']=df_urgencias['Tramo Edad'].str.replace(\"\\A80-84\", \">=65\")\n",
    "df_urgencias['Tramo Edad']=df_urgencias['Tramo Edad'].str.replace(\"\\A70-74\", \">=65\")\n",
    "df_urgencias['Tramo Edad']=df_urgencias['Tramo Edad'].str.replace(\"\\A>=85\", \">=65\")\n",
    "\n",
    "#df_demandas\n"
   ]
  },
  {
   "cell_type": "code",
   "execution_count": 12,
   "metadata": {},
   "outputs": [
    {
     "data": {
      "text/plain": [
       ">=65     10793\n",
       "30-39     7305\n",
       "40-49     6921\n",
       "50-59     4355\n",
       "19-29     4168\n",
       "60-64     1481\n",
       "<=18       187\n",
       "            70\n",
       "Name: Tramo Edad, dtype: int64"
      ]
     },
     "execution_count": 12,
     "metadata": {},
     "output_type": "execute_result"
    }
   ],
   "source": [
    "df_urgencias['Tramo Edad'].value_counts()"
   ]
  },
  {
   "cell_type": "code",
   "execution_count": 13,
   "metadata": {},
   "outputs": [],
   "source": [
    "lista_rango_edad=df_urgencias['Tramo Edad'].unique()                  # Hay que revisar esto, porque no está ordenado y sería lo ideal\n",
    "lista_rango_edad.sort()\n",
    "mivalor = [ x for x in range(len(lista_rango_edad))]             ##  agregaremos una variable numérica para sustituir a los nombres de las cias\n",
    "mivalor\n",
    "lista_rango_edad=list(lista_rango_edad)                               ##  dejamos el valor cero por si en los datos a testear  hay algún NaN y \n",
    "\n",
    "Age_range_code = {k: v for k, v in zip(lista_rango_edad, mivalor)}   ##  sustituirlo por cero\n",
    "Age_range_code\n",
    "df_urgencias['Age_range_code']= df_urgencias['Tramo Edad'].map(Age_range_code)"
   ]
  },
  {
   "cell_type": "markdown",
   "metadata": {},
   "source": [
    "Los valores son: {nulos: 0, 19-29: 1, 30-39: 2, 40-49: 3, 50-59: 4, 60-64: 5, <=18: 6, >=65: 7}"
   ]
  },
  {
   "cell_type": "markdown",
   "metadata": {},
   "source": [
    "Vamos a dar un formato numérico a la __nacionalidad__ del usuario, siendo los valores: \n",
    "\n",
    "0 para Española, 1 para Extranjera"
   ]
  },
  {
   "cell_type": "code",
   "execution_count": null,
   "metadata": {},
   "outputs": [],
   "source": [
    "lista_nacionalidad=df_urgencias['Nacionalidad'].unique()\n",
    "lista_nacionalidad.sort()\n",
    "lista_nacionalidad\n",
    "mivalor = [ x for x in range(len(lista_nacionalidad))]             ##  agregaremos una variable numérica para sustituir a los nombres de las cias\n",
    "#mivalor    \n",
    "lista_nacionalidad=list(lista_nacionalidad)                               ##  dejamos el valor cero por si en los datos a testear  hay algún NaN y \n",
    "Nationality_code = {k: v for k, v in zip(lista_nacionalidad, mivalor)}   ##  sustituirlo por cero\n",
    "df_urgencias['Nationality_code']= df_urgencias['Nacionalidad'].map(Nationality_code)\n",
    "df_urgencias"
   ]
  },
  {
   "cell_type": "code",
   "execution_count": 15,
   "metadata": {},
   "outputs": [
    {
     "data": {
      "text/plain": [
       "M    24847\n",
       "H    10432\n",
       "         1\n",
       "Name: Sexo, dtype: int64"
      ]
     },
     "execution_count": 15,
     "metadata": {},
     "output_type": "execute_result"
    }
   ],
   "source": [
    "df_urgencias['Sexo'].value_counts()             #Solo hay 1 dato vacio en el DataFrame por lo que lo sustituiremos por M, que es la moda"
   ]
  },
  {
   "cell_type": "code",
   "execution_count": 16,
   "metadata": {},
   "outputs": [],
   "source": [
    "df_urgencias['Sexo']=df_urgencias['Sexo'].mask(df_urgencias['Sexo'] == ' ').fillna('M')"
   ]
  },
  {
   "cell_type": "markdown",
   "metadata": {},
   "source": [
    "Vamos a dar un formato numérico al __sexo__ del usuario, siendo los valores: \n",
    "\n",
    "0 para H, 1 para M"
   ]
  },
  {
   "cell_type": "code",
   "execution_count": null,
   "metadata": {},
   "outputs": [],
   "source": [
    "lista_sexo=df_urgencias['Sexo'].unique()\n",
    "lista_sexo.sort()\n",
    "lista_sexo\n",
    "mivalor = [ x for x in range(len(lista_sexo))]             ##  agregaremos una variable numérica para sustituir a los nombres de las cias\n",
    "#mivalor    \n",
    "lista_sexo=list(lista_sexo)                               ##  dejamos el valor cero por si en los datos a testear  hay algún NaN y \n",
    "\n",
    "Sex_code = {k: v for k, v in zip(lista_sexo, mivalor)}   ##  sustituirlo por cero\n",
    "\n",
    "df_urgencias['Sex_code']= df_urgencias['Sexo'].map(Sex_code)\n",
    "df_urgencias"
   ]
  },
  {
   "cell_type": "code",
   "execution_count": 18,
   "metadata": {},
   "outputs": [
    {
     "data": {
      "text/plain": [
       "array(['Desprotección socio-familiar',\n",
       "       'Desproteccion social problema salud', 'Alojamiento/Vivienda', nan,\n",
       "       'Malos Tratos', 'Abandono'], dtype=object)"
      ]
     },
     "execution_count": 18,
     "metadata": {},
     "output_type": "execute_result"
    }
   ],
   "source": [
    "df_urgencias['Tipo Supuesto Urgente'].unique()          #   Vemos que hay valores nulos en el campo a valorar, por lo que vamos a ver cuantos son y ver la posibilidad de sustituirlos por otros.\n",
    "                                                        #   Esto lo haremos en cada Dataset descargado para así que sea más \"asumible\" la tarea"
   ]
  },
  {
   "cell_type": "code",
   "execution_count": 19,
   "metadata": {},
   "outputs": [
    {
     "data": {
      "text/plain": [
       "2018"
      ]
     },
     "execution_count": 19,
     "metadata": {},
     "output_type": "execute_result"
    }
   ],
   "source": [
    "df_urgencias['Tipo Supuesto Urgente'].isnull().sum()"
   ]
  },
  {
   "cell_type": "markdown",
   "metadata": {},
   "source": [
    "Se puede ver que hay muchos en esta columna con __NaN__ (2018)."
   ]
  },
  {
   "cell_type": "markdown",
   "metadata": {},
   "source": [
    "Vamos a dar un formato de fecha año y trimestre a los valores de 'Fecha Demanda' para poder ver qué evolución tienen los datos en el tiempo."
   ]
  },
  {
   "cell_type": "code",
   "execution_count": null,
   "metadata": {},
   "outputs": [],
   "source": [
    "df_urgencias['Fecha Cita'] = pd.to_datetime(df_urgencias['Fecha Cita'], dayfirst=True)\n",
    "\n",
    "df_urgencias['year'] = df_urgencias['Fecha Cita'].dt.year\n",
    "#df_demandas['month'] = df_demandas['Timestamp'].dt.month\n",
    "df_urgencias['Quarteryear'] = df_urgencias['Fecha Cita'].dt.quarter\n",
    "df_urgencias"
   ]
  },
  {
   "cell_type": "code",
   "execution_count": 21,
   "metadata": {},
   "outputs": [],
   "source": [
    "df_urgencias_prueba=df_urgencias.drop(['Código Centro'],axis=1)\n",
    "col = df_urgencias_prueba.pop('Código Tipo Supuesto Urgente')\n",
    "df_urgencias_prueba.insert(loc= 0 , column= 'Código Tipo Supuesto Urgente', value= col)"
   ]
  },
  {
   "cell_type": "code",
   "execution_count": null,
   "metadata": {},
   "outputs": [],
   "source": [
    "df_urgencias_prueba.info()"
   ]
  },
  {
   "cell_type": "markdown",
   "metadata": {},
   "source": [
    "Como podemos observar no están todos los valores de __'Código Tipo Supuesto Urgente'__ ni de __'Tipo Supuesto Urgente'__, por lo que nos vemos obligados a realizar un nuevo proceso de ingeniería de datos para darles un valor a estas columnas, que serán la variable dependiente."
   ]
  },
  {
   "cell_type": "markdown",
   "metadata": {},
   "source": [
    "Para esto realizaremos nuevamente el proceso a partir de los DataSets originales y volveremos a realizar toda esta ingeniería."
   ]
  },
  {
   "cell_type": "markdown",
   "metadata": {},
   "source": [
    "### 4.- Reconstruction Dataframes"
   ]
  },
  {
   "cell_type": "code",
   "execution_count": null,
   "metadata": {},
   "outputs": [],
   "source": [
    "df_2021_correccion=df_2021\n",
    "df_2021_correccion.describe(include='all')                  #   Vamos a ver las características de las columnas 'Código Tipo Supuesto Urgente' y 'Tipo Supuesto Urgente',\n",
    "                                                            #   que están relacionadas entre sí y dónde están los valores NaN que hay que sustituir."
   ]
  },
  {
   "cell_type": "code",
   "execution_count": null,
   "metadata": {},
   "outputs": [],
   "source": [
    "print(\"Los valores NaN que hay en este Dataset son: \",df_2021['Código Tipo Supuesto Urgente'].isnull().sum())\n",
    "print(\"Los registros que hay en este DataSet son: \",len(df_2021))\n",
    "df_2021['Código Tipo Supuesto Urgente'].value_counts()"
   ]
  },
  {
   "cell_type": "code",
   "execution_count": null,
   "metadata": {},
   "outputs": [],
   "source": [
    "df_2021_correccion['Código Tipo Supuesto Urgente'].fillna(method=\"ffill\",inplace=True)\n",
    "df_2021_correccion['Tipo Supuesto Urgente'].fillna(method=\"ffill\",inplace=True)\n",
    "'''Verificamos'''\n",
    "print(\"Los valores NaN que hay en este Dataset son: \",df_2021_correccion['Código Tipo Supuesto Urgente'].isnull().sum())\n",
    "print(\"Los registros que hay en este DataSet son: \",len(df_2021_correccion))\n",
    "df_2021['Código Tipo Supuesto Urgente'].value_counts()\n",
    "print(\"Los valores NaN que hay en este Dataset son: \",df_2021_correccion['Tipo Supuesto Urgente'].isnull().sum())\n",
    "print(\"Los registros que hay en este DataSet son: \",len(df_2021_correccion))\n",
    "df_2021_correccion['Tipo Supuesto Urgente'].value_counts()"
   ]
  },
  {
   "cell_type": "markdown",
   "metadata": {},
   "source": [
    "En este Dataframe vemos que la media de **'Código Tipo Supuesto Urgente'** se aproxima a la mediana.\n",
    "\n",
    "Este tipo de dato, aunque es numérico, es categorico y solo tienen valores de 10,20,30,40 y 50.\n",
    "\n",
    "Hay 166 datos vacíos, los rellenaremos con los datos del registro anterior."
   ]
  },
  {
   "cell_type": "code",
   "execution_count": null,
   "metadata": {},
   "outputs": [],
   "source": [
    "df_2021_correccion.groupby('Código Tipo Supuesto Urgente')['Tipo Supuesto Urgente'].value_counts()"
   ]
  },
  {
   "cell_type": "code",
   "execution_count": null,
   "metadata": {},
   "outputs": [],
   "source": [
    "df_2020_correccion=df_2020\n",
    "df_2020_correccion.describe(include='all')                  #   Vamos a ver las características de las columnas 'Código Tipo Supuesto Urgente' y 'Tipo Supuesto Urgente',\n",
    "                                                            #   que están relacionadas entre sí y dónde están los valores NaN que hay que sustituir."
   ]
  },
  {
   "cell_type": "code",
   "execution_count": null,
   "metadata": {},
   "outputs": [],
   "source": [
    "print(\"Los valores NaN que hay en este Dataset son: \",df_2020['Código Tipo Supuesto Urgente'].isnull().sum())\n",
    "print(\"Los registros que hay en este DataSet son: \",len(df_2020))\n",
    "df_2020['Código Tipo Supuesto Urgente'].value_counts()"
   ]
  },
  {
   "cell_type": "markdown",
   "metadata": {},
   "source": [
    "En este Dataframe vemos que la mediana de **'Código Tipo Supuesto Urgente'** tiene muchos valores en 50 y la media está entre 40 y 50 también, lo que indica que en general casi todos los registros se situan entre 40 y 50.\n",
    "\n",
    "Este tipo de dato, aunque es numérico, es categorico y solo tienen valores de 10,20,30,40 y 50.\n",
    "\n",
    "Hay 1402 datos vacíos, los rellenaremos con los datos del registro anterior, que principalmente serán éstos."
   ]
  },
  {
   "cell_type": "code",
   "execution_count": null,
   "metadata": {},
   "outputs": [],
   "source": [
    "df_2020_correccion['Código Tipo Supuesto Urgente'].fillna(method=\"ffill\",inplace=True)\n",
    "df_2020_correccion['Tipo Supuesto Urgente'].fillna(method=\"ffill\",inplace=True)\n",
    "'''Verificamos'''\n",
    "print(\"Los valores NaN que hay en este Dataset son: \",df_2020_correccion['Código Tipo Supuesto Urgente'].isnull().sum())\n",
    "print(\"Los registros que hay en este DataSet son: \",len(df_2020_correccion))\n",
    "print(\"Los valores NaN que hay en este Dataset son: \",df_2020_correccion['Tipo Supuesto Urgente'].isnull().sum())\n",
    "print(\"Los registros que hay en este DataSet son: \",len(df_2020_correccion))\n",
    "df_2020_correccion.groupby('Código Tipo Supuesto Urgente')['Tipo Supuesto Urgente'].value_counts()"
   ]
  },
  {
   "cell_type": "code",
   "execution_count": null,
   "metadata": {},
   "outputs": [],
   "source": [
    "df_2019_correccion=df_2019\n",
    "df_2019_correccion.describe(include='all')                  #   Vamos a ver las características de las columnas 'Código Tipo Supuesto Urgente' y 'Tipo Supuesto Urgente',\n",
    "                                                            #   que están relacionadas entre sí y dónde están los valores NaN que hay que sustituir."
   ]
  },
  {
   "cell_type": "code",
   "execution_count": null,
   "metadata": {},
   "outputs": [],
   "source": [
    "print(\"Los valores NaN que hay en este Dataset son: \",df_2019['Código Tipo Supuesto Urgente'].isnull().sum())\n",
    "print(\"Los registros que hay en este DataSet son: \",len(df_2019))\n",
    "df_2019['Código Tipo Supuesto Urgente'].value_counts()"
   ]
  },
  {
   "cell_type": "markdown",
   "metadata": {},
   "source": [
    "En este Dataframe vemos que la mediana de **'Código Tipo Supuesto Urgente'** tiene muchos valores en 40 y la media está entre 30 y 40 también, lo que indica que en general casi todos los registros se situan entre 30 y 40.\n",
    "\n",
    "Este tipo de dato, aunque es numérico, es categorico y solo tienen valores de 10,20,30,40 y 50.\n",
    "\n",
    "Hay 298 datos vacíos, los rellenaremos con los datos del registro anterior, que principalmente serán éstos."
   ]
  },
  {
   "cell_type": "code",
   "execution_count": null,
   "metadata": {},
   "outputs": [],
   "source": [
    "df_2019_correccion['Código Tipo Supuesto Urgente'].fillna(method=\"ffill\",inplace=True)\n",
    "df_2019_correccion['Tipo Supuesto Urgente'].fillna(method=\"ffill\",inplace=True)\n",
    "'''Verificamos'''\n",
    "print(\"Los valores NaN que hay en este Dataset son: \",df_2019_correccion['Código Tipo Supuesto Urgente'].isnull().sum())\n",
    "print(\"Los registros que hay en este DataSet son: \",len(df_2019_correccion))\n",
    "print(\"Los valores NaN que hay en este Dataset son: \",df_2019_correccion['Tipo Supuesto Urgente'].isnull().sum())\n",
    "print(\"Los registros que hay en este DataSet son: \",len(df_2019_correccion))\n",
    "df_2019_correccion.groupby('Código Tipo Supuesto Urgente')['Tipo Supuesto Urgente'].value_counts()"
   ]
  },
  {
   "cell_type": "code",
   "execution_count": null,
   "metadata": {},
   "outputs": [],
   "source": [
    "df_2018_correccion=df_2018\n",
    "df_2018_correccion.describe(include='all')                  #   Vamos a ver las características de las columnas 'Código Tipo Supuesto Urgente' y 'Tipo Supuesto Urgente',\n",
    "                                                            #   que están relacionadas entre sí y dónde están los valores NaN que hay que sustituir."
   ]
  },
  {
   "cell_type": "code",
   "execution_count": null,
   "metadata": {},
   "outputs": [],
   "source": [
    "print(\"Los valores NaN que hay en este Dataset son: \",df_2018['Código Tipo Supuesto Urgente'].isnull().sum())\n",
    "print(\"Los registros que hay en este DataSet son: \",len(df_2018))\n",
    "df_2018['Código Tipo Supuesto Urgente'].value_counts()"
   ]
  },
  {
   "cell_type": "markdown",
   "metadata": {},
   "source": [
    "En este Dataframe vemos que la mediana y la media de **'Código Tipo Supuesto Urgente'** tienen valores en torno a 40 (siendo está la mediana), pero el reparto es más amplio.\n",
    "\n",
    "Este tipo de dato, aunque es numérico, es categorico y solo tienen valores de 10,20,30,40 y 50.\n",
    "\n",
    "Hay 318 datos vacíos, los rellenaremos con los datos del registro anterior, que principalmente serán éstos."
   ]
  },
  {
   "cell_type": "code",
   "execution_count": null,
   "metadata": {},
   "outputs": [],
   "source": [
    "df_2018_correccion['Código Tipo Supuesto Urgente'].fillna(method=\"ffill\",inplace=True)\n",
    "df_2018_correccion['Tipo Supuesto Urgente'].fillna(method=\"ffill\",inplace=True)\n",
    "'''Verificamos'''\n",
    "print(\"Los valores NaN que hay en este Dataset son: \",df_2018_correccion['Código Tipo Supuesto Urgente'].isnull().sum())\n",
    "print(\"Los registros que hay en este DataSet son: \",len(df_2018_correccion))\n",
    "print(\"Los valores NaN que hay en este Dataset son: \",df_2018_correccion['Tipo Supuesto Urgente'].isnull().sum())\n",
    "print(\"Los registros que hay en este DataSet son: \",len(df_2018_correccion))\n",
    "df_2018_correccion.groupby('Código Tipo Supuesto Urgente')['Tipo Supuesto Urgente'].value_counts()"
   ]
  },
  {
   "cell_type": "code",
   "execution_count": null,
   "metadata": {},
   "outputs": [],
   "source": [
    "df_urgencias_correccion=pd.concat([df_2020_correccion,df_2019_correccion,df_2018_correccion], ignore_index=True)\n",
    "df_urgencias_correccion"
   ]
  },
  {
   "cell_type": "code",
   "execution_count": 37,
   "metadata": {},
   "outputs": [],
   "source": [
    "df_urgencias_correccion.drop(['Código Distrito','Distrito','Código Barrio','Barrio','Sección Censal'],axis=1,inplace=True)\n",
    "df_urgencias_correccion.to_csv('E:\\Bootcamp_22\\Javier\\Repositorios\\Machine_Learning\\data\\Outcomes\\df_urgencias_corregido.csv',header=True,index=False)"
   ]
  },
  {
   "cell_type": "markdown",
   "metadata": {},
   "source": [
    "### 5 - Data Engineering"
   ]
  },
  {
   "cell_type": "markdown",
   "metadata": {},
   "source": [
    "Vamos a agrupar las __fechas de edades__ para tener un rango más manejable.\n",
    "\n",
    "Así agruparemos < 18 años a todos los grupos que sean inferiores a esta edad.\n",
    "\n",
    "Agruparemos >65 a todos los grupos que sean superiores a esta edad.\n",
    "\n",
    "Agruparemos de 10 en días años al resto."
   ]
  },
  {
   "cell_type": "code",
   "execution_count": null,
   "metadata": {},
   "outputs": [],
   "source": [
    "df_urgencias_corregido= pd.read_csv(\"E:\\Bootcamp_22\\Javier\\Repositorios\\Machine_Learning\\data\\Outcomes\\df_urgencias_corregido.csv\",sep=',')\n",
    "df_urgencias_corregido"
   ]
  },
  {
   "cell_type": "code",
   "execution_count": null,
   "metadata": {},
   "outputs": [],
   "source": [
    "df_urgencias_corregido['Tramo Edad'].value_counts()"
   ]
  },
  {
   "cell_type": "markdown",
   "metadata": {},
   "source": [
    "Vemos que hay __70 registros en blanco__ que no hemos sustituido anteriormente.\n",
    "\n",
    "Vamos a proceder a reemplazarlos por el registro anterior, ya que no afectará mucho a las previsiones del módelo."
   ]
  },
  {
   "cell_type": "code",
   "execution_count": 40,
   "metadata": {},
   "outputs": [],
   "source": [
    "df_urgencias_corregido['Tramo Edad']=df_urgencias_corregido['Tramo Edad'].mask(df_urgencias_corregido['Tramo Edad'] == ' ')\n",
    "df_urgencias_corregido.fillna(method='ffill',inplace=True)"
   ]
  },
  {
   "cell_type": "markdown",
   "metadata": {},
   "source": [
    "Hay que eliminar los espacios en blanco entre -"
   ]
  },
  {
   "cell_type": "code",
   "execution_count": 41,
   "metadata": {},
   "outputs": [],
   "source": [
    "df_urgencias_corregido['Tramo Edad']=df_urgencias_corregido['Tramo Edad'].str.replace(' - ','-')\n",
    "df_urgencias_corregido['Tramo Edad']=df_urgencias_corregido['Tramo Edad'].str.replace('- ','-')\n",
    "df_urgencias_corregido['Tramo Edad']=df_urgencias_corregido['Tramo Edad'].str.replace('= ','=')"
   ]
  },
  {
   "cell_type": "code",
   "execution_count": null,
   "metadata": {},
   "outputs": [],
   "source": [
    "df_urgencias_corregido['Tramo Edad']=df_urgencias_corregido['Tramo Edad'].str.replace(\"\\A4-11\", \"<=18\")\n",
    "df_urgencias_corregido['Tramo Edad']=df_urgencias_corregido['Tramo Edad'].str.replace(\"\\A12-17\", \"<=18\")\n",
    "df_urgencias_corregido['Tramo Edad']=df_urgencias_corregido['Tramo Edad'].str.replace(\"\\A0-3\", \"<=18\") \n",
    "\n",
    "df_urgencias_corregido['Tramo Edad']=df_urgencias_corregido['Tramo Edad'].str.replace(\"\\A18-24\", \"19-29\")\n",
    "df_urgencias_corregido['Tramo Edad']=df_urgencias_corregido['Tramo Edad'].str.replace(\"\\A25-29\", \"19-29\")\n",
    "\n",
    "df_urgencias_corregido['Tramo Edad']=df_urgencias_corregido['Tramo Edad'].str.replace(\"\\A30-34\", \"30-39\")\n",
    "df_urgencias_corregido['Tramo Edad']=df_urgencias_corregido['Tramo Edad'].str.replace(\"\\A35-39\", \"30-39\")\n",
    "\n",
    "df_urgencias_corregido['Tramo Edad']=df_urgencias_corregido['Tramo Edad'].str.replace(\"\\A40-44\", \"40-49\")\n",
    "df_urgencias_corregido['Tramo Edad']=df_urgencias_corregido['Tramo Edad'].str.replace(\"\\A44-49\", \"40-49\")\n",
    "df_urgencias_corregido['Tramo Edad']=df_urgencias_corregido['Tramo Edad'].str.replace(\"\\A45-49\", \"40-49\")\n",
    "\n",
    "df_urgencias_corregido['Tramo Edad']=df_urgencias_corregido['Tramo Edad'].str.replace(\"\\A50-54\", \"50-59\")\n",
    "df_urgencias_corregido['Tramo Edad']=df_urgencias_corregido['Tramo Edad'].str.replace(\"\\A55-59\", \"50-59\")\n",
    "\n",
    "df_urgencias_corregido['Tramo Edad']=df_urgencias_corregido['Tramo Edad'].str.replace(\"\\A60-64\", \"60-64\")\n",
    "\n",
    "df_urgencias_corregido['Tramo Edad']=df_urgencias_corregido['Tramo Edad'].str.replace(\"\\A65-69\", \">=65\")\n",
    "df_urgencias_corregido['Tramo Edad']=df_urgencias_corregido['Tramo Edad'].str.replace(\"\\A75-79\", \">=65\")\n",
    "df_urgencias_corregido['Tramo Edad']=df_urgencias_corregido['Tramo Edad'].str.replace(\"\\A80-84\", \">=65\")\n",
    "df_urgencias_corregido['Tramo Edad']=df_urgencias_corregido['Tramo Edad'].str.replace(\"\\A70-74\", \">=65\")\n",
    "df_urgencias_corregido['Tramo Edad']=df_urgencias_corregido['Tramo Edad'].str.replace(\"\\A>=85\", \">=65\")\n",
    "\n",
    "#df_demandas\n"
   ]
  },
  {
   "cell_type": "code",
   "execution_count": null,
   "metadata": {},
   "outputs": [],
   "source": [
    "'''Verificamos que ya no hay valores nulos'''\n",
    "print(df_urgencias_corregido['Tramo Edad'].value_counts())\n",
    "print(\"Los valores nulos que hay actualmente en este DataFrame son: \",df_urgencias_corregido['Tramo Edad'].isnull().sum())"
   ]
  },
  {
   "cell_type": "markdown",
   "metadata": {},
   "source": [
    "Los valores son: {19-29: 0, 30-39: 1, 40-49: 2, 50-59: 3, 60-64: 4, <=18: 5, >=65: 6}"
   ]
  },
  {
   "cell_type": "code",
   "execution_count": 44,
   "metadata": {},
   "outputs": [],
   "source": [
    "lista_rango_edad=df_urgencias_corregido['Tramo Edad'].unique()                  # Hay que revisar esto, porque no está ordenado y sería lo ideal\n",
    "lista_rango_edad.sort()\n",
    "mivalor = [ x for x in range(len(lista_rango_edad))]             ##  agregaremos una variable numérica para sustituir a los nombres de las cias\n",
    "mivalor\n",
    "lista_rango_edad=list(lista_rango_edad)                               ##  dejamos el valor cero por si en los datos a testear  hay algún NaN y \n",
    "\n",
    "Age_range_code = {k: v for k, v in zip(lista_rango_edad, mivalor)}   ##  sustituirlo por cero\n",
    "Age_range_code\n",
    "df_urgencias_corregido['Age_range_code']= df_urgencias_corregido['Tramo Edad'].map(Age_range_code)"
   ]
  },
  {
   "cell_type": "markdown",
   "metadata": {},
   "source": [
    "Vamos a dar un formato numérico a la __nacionalidad__ del usuario, siendo los valores: \n",
    "\n",
    "0 para Española, 1 para Extranjera"
   ]
  },
  {
   "cell_type": "code",
   "execution_count": null,
   "metadata": {},
   "outputs": [],
   "source": [
    "lista_nacionalidad=df_urgencias_corregido['Nacionalidad'].unique()\n",
    "lista_nacionalidad.sort()\n",
    "lista_nacionalidad\n",
    "mivalor = [ x for x in range(len(lista_nacionalidad))]             ##  agregaremos una variable numérica para sustituir a los nombres de las cias\n",
    "#mivalor    \n",
    "lista_nacionalidad=list(lista_nacionalidad)                               ##  dejamos el valor cero por si en los datos a testear  hay algún NaN y \n",
    "Nationality_code = {k: v for k, v in zip(lista_nacionalidad, mivalor)}   ##  sustituirlo por cero\n",
    "df_urgencias_corregido['Nationality_code']=df_urgencias_corregido['Nacionalidad'].map(Nationality_code)\n",
    "df_urgencias_corregido"
   ]
  },
  {
   "cell_type": "code",
   "execution_count": null,
   "metadata": {},
   "outputs": [],
   "source": [
    "df_urgencias_corregido['Sexo'].value_counts()             #Solo hay 1 dato vacio en el DataFrame por lo que lo sustituiremos por M, que es la moda"
   ]
  },
  {
   "cell_type": "code",
   "execution_count": 47,
   "metadata": {},
   "outputs": [],
   "source": [
    "df_urgencias_corregido['Sexo']=df_urgencias_corregido['Sexo'].mask(df_urgencias_corregido['Sexo'] == ' ').fillna('M')"
   ]
  },
  {
   "cell_type": "markdown",
   "metadata": {},
   "source": [
    "Vamos a dar un formato numérico al __sexo__ del usuario, siendo los valores: \n",
    "\n",
    "0 para H, 1 para M"
   ]
  },
  {
   "cell_type": "code",
   "execution_count": null,
   "metadata": {},
   "outputs": [],
   "source": [
    "lista_sexo=df_urgencias_corregido['Sexo'].unique()\n",
    "lista_sexo.sort()\n",
    "lista_sexo\n",
    "mivalor = [ x for x in range(len(lista_sexo))]             ##  agregaremos una variable numérica para sustituir a los nombres de las cias\n",
    "#mivalor    \n",
    "lista_sexo=list(lista_sexo)                               ##  dejamos el valor cero por si en los datos a testear  hay algún NaN y \n",
    "\n",
    "Sex_code = {k: v for k, v in zip(lista_sexo, mivalor)}   ##  sustituirlo por cero\n",
    "\n",
    "df_urgencias_corregido['Sex_code']= df_urgencias_corregido['Sexo'].map(Sex_code)\n",
    "df_urgencias_corregido"
   ]
  },
  {
   "cell_type": "markdown",
   "metadata": {},
   "source": [
    "Vamos a dar un formato de fecha año y trimestre a los valores de 'Fecha Demanda' para poder ver qué evolución tienen los datos en el tiempo"
   ]
  },
  {
   "cell_type": "code",
   "execution_count": null,
   "metadata": {},
   "outputs": [],
   "source": [
    "df_urgencias_corregido['Fecha Cita'] = pd.to_datetime(df_urgencias_corregido['Fecha Cita'], dayfirst=True)\n",
    "\n",
    "df_urgencias_corregido['year'] = df_urgencias_corregido['Fecha Cita'].dt.year\n",
    "#df_demandas['month'] = df_demandas['Timestamp'].dt.month\n",
    "df_urgencias_corregido['Quarteryear'] = df_urgencias_corregido['Fecha Cita'].dt.quarter\n",
    "df_urgencias_corregido"
   ]
  },
  {
   "cell_type": "code",
   "execution_count": 53,
   "metadata": {},
   "outputs": [],
   "source": [
    "df_urgencias_corregido_prueba=df_urgencias_corregido.drop(['Código Centro'],axis=1)"
   ]
  },
  {
   "cell_type": "code",
   "execution_count": 54,
   "metadata": {},
   "outputs": [],
   "source": [
    "col = df_urgencias_corregido_prueba.pop('Código Tipo Supuesto Urgente')\n",
    "df_urgencias_corregido_prueba.insert(loc= 0 , column= 'Código Tipo Supuesto Urgente', value= col)"
   ]
  },
  {
   "cell_type": "code",
   "execution_count": 55,
   "metadata": {},
   "outputs": [
    {
     "name": "stdout",
     "output_type": "stream",
     "text": [
      "<class 'pandas.core.frame.DataFrame'>\n",
      "RangeIndex: 35280 entries, 0 to 35279\n",
      "Data columns (total 16 columns):\n",
      " #   Column                        Non-Null Count  Dtype         \n",
      "---  ------                        --------------  -----         \n",
      " 0   Código Tipo Supuesto Urgente  35280 non-null  float64       \n",
      " 1   Centro                        35280 non-null  object        \n",
      " 2   Código Distrito Centro        35280 non-null  int64         \n",
      " 3   Distrito Centro               35280 non-null  object        \n",
      " 4   Tramo Edad                    35280 non-null  object        \n",
      " 5   Nacionalidad                  35280 non-null  object        \n",
      " 6   Sexo                          35280 non-null  object        \n",
      " 7   Código Tipo Atención          35280 non-null  int64         \n",
      " 8   Tipo Atención                 35280 non-null  object        \n",
      " 9   Tipo Supuesto Urgente         35280 non-null  object        \n",
      " 10  Fecha Cita                    35280 non-null  datetime64[ns]\n",
      " 11  Age_range_code                35280 non-null  int64         \n",
      " 12  Nationality_code              35280 non-null  int64         \n",
      " 13  Sex_code                      35280 non-null  int64         \n",
      " 14  year                          35280 non-null  int64         \n",
      " 15  Quarteryear                   35280 non-null  int64         \n",
      "dtypes: datetime64[ns](1), float64(1), int64(7), object(7)\n",
      "memory usage: 4.3+ MB\n"
     ]
    }
   ],
   "source": [
    "df_urgencias_corregido_prueba.info()"
   ]
  },
  {
   "cell_type": "code",
   "execution_count": 56,
   "metadata": {},
   "outputs": [],
   "source": [
    "df_urgencias_corregido_prueba.to_csv('E:\\Bootcamp_22\\Javier\\Repositorios\\Machine_Learning\\data\\Outcomes\\df_urgencias_corregido_prueba.csv',header=True,index=False)"
   ]
  },
  {
   "cell_type": "markdown",
   "metadata": {},
   "source": [
    "### 6 - Exploratory Data Analysis"
   ]
  },
  {
   "cell_type": "markdown",
   "metadata": {},
   "source": [
    "Vamos a hacer unas gráficas para valorar los datos que disponemos.\n",
    "\n",
    "Más gráficas en __Tableau__"
   ]
  },
  {
   "cell_type": "code",
   "execution_count": 57,
   "metadata": {},
   "outputs": [
    {
     "data": {
      "image/png": "[encoded data removed]",
      "text/plain": [
       "<Figure size 1080x720 with 2 Axes>"
      ]
     },
     "metadata": {
      "needs_background": "light"
     },
     "output_type": "display_data"
    }
   ],
   "source": [
    "plt.figure(figsize=(15,10))\n",
    "sns.heatmap(df_urgencias_corregido_prueba.corr(), annot=True);"
   ]
  },
  {
   "cell_type": "markdown",
   "metadata": {},
   "source": [
    "Se observa que hay cierta correlación entre los parámetros de **year**, **Nationality_code**,**Código Distrito Centro**.\n",
    "\n",
    "También se observa que no hay aparente correlación con los parámetros **Código Tipo Atención**,**Age_range_code** y **Sex_code**.\n",
    "\n",
    "**year** también parece tener correlación con otros parámetros como **Nationality_code** o **Código Distrito centro**.\n",
    "\n",
    "**Nationality code** y **Age_range_code** parece que también tiene una cierta correlación."
   ]
  },
  {
   "cell_type": "code",
   "execution_count": 58,
   "metadata": {},
   "outputs": [
    {
     "data": {
      "image/png": "[encoded data removed]",
      "text/plain": [
       "<Figure size 1440x1440 with 72 Axes>"
      ]
     },
     "metadata": {
      "needs_background": "light"
     },
     "output_type": "display_data"
    }
   ],
   "source": [
    "sns.pairplot(df_urgencias_corregido_prueba);"
   ]
  },
  {
   "cell_type": "markdown",
   "metadata": {},
   "source": [
    "En este **pairplot** se ve claramente que los valores no son continuos, sino discretos.\n",
    "\n",
    "Hay que tener esto en cuenta a la hora de realizar cualquier análisis y predicción, ya que habrá que hacer __clasificación__."
   ]
  },
  {
   "cell_type": "code",
   "execution_count": 59,
   "metadata": {},
   "outputs": [
    {
     "data": {
      "text/plain": [
       "<Figure size 1080x720 with 0 Axes>"
      ]
     },
     "metadata": {},
     "output_type": "display_data"
    },
    {
     "data": {
      "image/png": "[encoded data removed]",
      "text/plain": [
       "<Figure size 360x360 with 1 Axes>"
      ]
     },
     "metadata": {
      "needs_background": "light"
     },
     "output_type": "display_data"
    }
   ],
   "source": [
    "plt.figure(figsize=(15,10))\n",
    "sns.displot(df_urgencias_corregido_prueba['Código Tipo Supuesto Urgente'])\n",
    "plt.xticks(np.arange(10,50,step=10));"
   ]
  },
  {
   "cell_type": "markdown",
   "metadata": {},
   "source": [
    "### 7.- My first Model (linearRegression)"
   ]
  },
  {
   "cell_type": "code",
   "execution_count": 60,
   "metadata": {},
   "outputs": [],
   "source": [
    "X=df_urgencias_corregido_prueba[['Código Distrito Centro','Age_range_code','Nationality_code','Sex_code','year']]\n",
    "y=df_urgencias_corregido_prueba['Código Tipo Supuesto Urgente']"
   ]
  },
  {
   "cell_type": "code",
   "execution_count": null,
   "metadata": {},
   "outputs": [],
   "source": [
    "lin_reg = LinearRegression()   \n",
    "X_train, X_test, y_train, y_test = train_test_split(X, y, test_size=0.25, random_state=0)\n",
    "lin_reg.fit(X_train, y_train)                           #   Entrenas/generas el modelo para determinar los coeficientes\n",
    "\n",
    "print(\"Estos son los datos del test y del target:\\n-----\")\n",
    "print(\"Total features shape:\", X.shape)\n",
    "print(\"Train features shape:\", X_train.shape)\n",
    "print(\"Train target shape:\", y_train.shape)\n",
    "print(\"Test features shape:\", X_test.shape)\n",
    "print(\"Test target shape:\", y_test.shape)  \n",
    "\n",
    "#    print(\"Estos son los datos del valor de y en x=0 y de las pendientes de cada gradiente de las variables:\\n-----\")\n",
    "#    print(lin_reg.intercept_)\n",
    "#    print(lin_reg.coef_)\n",
    "coeff_df = pd.DataFrame(lin_reg.coef_,\n",
    "                            X.columns,\n",
    "                            columns=['Coefficient'])\n",
    "print(\"-----\\nEstos son las pendientes de cada gradiente visto en un Dataframe:\")\n",
    "print(coeff_df)\n",
    "\n",
    "predictions = lin_reg.predict(X_test)                   #   Determino los resultados que deberían de dar con los valores guardados para\n",
    "print(\"-----\\nEl factor de correlacion de la regresión es: \",lin_reg.score(X_test, y_test))\n",
    "print(\"-----\\nErrores de las predicciones:\")\n",
    "print('MAE:', metrics.mean_absolute_error(y_test, predictions))\n",
    "print('MAPE:', metrics.mean_absolute_percentage_error(y_test, predictions))\n",
    "print('MSE:', metrics.mean_squared_error(y_test, predictions))\n",
    "print('RMSE:', np.sqrt(metrics.mean_squared_error(y_test, predictions)))\n",
    "print(\"-----\\nErrores de los tests:\")\n",
    "print('MAE:', metrics.mean_absolute_error(y_train, lin_reg.predict(X_train)))\n",
    "print('MAPE:', metrics.mean_absolute_percentage_error(y_train, lin_reg.predict(X_train)))\n",
    "print('MSE:', metrics.mean_squared_error(y_train, lin_reg.predict(X_train)))\n",
    "print('RMSE:', np.sqrt(metrics.mean_squared_error(y_train, lin_reg.predict(X_train))))\n",
    "\n",
    "print(\"Esta es la importancia de las variables:\\n-----\")\n",
    "features = pd.DataFrame(lin_reg.coef_, X_train.columns, columns=['coefficient'])\n",
    "print(features.head().sort_values('coefficient', ascending=False))"
   ]
  },
  {
   "cell_type": "markdown",
   "metadata": {},
   "source": [
    "Se observa en los datos que, efectivamente, un **módelo de regresión lineal** no es válido para este tipo de predicciones, ya que el coeficiente de correlación de la regresión es 0.268."
   ]
  },
  {
   "cell_type": "markdown",
   "metadata": {},
   "source": [
    "## CONCLUSIÓN:"
   ]
  },
  {
   "cell_type": "markdown",
   "metadata": {},
   "source": []
  },
  {
   "cell_type": "markdown",
   "metadata": {},
   "source": []
  }
 ],
 "metadata": {
  "kernelspec": {
   "display_name": "Python 3.7.4 64-bit",
   "language": "python",
   "name": "python3"
  },
  "language_info": {
   "codemirror_mode": {
    "name": "ipython",
    "version": 3
   },
   "file_extension": ".py",
   "mimetype": "text/x-python",
   "name": "python",
   "nbconvert_exporter": "python",
   "pygments_lexer": "ipython3",
   "version": "3.7.4"
  },
  "orig_nbformat": 4,
  "vscode": {
   "interpreter": {
    "hash": "c0e4a4af33acb5d51fe8962d9e2e7588108ae49a894b6d1e35c2101e79360239"
   }
  }
 },
 "nbformat": 4,
 "nbformat_minor": 2
}
