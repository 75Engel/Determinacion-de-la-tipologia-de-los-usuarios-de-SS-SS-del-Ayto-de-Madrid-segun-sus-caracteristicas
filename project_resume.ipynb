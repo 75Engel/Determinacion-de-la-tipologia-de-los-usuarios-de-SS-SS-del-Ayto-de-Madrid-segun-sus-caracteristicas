{
 "cells": [
  {
   "cell_type": "markdown",
   "metadata": {},
   "source": [
    "# TITLE\n",
    "\n",
    "\"SOBRECARGA DE TRABAJO EN LOS CENTROS DE SERVICIOS SOCIALES EN EL AYUNTAMIENTO DE MADRID\" "
   ]
  },
  {
   "cell_type": "markdown",
   "metadata": {},
   "source": [
    "## SUBJECT:\n",
    "\n",
    "\"VALORAR LA SOBREEXPLOTACION DE LOS TRABAJADORES SOCIALES EN EPOCA POST-COVID\"\n",
    "\n",
    "Los datos a valorar son los del año 2021, que es un año completo.\n",
    "\n",
    "Sería interesante ver los datos en los años 2019 y 2020 para valorar como ha ido evolucionando en estos años"
   ]
  },
  {
   "cell_type": "markdown",
   "metadata": {},
   "source": [
    "### HYPOTHESIS:\n",
    "hipotesis_1 = \"Hay mucha demanda de ayudas y servicios sociales en determinados distritos (valorar si es en todos) y poco personal para absorber esta demanda\"\n",
    "\n",
    "hipotesis_2 = \"Valorar si hay suficientes recursos no humanos para atender las demandas de los usuarios\""
   ]
  },
  {
   "cell_type": "markdown",
   "metadata": {},
   "source": [
    "### 1.- Data Collection:\n",
    "\n",
    "La fuente principal de todos los datos obtenidos ha sido a través de las páginas del ayuntamiento de Madrid (MUNIMADRID y PORTAL DE DATOS ABIERTOS DEL AYUNTAMIENTO DE MADRID)\n"
   ]
  },
  {
   "cell_type": "code",
   "execution_count": null,
   "metadata": {},
   "outputs": [],
   "source": [
    "# guarda en variables los datasets y su fuente\n",
    "# df_1 = pd.DataFrame()\n",
    "# URL_indice_vulnerabilidad_rentas=\"https://datos.madrid.es/sites/v/index.jsp?vgnextoid=bbd71fa5c48a0810VgnVCM2000001f4a900aRCRD&vgnextchannel=374512b9ace9f310VgnVCM100000171f5a0aRCRD\"\"\n",
    "##  DE ESTE VINCULO (Esfera de Economía y Empleo por Distritos y Barrios) SE EXTRAEN DATOS DE RENTA MEDIA POR HOGAR\n",
    "\n",
    "#df_2 = pd.DataFrame()\n",
    "# Servicios Sociales Ayto\n",
    "## ESTE ES UN FICHERO EXTRAIDO DE DATOS.MADRID, DEL CUAL NO TENGO VINCULO. EN EL SE DETALLA EL NUMERO DE TRABAJADORES POR CENTRO Y DISTRITO\n",
    "\n",
    "#df_3 = pd.DataFrame()\n",
    "# URL_personas_atendidas=\"https://datos.madrid.es/portal/site/egob/menuitem.c05c1f754a33a9fbe4b2e4b284f1a5a0/?vgnextoid=8c936c7fe412b610VgnVCM2000001f4a900aRCRD&vgnextchannel=374512b9ace9f310VgnVCM100000171f5a0aRCRD&vgnextfmt=default\"\n",
    "# SE DETALLAN LAS PERSONAS ATENDIDAS\n",
    "\n",
    "#df_4 = pd.DataFrame()\n",
    "# URL_citas_proporcionadas=\"https://datos.madrid.es/portal/site/egob/menuitem.c05c1f754a33a9fbe4b2e4b284f1a5a0/?vgnextoid=73ee23d869578610VgnVCM2000001f4a900aRCRD&vgnextchannel=374512b9ace9f310VgnVCM100000171f5a0aRCRD&vgnextfmt=default\"\n",
    "# SE DETALLAN LAS CITAS QUE SE HAN DADO A USUARIOS, RELACIONADA CON EL DF_3\n",
    "\n",
    "#df_5 = pd.DataFrame()\n",
    "# URL_demandas_de_servicio=\"https://datos.madrid.es/portal/site/egob/menuitem.c05c1f754a33a9fbe4b2e4b284f1a5a0/?vgnextoid=40ab4e8b0327d610VgnVCM1000001d4a900aRCRD&vgnextchannel=374512b9ace9f310VgnVCM100000171f5a0aRCRD&vgnextfmt=default\"\n",
    "# SOLICITUDES DE PROCESOS SOLICITADOS POR LOS USUARIOS\n",
    "\n",
    "#df_6 = pd.DataFrame()\n",
    "# URL_urgencias_atendidas=\"https://datos.madrid.es/portal/site/egob/menuitem.c05c1f754a33a9fbe4b2e4b284f1a5a0/?vgnextoid=0b006dace9578610VgnVCM1000001d4a900aRCRD&vgnextchannel=374512b9ace9f310VgnVCM100000171f5a0aRCRD&vgnextfmt=default\"\n",
    "# URGENCIAS ATENDIDAS EN LOS CENTROS. ESTAS URGENCIAS SON DE LA SIGUIENTES TIPOLOGIAS \n",
    "# Abandono\n",
    "# Alojamiento/Vivienda\n",
    "# Desprotección social problema salud\n",
    "# Desprotección socio-familiar\n",
    "# Malos tratos\n",
    "\n",
    "#df_7 = pd.DataFrame()\n",
    "# URL: http://www-2.munimadrid.es/CSE6/control/mostrarDatos\n",
    "## ESTE ES UN FICHERO EXTRAIDO DE MUNIMADRID, EL CUAL ES UN FICHERO DE EXCEL DONDE EXTRAIGO LA POBLACION DE CADA DISTRITO\n",
    "\n",
    "\n",
    "# OTROS POSIBLES DF QUE PUDIERA NECESITAR:\n",
    "#URL_datos_abiertos_madrid=\"https://datos.madrid.es/portal/site/egob/menuitem.9e1e2f6404558187cf35cf3584f1a5a0/?vgnextoid=374512b9ace9f310VgnVCM100000171f5a0aRCRD&vgnextchannel=374512b9ace9f310VgnVCM100000171f5a0aRCRD&vgnextfmt=default\"\n",
    "#URL_centros_sociales=\"https://datos.madrid.es/portal/site/egob/menuitem.c05c1f754a33a9fbe4b2e4b284f1a5a0/?vgnextoid=7c123e08dafc8410VgnVCM1000000b205a0aRCRD&vgnextchannel=374512b9ace9f310VgnVCM100000171f5a0aRCRD&vgnextfmt=default\"\n",
    "#URL_ayudas_sociales=\"https://datos.madrid.es/portal/site/egob/menuitem.c05c1f754a33a9fbe4b2e4b284f1a5a0/?vgnextoid=00937b777f8ea610VgnVCM2000001f4a900aRCRD&vgnextchannel=374512b9ace9f310VgnVCM100000171f5a0aRCRD&vgnextfmt=default\"\n",
    "#URL_panel_indicador=\"https://datos.madrid.es/portal/site/egob/menuitem.c05c1f754a33a9fbe4b2e4b284f1a5a0/?vgnextoid=71359583a773a510VgnVCM2000001f4a900aRCRD&vgnextchannel=374512b9ace9f310VgnVCM100000171f5a0aRCRD&vgnextfmt=default\"\n",
    "#URL_ranking_vulnerabilidad=\"https://datos.madrid.es/portal/site/egob/menuitem.c05c1f754a33a9fbe4b2e4b284f1a5a0/?vgnextoid=d029ed1e80d38610VgnVCM2000001f4a900aRCRD&vgnextchannel=374512b9ace9f310VgnVCM100000171f5a0aRCRD&vgnextfmt=default\"\n"
   ]
  },
  {
   "cell_type": "markdown",
   "metadata": {},
   "source": [
    "### 2.- Data Extraction from different Datasets and storage in data\\Outcomes"
   ]
  },
  {
   "cell_type": "markdown",
   "metadata": {},
   "source": [
    "### 3.- Featuring Engineering"
   ]
  },
  {
   "cell_type": "markdown",
   "metadata": {},
   "source": [
    "### 4.- Exploratory Data Analysis"
   ]
  },
  {
   "cell_type": "markdown",
   "metadata": {},
   "source": [
    "### 5.- Graphics"
   ]
  },
  {
   "cell_type": "markdown",
   "metadata": {},
   "source": [
    "## CONCLUSIÓN:"
   ]
  },
  {
   "cell_type": "markdown",
   "metadata": {},
   "source": []
  },
  {
   "cell_type": "markdown",
   "metadata": {},
   "source": []
  }
 ],
 "metadata": {
  "kernelspec": {
   "display_name": "Python 3.7.4 64-bit",
   "language": "python",
   "name": "python3"
  },
  "language_info": {
   "name": "python",
   "version": "3.7.4"
  },
  "orig_nbformat": 4,
  "vscode": {
   "interpreter": {
    "hash": "c0e4a4af33acb5d51fe8962d9e2e7588108ae49a894b6d1e35c2101e79360239"
   }
  }
 },
 "nbformat": 4,
 "nbformat_minor": 2
}
