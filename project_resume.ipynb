{
 "cells": [
  {
   "cell_type": "markdown",
   "metadata": {},
   "source": [
    "# TITLE\n",
    "\n",
    "\"ESTIMACION SOBRE LAS NECESIDADES DEL AREA DE SERVICIOS SOCIALES DEL AYUNTAMIENTO DE MADRID\" "
   ]
  },
  {
   "cell_type": "markdown",
   "metadata": {},
   "source": [
    "## SUBJECT:\n",
    "\n",
    "\"HACER UNA ESTIMACION GLOBAL Y PARCIAL DE LAS NECESIDADES A ATENDER EN EL AREA DE SERVICIOS SOCIALES DEL AYUNTAMIENTO DE MADRID\"\n",
    "\n",
    "Se tomarán los datos de los últimos años y se realizará una estimación global para el año XXXX y por trimestre."
   ]
  },
  {
   "cell_type": "markdown",
   "metadata": {},
   "source": [
    "### HYPOTHESIS: (ESTO HAY QUE HACERLO)\n",
    "hipotesis_1 = \"Hay mucha demanda de ayudas y servicios sociales en determinados distritos (valorar si es en todos) y poco personal para absorber esta demanda\"\n",
    "\n",
    "hipotesis_2 = \"Valorar si hay suficientes recursos no humanos para atender las demandas de los usuarios\""
   ]
  },
  {
   "cell_type": "code",
   "execution_count": 1,
   "metadata": {},
   "outputs": [],
   "source": [
    "\"\"\"\n",
    "IMPORTS\n",
    "\"\"\"\n",
    "import pandas as pd\n",
    "import xlrd\n",
    "import seaborn as sns\n",
    "import matplotlib.pyplot as plt\n",
    "import squarify\n",
    "import folium \n",
    "from folium import plugins\n",
    "import ipywidgets\n",
    "import geocoder\n",
    "import geopy\n",
    "import numpy as np\n",
    "from vega_datasets import data as vds\n",
    "from branca.element import Figure"
   ]
  },
  {
   "cell_type": "markdown",
   "metadata": {},
   "source": [
    "### 1.- Data Collection:\n",
    "\n",
    "La fuente principal de todos los datos obtenidos ha sido a través de las páginas del ayuntamiento de Madrid (MUNIMADRID y PORTAL DE DATOS ABIERTOS DEL AYUNTAMIENTO DE MADRID)\n"
   ]
  },
  {
   "cell_type": "code",
   "execution_count": null,
   "metadata": {},
   "outputs": [],
   "source": [
    "# guarda en variables los datasets y su fuente\n",
    "\n",
    "# df_demandas = pd.DataFrame()\n",
    "# URL_demandas_de_servicio=\"https://datos.madrid.es/portal/site/egob/menuitem.c05c1f754a33a9fbe4b2e4b284f1a5a0/?vgnextoid=40ab4e8b0327d610VgnVCM1000001d4a900aRCRD&vgnextchannel=374512b9ace9f310VgnVCM100000171f5a0aRCRD&vgnextfmt=default\"\n",
    "# Solicitudes de procesos solicitados por los usuarios\n",
    "\n",
    "# df_urgencias = pd.DataFrame()\n",
    "# URL_urgencias_atendidas=\"https://datos.madrid.es/portal/site/egob/menuitem.c05c1f754a33a9fbe4b2e4b284f1a5a0/?vgnextoid=0b006dace9578610VgnVCM1000001d4a900aRCRD&vgnextchannel=374512b9ace9f310VgnVCM100000171f5a0aRCRD&vgnextfmt=default\"\n",
    "# URGENCIAS ATENDIDAS EN LOS CENTROS. ESTAS URGENCIAS SON DE LA SIGUIENTES TIPOLOGIAS \n",
    "# Abandono\n",
    "# Alojamiento/Vivienda\n",
    "# Desprotección social problema salud\n",
    "# Desprotección socio-familiar\n",
    "# Malos tratos\n",
    "\n",
    "# df_centros_sociales = pd.DataFrame()\n",
    "# URL_centros_sociales=\"https://datos.madrid.es/portal/site/egob/menuitem.c05c1f754a33a9fbe4b2e4b284f1a5a0/?vgnextoid=7c123e08dafc8410VgnVCM1000000b205a0aRCRD&vgnextchannel=374512b9ace9f310VgnVCM100000171f5a0aRCRD&vgnextfmt=default\"\n",
    "# Listado con geoposicionamiento de los diferentes centros sociales que se encuentran en Madrid, tanto del ayuntamiento como otros que no son del ayuntamiento (por ejemplo el Centro de Atención Social del \"Casino de la Reina\").\n"
   ]
  },
  {
   "cell_type": "markdown",
   "metadata": {},
   "source": [
    "### 2.- Data Extraction from different Datasets and storage in data\\Outcomes"
   ]
  },
  {
   "cell_type": "markdown",
   "metadata": {},
   "source": [
    "Vamos a tomar los datos de los años __desde el 2019 al 2021__, ya que los datos a día de hoy de 2022 están actualizados solo hasta abril, por lo que podría provocar errores en la preparación de los módelos."
   ]
  },
  {
   "cell_type": "code",
   "execution_count": null,
   "metadata": {},
   "outputs": [],
   "source": [
    "df_2021=pd.read_csv(\"E:\\Bootcamp_22\\Javier\\Repositorios\\Machine_Learning\\data\\Incomes\\servicios_sociales_demandas_2021.csv\",sep=';',encoding='ISO-8859-1',index_col='Secuencia')\n",
    "\n",
    "df_2020=pd.read_csv(\"E:\\Bootcamp_22\\Javier\\Repositorios\\Machine_Learning\\data\\Incomes\\servicios_sociales_demandas_2020.csv\",sep=';',encoding='utf-8',index_col='Secuencia')\n",
    "\n",
    "df_2019=pd.read_csv(\"E:\\Bootcamp_22\\Javier\\Repositorios\\Machine_Learning\\data\\Incomes\\servicios_sociales_demandas_2019.csv\",sep=';',encoding='ISO-8859-1',index_col='Secuencia')"
   ]
  },
  {
   "cell_type": "code",
   "execution_count": null,
   "metadata": {},
   "outputs": [],
   "source": [
    "df_demandas=pd.concat([df_2021,df_2020,df_2019], ignore_index=True)\n",
    "df_demandas"
   ]
  },
  {
   "cell_type": "code",
   "execution_count": null,
   "metadata": {},
   "outputs": [],
   "source": [
    "df_demandas.to_csv('E:\\Bootcamp_22\\Javier\\Repositorios\\Machine_Learning\\data\\Outcomes\\df_demadas.csv',header=True,index=False)"
   ]
  },
  {
   "cell_type": "markdown",
   "metadata": {},
   "source": [
    "### 3.- Featuring Engineering"
   ]
  },
  {
   "cell_type": "markdown",
   "metadata": {},
   "source": [
    "### 4.- Exploratory Data Analysis"
   ]
  },
  {
   "cell_type": "markdown",
   "metadata": {},
   "source": [
    "### 5.- Graphics"
   ]
  },
  {
   "cell_type": "markdown",
   "metadata": {},
   "source": [
    "## CONCLUSIÓN:"
   ]
  },
  {
   "cell_type": "markdown",
   "metadata": {},
   "source": []
  },
  {
   "cell_type": "markdown",
   "metadata": {},
   "source": []
  }
 ],
 "metadata": {
  "kernelspec": {
   "display_name": "Python 3.7.4 64-bit",
   "language": "python",
   "name": "python3"
  },
  "language_info": {
   "codemirror_mode": {
    "name": "ipython",
    "version": 3
   },
   "file_extension": ".py",
   "mimetype": "text/x-python",
   "name": "python",
   "nbconvert_exporter": "python",
   "pygments_lexer": "ipython3",
   "version": "3.7.4"
  },
  "orig_nbformat": 4,
  "vscode": {
   "interpreter": {
    "hash": "c0e4a4af33acb5d51fe8962d9e2e7588108ae49a894b6d1e35c2101e79360239"
   }
  }
 },
 "nbformat": 4,
 "nbformat_minor": 2
}
