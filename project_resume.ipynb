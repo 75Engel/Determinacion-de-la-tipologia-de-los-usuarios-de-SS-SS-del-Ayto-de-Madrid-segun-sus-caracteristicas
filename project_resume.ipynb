{
 "cells": [
  {
   "cell_type": "markdown",
   "metadata": {},
   "source": [
    "# TITLE\n",
    "\n",
    "\"ESTIMACION SOBRE LAS NECESIDADES DEL AREA DE SERVICIOS SOCIALES DEL AYUNTAMIENTO DE MADRID EN RELACION CON LAS URGENCIAS DE SERVICIOS\" "
   ]
  },
  {
   "cell_type": "markdown",
   "metadata": {},
   "source": [
    "## SUBJECT:\n",
    "\n",
    "\"REALIZAR UNA CLASIFICACIÓN EN FUNCIÓN DE LAS CARACTERÍSTICAS MÁS IMPORTANTES DE LOS DATASETS DEL AYTO. DE MADRID DE LAS URGENCIAS ATENDIDAS EN LOS CENTROS DE ATENCIÓN PRIMARIA PARA TIPIFICAR EL TIPO DE AYUDA DE URGENCIA QUE NECESITARÁN.\n",
    "\n",
    "CON ESTO PRETENDEMOS QUE AL LLEGAR UNA SOLICITUD DE URGENCIA A UN CENTRO PUEDAN IR PREPARANDO LOS RECURSOS HUMANOS Y NO HUMANOS PARA AGILIZAR TODOS LOS PROCESOS REQUERIDOS EN CADA TIPO DE AYUDA.\"\n",
    "\n",
    "\"HACER UNA ESTIMACION GLOBAL Y PARCIAL DE LAS NECESIDADES A ATENDER EN EL AREA DE SERVICIOS SOCIALES DEL AYUNTAMIENTO DE MADRID\"\n",
    "\n",
    "Se tomarán los datos de los últimos años y se realizará un estudio tomando como referencia *julio de 2021*, ya que no hay datos posteriores."
   ]
  },
  {
   "cell_type": "markdown",
   "metadata": {},
   "source": [
    "## HYPOTHESIS:\n",
    "\n",
    "**hipótesis 1** = \"Es posible establecer un patrón de usuarios que van a solicitar alguna urgencia para poder atender mejor y más eficientemente modo a éstos.\"\n",
    "\n",
    "**hipótesis 2** = \"Es necesario establecer algún tipo de estudio temporal que permita optimizar los recursos del Area de Servicios Sociales?\""
   ]
  },
  {
   "cell_type": "markdown",
   "metadata": {},
   "source": [
    "## 1.- Data Collection:\n",
    "\n",
    "La fuente principal de todos los datos obtenidos ha sido a través de las páginas del ayuntamiento de Madrid:\n",
    "\n",
    "MUNIMADRID y PORTAL DE DATOS ABIERTOS DEL AYUNTAMIENTO DE MADRID)"
   ]
  },
  {
   "cell_type": "markdown",
   "metadata": {},
   "source": [
    "URL_urgencias_atendidas = <https://datos.madrid.es/portal/site/egob/menuitem.c05c1f754a33a9fbe4b2e4b284f1a5a0/?vgnextoid=0b006dace9578610VgnVCM1000001d4a900aRCRD&vgnextchannel=374512b9ace9f310VgnVCM100000171f5a0aRCRD&vgnextfmt=default>\n",
    "\n",
    "Las urgencias que se atienden en el Ayuntamiento son 5 y están clasificadas del siguiente modo:\n",
    "\n",
    "  >Malos tratos:                            --      Código: 10\n",
    "  >\n",
    "  >Abandono                                 --      Código: 20\n",
    "  >\n",
    "  >Alojamiento/Vivienda                     --      Código: 30\n",
    "  >\n",
    "  >Desprotección social problema salud      --      Código: 40\n",
    "  >\n",
    "  >Desprotección socio-familiar             --      Código: 50\n",
    "\n",
    "\n"
   ]
  },
  {
   "cell_type": "code",
   "execution_count": 1,
   "metadata": {},
   "outputs": [],
   "source": [
    "'''\n",
    "Para este projecto usaremos las siguientes librerías:\n",
    "'''\n",
    "import numpy as np\n",
    "import pandas as pd\n",
    "import seaborn as sns\n",
    "import matplotlib.pyplot as plt\n",
    "import os\n",
    "import pickle \n",
    "'''\n",
    "También nos harán falta las siguientes librerías de sklearn\n",
    "'''\n",
    "from sklearn.tree import DecisionTreeClassifier\n",
    "from sklearn.ensemble import RandomForestClassifier,AdaBoostClassifier,GradientBoostingClassifier,BaggingClassifier\n",
    "from sklearn.model_selection import train_test_split\n",
    "from sklearn.model_selection import GridSearchCV\n",
    "from sklearn.pipeline import Pipeline\n",
    "from sklearn.inspection import permutation_importance\n",
    "from sklearn.metrics import accuracy_score,precision_score,recall_score,roc_auc_score,f1_score,confusion_matrix"
   ]
  },
  {
   "cell_type": "markdown",
   "metadata": {},
   "source": [
    "## 2.- Data Extraction from different Datasets and storage in data\\Outcomes"
   ]
  },
  {
   "cell_type": "markdown",
   "metadata": {},
   "source": [
    "Vamos a tomar los datos de los años __desde el 2018 al 2021__.\n",
    "\n",
    "Los datos de este último año no están completos. Solo hay hasta el mes de Julio."
   ]
  },
  {
   "cell_type": "code",
   "execution_count": 2,
   "metadata": {},
   "outputs": [],
   "source": [
    "df_2021=pd.read_csv(\"E:\\Bootcamp_22\\Javier\\Repositorios\\Machine_Learning\\data\\Incomes\\servicios_sociales_urgencias_2021.csv\",sep=';',encoding='ISO-8859-1',index_col='Secuencia')   \n",
    "#Este  dataset solo contine información hasta julio de 2021\n",
    "df_2020=pd.read_csv(\"E:\\Bootcamp_22\\Javier\\Repositorios\\Machine_Learning\\data\\Incomes\\servicios_sociales_urgencias_2020.csv\",sep=';',encoding='utf-8',index_col='Secuencia')\n",
    "\n",
    "df_2019=pd.read_csv(\"E:\\Bootcamp_22\\Javier\\Repositorios\\Machine_Learning\\data\\Incomes\\servicios_sociales_urgencias_2019.csv\",sep=';',encoding='ISO-8859-1',index_col='Secuencia')\n",
    "\n",
    "df_2018=pd.read_csv(\"E:\\Bootcamp_22\\Javier\\Repositorios\\Machine_Learning\\data\\Incomes\\servicios_sociales_urgencias_2018.csv\",sep=';',encoding='ISO-8859-1',index_col='Secuencia')"
   ]
  },
  {
   "cell_type": "markdown",
   "metadata": {},
   "source": [
    "## 3.- Featuring Engineering"
   ]
  },
  {
   "cell_type": "markdown",
   "metadata": {},
   "source": [
    "En los diferentes Datasets que hemos almacenado vamos a realizar un reagrupamiento en la columna de **Tramo Edad** para que los menores de 18 años estén todos juntos, los mayores de 65 años también los agruparemos conjutamente y cada tramo de edad vaya de 10 años en 10 años.\n",
    "\n",
    "En la columna de **Sexo** también se observa que hay unos pocos registros vacios, que los rellenaremos con la moda.\n",
    "\n",
    "Vamos a extraer de la columna **Fecha Cita** el año del registro para valorarlo independientemente.\n",
    "\n",
    "El mayor problema que nos encontramos en los Datasets es la presencia de NaNs en las columnas de **Tipo Supuesto Urgente** y **Codigo Tipo Supuesto Urgente**, que son nuestra ***variable target***.\n",
    "\n",
    "El total de NaNs existentes es de 2184, que procederemos a rellenar Dataset por Dataset valorando los datos de media y mediana de cada uno y observando los datos antes de la modificación y después  para ver si ha habido algún tipo de variación.\n",
    "\n",
    "Tras estas operaciones vamos a realizar un mapeo en las columnas *Sexo*, *Nacionalidad* y *Tramo Edad*, con el siguiente codigo tipo (en este caso para Tramo Edad):"
   ]
  },
  {
   "cell_type": "code",
   "execution_count": null,
   "metadata": {},
   "outputs": [],
   "source": [
    "#lista_rango_edad=df['Tramo Edad'].unique()                 \n",
    "#lista_rango_edad.sort()\n",
    "#mivalor = [ x for x in range(len(lista_rango_edad))]            \n",
    "#lista_rango_edad=list(lista_rango_edad)                       \n",
    "\n",
    "#Age_range_code = {k: v for k, v in zip(lista_rango_edad, mivalor)} \n",
    "#Age_range_code\n",
    "#df['Age_range_code']= df['Tramo Edad'].map(Age_range_code)"
   ]
  },
  {
   "cell_type": "markdown",
   "metadata": {},
   "source": [
    "Los valores así dados son: \n",
    "\n",
    "19-29: 0, 30-39: 1, 40-49: 2, 50-59: 3, 60-64: 4, <=18: 5, >=65: 6\n",
    "\n",
    "Cabría la posibilidad de haber realizado este mapeo de un modo distinto para *Tramo Edad* y dejar ordenado las clases de esta variable, pero al no tener darle un valor concreto a los mismos los de hemos dejado así.\n",
    "\n",
    "En este sentido, se podría haber dado la media de las edades de cada tramo, para los menores de 18 años, haber dado un valor relativo al porcentaje de cada tramo y lo mismo a los mayores de 65 años."
   ]
  },
  {
   "cell_type": "markdown",
   "metadata": {},
   "source": [
    "Realizado todos estos procesos, hemos juntado los Datasets a utilizar para proceder al análisis y modelado."
   ]
  },
  {
   "cell_type": "markdown",
   "metadata": {},
   "source": [
    "Vamos a hacer nota aqui que se observa que el Dataset de 2020 es mucho mayor que el resto de Datasets obtenidos.\n",
    "\n",
    "Así mismo se observa al realizar un estudio de la **variable target del 2020** esta se encuentra desbalanceada y esto provocará un desbalanceo general en el DataFrame que vamos a construir a partir de estos.\n",
    "\n",
    "En este sentido hemos realizado primero un modelado obviando el desbalanceo y paralelamente hemos realizado una ingeniería de datos para intentar balancear el 2020 y realizar un modelado con otro DataFrame.\n",
    "\n",
    "Los procesos de sampleado, data engineering y modelado se encuentras en los notebooks:\n",
    "\n",
    "- Notebook_SAMPLING_3, Notebook_SAMPLING_4, Notebook_SAMPLING_5, Notebook_SAMPLING_6_modeling\n",
    "\n",
    "Los resultados de estos procesos se han anotado aparte y están en el apartado correspondiente."
   ]
  },
  {
   "cell_type": "markdown",
   "metadata": {},
   "source": [
    "## 4 - Exploratory Data Analysis"
   ]
  },
  {
   "cell_type": "markdown",
   "metadata": {},
   "source": [
    "Aqui vamos a representar los gráficos más oportunos para el estudio preliminar de los datos que hemos obtenido y haremos una breve descripción de los mismos.\n",
    "\n",
    "Estos gráficos están realizados a *seaborn* y *tableau*."
   ]
  },
  {
   "cell_type": "markdown",
   "metadata": {},
   "source": [
    "- #### 4.1- Seaborn"
   ]
  },
  {
   "cell_type": "markdown",
   "metadata": {},
   "source": [
    "- ####  Vamos a presentar aqui la matriz de correlación obtenida:"
   ]
  },
  {
   "cell_type": "markdown",
   "metadata": {},
   "source": [
    "![Aqui se observa el mapa de correlacion de las variables obtenidas](./resources/img/mapa_correlacion.png)"
   ]
  },
  {
   "cell_type": "markdown",
   "metadata": {},
   "source": [
    "Se observa que hay cierta correlación entre los parámetros de **year**, **Nationality_code**,**Código Distrito Centro**.\n",
    "\n",
    "También se observa que no hay aparente correlación con los parámetros **Código Tipo Atención**,**Age_range_code** y **Sex_code**.\n",
    "\n",
    "**year** también parece tener correlación con otros parámetros como **Nationality_code** o **Código Distrito centro**.\n",
    "\n",
    "**Nationality code** y **Age_range_code** parece que también tiene una cierta correlación.\n",
    "\n",
    "En este sentido cabe preguntarse si las correlaciones de **year** con el resto de los datos es provocada por el gran número de registros existentes en el 2020."
   ]
  },
  {
   "cell_type": "markdown",
   "metadata": {},
   "source": [
    "-  ####  Vamos a presentar diagramas de *pairplot* de las diferentes variables entre sí y con la variable target:"
   ]
  },
  {
   "cell_type": "markdown",
   "metadata": {},
   "source": [
    "![Aqui se observa las relaciones entre las diversas variables](./resources/img/pairplot.png)"
   ]
  },
  {
   "cell_type": "markdown",
   "metadata": {},
   "source": [
    "En este **pairplot** se ve claramente que los valores no son continuos, sino discretos, por lo que habrá que hacer __modelos de clasificación__.\n",
    "\n",
    "También se observa que datos de cada variable han dado más resultados en relación con la *variable target* (Código Tipo Supuesto Urgente).\n",
    "\n",
    "En este sentido cabe destacar los altos valores en el segundo trimestre del 2020, debido al estado de excepción provocado por el COVID-19, por el cierre de muchos negocios y que es la causa principal de muchas de las demandas en los Centros de Atención Primaria en el país, desde esta fecha en adelante.\n",
    "\n",
    "También se ve como la clase **50** de la variable targert es la que más datos registra. "
   ]
  },
  {
   "cell_type": "markdown",
   "metadata": {},
   "source": [
    "- #### 6.2- Aqui se observan diversas gráficas para un estudio preliminar que hemos realizado con **Tableau** referente a los diferentes parametros en relación con la variable objetivo."
   ]
  },
  {
   "cell_type": "markdown",
   "metadata": {},
   "source": [
    "![Aqui se observa como evolucionan los distintos casos en el periodo de estudio](./resources/img/Tipologia_casos.png)"
   ]
  },
  {
   "cell_type": "markdown",
   "metadata": {},
   "source": [
    "Vemos aqui que los datos que se tienen de cada clase de la **variable target** son constantes en el tiempo, salvo un pico que hay en el año 2020 desde el mes de marzo en adelante. \n",
    "\n",
    "Esto es debido a la variable externa *COVID-19* que provoco una gran necesidad de servicios sociales.\n",
    "\n",
    "Se ve como este pico es sobre todo en las clases 40 y 50, siendo peculiar en esta última que en otros periodos de los que tenemos datos no es una clase predominante.\n",
    "\n",
    "Con esta información que tenemos podemos dar respuesta a la ***segunda hipótesis*** planteada: \n",
    "\n",
    "**\"Es necesario establecer algún tipo de estudio temporal que permita optimizar los recursos del Area de Servicios Sociales?\"**\n",
    "\n",
    "No, no es necesario, ya que los datos demuestran que los datos datos son estacionarios.\n",
    "\n",
    "En este sentido, si podemos tomar los datos promedio mes a mes para tener preparados los recursos básicos para atender las urgencias.\n",
    "\n",
    "**Se puede realizar algún estudio de tipo temporal para establecer qué recursos harán falta en otro momento crítico como en el 2020?**\n",
    "\n",
    "En este sentido solo disponemos registros de esta  eventualidad. Sería interesante disponer de datos de otras eventualidades ocurridas en el pasado para poder hacer estimaciones de lapso de duración e intensidad en los picos."
   ]
  },
  {
   "cell_type": "markdown",
   "metadata": {},
   "source": [
    "![Aqui se observa como evolucionan los distintos casos en el periodo de estudio](./resources/img/Tipologia_casos_por_distrito.png)"
   ]
  },
  {
   "cell_type": "markdown",
   "metadata": {},
   "source": [
    "Hemos dejado en este gráfico unicamente los valores de las clases que más destacaban en el gráfico anterior y hemos hecho un estudio sobre su incidencia en los distintos distritos de Madrid.\n",
    "\n",
    "Se ve que la incidencia es sobre todo en el distrito de *Tetuan*, despúes en *Chamberí* y luego en *Fuencarral-El Pardo* (esto choca con los datos que manejamos en mi anterior estudio de EDA sobre la situación de los Centros de Atención Primaria)."
   ]
  },
  {
   "cell_type": "markdown",
   "metadata": {},
   "source": [
    "#### En los siguientes gráficos vamos a centrarnos más en la tipología de los usuarios de urgencia"
   ]
  },
  {
   "cell_type": "markdown",
   "metadata": {},
   "source": [
    "![Aqui se observa como evoluciona en el tiempo las atenciones de urgencia](./resources/img/Edades.png)\n"
   ]
  },
  {
   "cell_type": "markdown",
   "metadata": {},
   "source": [
    "Aqui vemos la relación entre los rango de edad y las distintas clases de la *variable target*.\n",
    "\n",
    "Prácticamente la mitad de las urgencias se reparten entre los mayores de 65 años y el rango de edad de *30-39*. \n",
    "\n",
    "Cabe destacar en este rango de edad y en general la segunda clase corresponde a *Alojamiento/Vivienda*."
   ]
  },
  {
   "cell_type": "markdown",
   "metadata": {},
   "source": [
    "![Aqui se observa como evolucionan los distintos casos en el periodo de estudio](./resources/img/Nacionalidad.png)"
   ]
  },
  {
   "cell_type": "markdown",
   "metadata": {},
   "source": [
    "Aqui podemos ver que por norma general los usuarios de urgencias han sido de nacionalidad española.\n",
    "\n",
    "También se observa que debido a la pandemia los usuarios de nacionalidad extranjera aumentaron drásticamente en los trimestres del 2020, para volver luego a normalizar la norma que los españoles acuden en un ratio aproximado de 2:1."
   ]
  },
  {
   "cell_type": "markdown",
   "metadata": {},
   "source": [
    "![Aqui se observa como evolucionan los distintos casos en el periodo de estudio](./resources/img/Sexo.png)"
   ]
  },
  {
   "cell_type": "markdown",
   "metadata": {},
   "source": [
    "Podemos ver que los usuarios habituales son mujeres, independientemente del periodo del año que observemos.\n",
    "\n",
    "También que los motivos  habituales de las urgencias han sido *Alojamiento/Vivienda* y *Desprotención Social problemas de salud*."
   ]
  },
  {
   "cell_type": "markdown",
   "metadata": {},
   "source": [
    "## 5.- Checking models"
   ]
  },
  {
   "cell_type": "markdown",
   "metadata": {},
   "source": [
    "Como hemos indicado para proceeder a dar respuesta a la *hipótesis 1*, vamos a realizar modelados clasificatorios de las **features** más relevantes que hemos visto en en **Análisis Exploratorio de datos**, salvo la variable *year* que hemos visto que su relación con la variable *target* es debida a una causa externa en el tiempo (estado de excepción y efectos derivados de este).\n",
    "\n",
    "Los módelos que vamos a utilizar para esto son:\n",
    "\n",
    "> AdaBoostClassifier de DecisionTreeClassifier  \n",
    ">\n",
    "> BaggingClassifier de DecisionTreeClassifier  \n",
    ">\n",
    "> DecisionTreeClassifier\n",
    ">\n",
    "> GradientBoostingClassifier\n",
    ">\n",
    "> Logistic Regresion\n",
    ">\n",
    "> K-Nearest Neighbours          \n",
    ">\n",
    "> Random Forest\n",
    ">\n",
    "> XGBoost Random Forest          (pendiente de realizar)\n",
    ">\n",
    "> GradientBoostingClassifier\n",
    "\n",
    "Como hemos indicado al estar el DataFrame desbalanceado y ser multiclase (5 posibles resultados), nos hemos decidido por realizar métricas dónde se evalue los aciertos de cada clase. Es por esto que tomamos la métrica de *f-1 score* para evaluar los resultados obtenidos.\n",
    "\n",
    "Y en este sentido tomaremos la métrica *f-1 score macro* para poder contabilizar todas las clases existentes.\n",
    "\n",
    "Dado que hemos realizado cuatro tipos distintos de modelado, que a continuación detallaremos, vamos a mostrar aqui los resultados obtenidos en los mismos."
   ]
  },
  {
   "cell_type": "markdown",
   "metadata": {},
   "source": [
    "- Hemos realizado un modelado sin realizar ninguna regularización en los módelos: (Notebook_5_simple_models)"
   ]
  },
  {
   "cell_type": "markdown",
   "metadata": {},
   "source": [
    "![Errores de los modelos](./resources/img/Error_simple_models.png)"
   ]
  },
  {
   "cell_type": "markdown",
   "metadata": {},
   "source": [
    "En esta imagen se puede ver las metricas de cada módelo.\n",
    "\n",
    "Se puede observar que el mejor módelo sería un **Boost GradientBoosting Regressor**.\n",
    "\n",
    "También se ve que los módelos **KNearest Neighbors** y **Regresión Logística** dan metricas más bajas, por lo que no seguiremos con ellos en los siguientes pasos."
   ]
  },
  {
   "cell_type": "markdown",
   "metadata": {},
   "source": [
    "- Hemos realizado un modelado realizando un Grid Search para regularizar los módelos: (Notebook_6_GS_models)"
   ]
  },
  {
   "cell_type": "markdown",
   "metadata": {},
   "source": [
    "![Errores de los modelos_regularizados](./resources/img/Error_GS_models.png)"
   ]
  },
  {
   "cell_type": "markdown",
   "metadata": {},
   "source": [
    "En este sentido se puede ver que los resultados obtenidos apenas varían con los resultados de los módelos iniciales."
   ]
  },
  {
   "cell_type": "markdown",
   "metadata": {},
   "source": [
    "- Hemos realizado un modelado regularizando diversos parámetros de manera manual: (Notebook_7_handmade_models)"
   ]
  },
  {
   "cell_type": "markdown",
   "metadata": {},
   "source": [
    "![Errores de los modelos_artesanos](./resources/img/Error_handmade_models.png)"
   ]
  },
  {
   "cell_type": "markdown",
   "metadata": {},
   "source": [
    "Se observa que los resultados mejoran en decimas de tanto por ciento sobre los resultados de módelos iniciales."
   ]
  },
  {
   "cell_type": "markdown",
   "metadata": {},
   "source": [
    "- Hemos realizado un modelado sobre el DataFrame resampleado sin realizar ninguna regularización: (Notebook_SAMPLING_6_modeling)"
   ]
  },
  {
   "cell_type": "markdown",
   "metadata": {},
   "source": [
    "![Errores de los modelos_con resammple](./resources/img/Error_resampled_models.png)"
   ]
  },
  {
   "cell_type": "markdown",
   "metadata": {},
   "source": [
    "Se puede ver que el resampleado realizado no ha dado un resultado satisfactorio.\n",
    "\n",
    "Los resultados obtenidos fueron más de 10 puntos inferior al resto de los modelados."
   ]
  },
  {
   "cell_type": "markdown",
   "metadata": {},
   "source": [
    "### 6.- Best model"
   ]
  },
  {
   "cell_type": "markdown",
   "metadata": {},
   "source": [
    "El **mejor modelado** que hemos obtenido de las diferentes pruebas realizadas ha sido entonces:\n",
    "\n",
    "**BaggingClassifier**\n",
    "\n",
    "Usando *Árboles de Decisión* como base_estimator.\n",
    "\n",
    "En este sentido la profundidad de los Árboles de Decisisión ha sido de 9.\n",
    "\n",
    "El Bagging ha utilizado los 4 Features para realizar sus estimaciones, con una muestra máxima de 500 y con 250 n_estimator."
   ]
  },
  {
   "cell_type": "markdown",
   "metadata": {},
   "source": [
    "![Aqui viene el modelo como tal](./resources/img/my_best_model.png)"
   ]
  },
  {
   "cell_type": "markdown",
   "metadata": {},
   "source": [
    "Los datos de las metricas obtenidas tampoco es que hayan sido especialmente más altas al resto."
   ]
  },
  {
   "cell_type": "markdown",
   "metadata": {},
   "source": [
    "En este sentido observando la matriz de confusión se puede ver que las clases menos predominantes dan más errores que en las clases menos dominantes."
   ]
  },
  {
   "cell_type": "markdown",
   "metadata": {},
   "source": [
    "## 7.- Importance of the features"
   ]
  },
  {
   "cell_type": "markdown",
   "metadata": {},
   "source": [
    "Tomando como referencia el mejor módelo que es capaz de predecir , vamos a hacer un pequeño estudio sobre qué *Features* son más importantes a la hora de realizar las previsiones (Notebook_8_Features_Importance).\n",
    "\n",
    "En este sentido hemos realizado 2 estudios:"
   ]
  },
  {
   "cell_type": "markdown",
   "metadata": {},
   "source": [
    "- Feature Importance: se evalua los valores de cada *Feature* en cada estimación que hacen los Árboles de decisión, tomando su media.\n",
    "\n",
    "Los datos de la importancia tomada de cada Feature es:"
   ]
  },
  {
   "cell_type": "markdown",
   "metadata": {},
   "source": [
    "![Aqui se observa los valores de cada Feature en la evaluación del modelo](./resources/img/Feature_importance_DataFrame.png)"
   ]
  },
  {
   "cell_type": "markdown",
   "metadata": {},
   "source": [
    "![Aqui se observa los valores de cada Feature en la evaluación del modelo](./resources/img/Feature_importance.png)"
   ]
  },
  {
   "cell_type": "markdown",
   "metadata": {},
   "source": [
    "El módelo establece un **mayor valor** al *Código de Distrito Centro*, esto es al lugar de residencia de la persona usuaria y un **menor valor** al *Sexo* de la persona usuaria."
   ]
  },
  {
   "cell_type": "markdown",
   "metadata": {},
   "source": [
    "- Permutation Importance: donde ha realizado un estudio sobre como cambia el resultado de cada predicción al modificar los datos de cada Feature.\n",
    "Se basa en el hecho que una variable que apenas influya en la predicción no importará si cambia o no los valores. Mientras que una variable que sí influya en la predicción su modificación afectará en la predicción final.\n",
    "\n",
    "Los datos de la importancia tomada de cada Feature es:"
   ]
  },
  {
   "cell_type": "markdown",
   "metadata": {},
   "source": [
    "![Aqui se observa los valores de cada Feature en la evaluación del modelo](./resources/img/Permutation_importance_DataFrame.png)"
   ]
  },
  {
   "cell_type": "markdown",
   "metadata": {},
   "source": [
    "![Aqui se observa los valores de cada Feature en la evaluación del modelo](./resources/img/Permutation_importance.png)"
   ]
  },
  {
   "cell_type": "markdown",
   "metadata": {},
   "source": [
    "Con este nuevo módelo de análisis de features se ve aún con más nitidez lo visto en el anterior.\n",
    "\n",
    "Aqui se puede observar que el feature *SEXO* apenas afecta a las decisiones del módelo para dar un resultado u otro."
   ]
  },
  {
   "cell_type": "markdown",
   "metadata": {},
   "source": [
    "## 8 CONCLUSIÓN:"
   ]
  },
  {
   "cell_type": "markdown",
   "metadata": {},
   "source": [
    "### Hipótesis 1:\n",
    "\n",
    "Con este módelo de ensamblaje (**BaggingClassifier**), podemos determinar qué requisitos puede solicitar un usuario tipo en cada distrito, en función de su sexo, nacionalidad o edad y disponer de una mejor optimización de los recursos de cada centro de atención primaria.\n",
    "\n"
   ]
  },
  {
   "cell_type": "markdown",
   "metadata": {},
   "source": [
    "### Hipótesis 2:\n",
    "\n",
    "Como hemos indicado anteriormente, dada la estacionalidad de los datos que disponemos no es necesario implantar un módelo de tiempo, ya que la tipología de los casos es muy estable en el tiempo.\n",
    "\n",
    "Si puede ser interesante intentar recabar más información referente a situaciones anómalas como la ocurrida en el 2020, para poder hacer estimaciones oportunas de momentos de crisis."
   ]
  },
  {
   "cell_type": "markdown",
   "metadata": {},
   "source": [
    "Vamos a realizar unas pruebas para ver como funciona el módelo, podemos generar varios 'usuarios_posibles' para hacerlos pasar por el módelo y dar predicciones sobre qué tipo de ayuda solicitará.  "
   ]
  },
  {
   "cell_type": "code",
   "execution_count": null,
   "metadata": {},
   "outputs": [],
   "source": [
    "#GENERAMOS USUARIOS y PASAMOS POR EL MODELO"
   ]
  }
 ],
 "metadata": {
  "kernelspec": {
   "display_name": "Python 3.7.4 64-bit",
   "language": "python",
   "name": "python3"
  },
  "language_info": {
   "codemirror_mode": {
    "name": "ipython",
    "version": 3
   },
   "file_extension": ".py",
   "mimetype": "text/x-python",
   "name": "python",
   "nbconvert_exporter": "python",
   "pygments_lexer": "ipython3",
   "version": "3.7.4"
  },
  "orig_nbformat": 4,
  "vscode": {
   "interpreter": {
    "hash": "c0e4a4af33acb5d51fe8962d9e2e7588108ae49a894b6d1e35c2101e79360239"
   }
  }
 },
 "nbformat": 4,
 "nbformat_minor": 2
}
