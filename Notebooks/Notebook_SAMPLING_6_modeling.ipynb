{
 "cells": [
  {
   "cell_type": "markdown",
   "metadata": {},
   "source": [
    "### 1. LOADING FILES"
   ]
  },
  {
   "cell_type": "code",
   "execution_count": 1,
   "metadata": {},
   "outputs": [],
   "source": [
    "import pickle \n",
    "import pandas as pd\n",
    "import numpy as np\n",
    "import seaborn as sns\n",
    "import matplotlib.pyplot as plt\n",
    "import os"
   ]
  },
  {
   "cell_type": "code",
   "execution_count": 2,
   "metadata": {},
   "outputs": [],
   "source": [
    "from sklearn.tree import DecisionTreeClassifier\n",
    "from sklearn.ensemble import RandomForestClassifier,AdaBoostClassifier,GradientBoostingClassifier,BaggingClassifier\n",
    "from sklearn.model_selection import train_test_split\n",
    "from sklearn.model_selection import GridSearchCV\n",
    "from sklearn.pipeline import Pipeline"
   ]
  },
  {
   "cell_type": "code",
   "execution_count": 3,
   "metadata": {},
   "outputs": [],
   "source": [
    "from sklearn.metrics import accuracy_score,precision_score,recall_score,roc_auc_score,f1_score,confusion_matrix"
   ]
  },
  {
   "cell_type": "code",
   "execution_count": 5,
   "metadata": {},
   "outputs": [],
   "source": [
    "train=pd.read_csv('E:\\Bootcamp_22\\Javier\\Repositorios\\Machine_Learning\\data\\df_train_balanced.csv',sep=',')\n",
    "test=pd.read_csv('E:\\Bootcamp_22\\Javier\\Repositorios\\Machine_Learning\\data\\df_test_balanced.csv',sep=',')\n",
    "X_test=test[['Código Distrito Centro','Age_range_code','Nationality_code','Sexo_code']]\n",
    "X_train=train[['Código Distrito Centro','Age_range_code','Nationality_code','Sexo_code']]\n",
    "y_test=test['Código Tipo Supuesto Urgente']\n",
    "y_train=train['Código Tipo Supuesto Urgente']"
   ]
  },
  {
   "cell_type": "code",
   "execution_count": 5,
   "metadata": {},
   "outputs": [
    {
     "data": {
      "text/plain": [
       "40.0    6606\n",
       "30.0    5862\n",
       "50.0    4273\n",
       "10.0    2730\n",
       "20.0    1828\n",
       "Name: Código Tipo Supuesto Urgente, dtype: int64"
      ]
     },
     "execution_count": 5,
     "metadata": {},
     "output_type": "execute_result"
    }
   ],
   "source": [
    "train['Código Tipo Supuesto Urgente'].value_counts()"
   ]
  },
  {
   "cell_type": "code",
   "execution_count": 6,
   "metadata": {},
   "outputs": [
    {
     "data": {
      "text/plain": [
       "40.0    2203\n",
       "30.0    1953\n",
       "50.0    1431\n",
       "10.0     937\n",
       "20.0     576\n",
       "Name: Código Tipo Supuesto Urgente, dtype: int64"
      ]
     },
     "execution_count": 6,
     "metadata": {},
     "output_type": "execute_result"
    }
   ],
   "source": [
    "test['Código Tipo Supuesto Urgente'].value_counts()"
   ]
  },
  {
   "cell_type": "code",
   "execution_count": 6,
   "metadata": {},
   "outputs": [],
   "source": [
    "def load_files(file):\n",
    "    '''\n",
    "    Cargar modelos con formato binario en un notebook o fichero python\n",
    "    '''\n",
    "    os.chdir('E:\\Bootcamp_22\\Javier\\Repositorios\\Machine_Learning\\model')\n",
    "    model = pickle.load( open( file, \"rb\" ) )\n",
    "    return model"
   ]
  },
  {
   "cell_type": "markdown",
   "metadata": {},
   "source": [
    "Aqui vamos a cargar los modelos para pasar los test"
   ]
  },
  {
   "cell_type": "code",
   "execution_count": 7,
   "metadata": {},
   "outputs": [],
   "source": [
    "ADA= load_files('ADA_RSP220912190317.pickle')"
   ]
  },
  {
   "cell_type": "code",
   "execution_count": 8,
   "metadata": {},
   "outputs": [],
   "source": [
    "BAG = load_files('BAG_RSP220912190313.pickle')"
   ]
  },
  {
   "cell_type": "code",
   "execution_count": 9,
   "metadata": {},
   "outputs": [],
   "source": [
    "DTC = load_files('TREE_REG_RSP220912190247.pickle')"
   ]
  },
  {
   "cell_type": "code",
   "execution_count": 10,
   "metadata": {},
   "outputs": [],
   "source": [
    "GBCT = load_files('GBCT_RSP220912190324.pickle')"
   ]
  },
  {
   "cell_type": "code",
   "execution_count": 11,
   "metadata": {},
   "outputs": [],
   "source": [
    "KNN = load_files('KNN_RSP220912190335.pickle')"
   ]
  },
  {
   "cell_type": "code",
   "execution_count": 12,
   "metadata": {},
   "outputs": [],
   "source": [
    "LOGREG = load_files('LOGREG_RSP220912190329.pickle')"
   ]
  },
  {
   "cell_type": "code",
   "execution_count": 13,
   "metadata": {},
   "outputs": [],
   "source": [
    "RND = load_files('RND_RSP220912190306.pickle')\n"
   ]
  },
  {
   "cell_type": "markdown",
   "metadata": {},
   "source": [
    "### 2. CALCULATING ERROR IN EACH MODEL"
   ]
  },
  {
   "cell_type": "code",
   "execution_count": 14,
   "metadata": {},
   "outputs": [],
   "source": [
    "def error_modelo(model, x_test, Y_test):\n",
    "    '''\n",
    "    Dejamos grabada cada uno de los parámetros de cada modelo y hacemos su representación\n",
    "    '''\n",
    "    y_pred = model.predict(X_test)\n",
    "    f1_model=f1_score(y_test, y_pred,average='macro')\n",
    "    acc_model=accuracy_score(y_test, y_pred)\n",
    "    precision_model=precision_score(y_test, y_pred,average='macro')\n",
    "    recall_model=recall_score(y_test, y_pred,average='macro')\n",
    "    roc_auc_model=roc_auc_score(y_test, model.predict_proba(X_test),multi_class='ovr')\n",
    "    conf_model=confusion_matrix(y_test, y_pred, normalize='true')\n",
    "    model_error = {'accuracy': acc_model, 'f-1': f1_model, 'recall': recall_model , 'precision': precision_model}\n",
    "    df=pd.DataFrame.from_dict(model_error,orient='index')\n",
    "    print('Accuracy', acc_model)\n",
    "    print('F1', f1_model)\n",
    "    print('Precision', precision_model)\n",
    "    print('Recall', recall_model)\n",
    "    print('-'*30)\n",
    "    print('ROC', roc_auc_model)\n",
    "\n",
    "    plt.figure(figsize=(10,10))\n",
    "    sns.heatmap(conf_model, annot=True)\n",
    "    return df\n",
    "\n",
    "\n"
   ]
  },
  {
   "cell_type": "code",
   "execution_count": 15,
   "metadata": {},
   "outputs": [
    {
     "name": "stderr",
     "output_type": "stream",
     "text": [
      "c:\\Users\\jtr_7\\AppData\\Local\\Programs\\Python\\Python37\\lib\\site-packages\\sklearn\\metrics\\_classification.py:1318: UndefinedMetricWarning: Precision is ill-defined and being set to 0.0 in labels with no predicted samples. Use `zero_division` parameter to control this behavior.\n",
      "  _warn_prf(average, modifier, msg_start, len(result))\n"
     ]
    },
    {
     "name": "stdout",
     "output_type": "stream",
     "text": [
      "Accuracy 0.6963528413910093\n",
      "F1 0.3389893996661442\n",
      "Precision 0.37973228374497847\n",
      "Recall 0.35413016790662877\n",
      "------------------------------\n",
      "ROC 0.5850446336709472\n"
     ]
    },
    {
     "data": {
      "text/html": [
       "<div>\n",
       "<style scoped>\n",
       "    .dataframe tbody tr th:only-of-type {\n",
       "        vertical-align: middle;\n",
       "    }\n",
       "\n",
       "    .dataframe tbody tr th {\n",
       "        vertical-align: top;\n",
       "    }\n",
       "\n",
       "    .dataframe thead th {\n",
       "        text-align: right;\n",
       "    }\n",
       "</style>\n",
       "<table border=\"1\" class=\"dataframe\">\n",
       "  <thead>\n",
       "    <tr style=\"text-align: right;\">\n",
       "      <th></th>\n",
       "      <th>ADA</th>\n",
       "    </tr>\n",
       "  </thead>\n",
       "  <tbody>\n",
       "    <tr>\n",
       "      <th>accuracy</th>\n",
       "      <td>0.696353</td>\n",
       "    </tr>\n",
       "    <tr>\n",
       "      <th>f-1</th>\n",
       "      <td>0.338989</td>\n",
       "    </tr>\n",
       "    <tr>\n",
       "      <th>recall</th>\n",
       "      <td>0.354130</td>\n",
       "    </tr>\n",
       "    <tr>\n",
       "      <th>precision</th>\n",
       "      <td>0.379732</td>\n",
       "    </tr>\n",
       "  </tbody>\n",
       "</table>\n",
       "</div>"
      ],
      "text/plain": [
       "                ADA\n",
       "accuracy   0.696353\n",
       "f-1        0.338989\n",
       "recall     0.354130\n",
       "precision  0.379732"
      ]
     },
     "execution_count": 15,
     "metadata": {},
     "output_type": "execute_result"
    },
    {
     "data": {
      "image/png": "[encoded data removed]",
      "text/plain": [
       "<Figure size 720x720 with 2 Axes>"
      ]
     },
     "metadata": {
      "needs_background": "light"
     },
     "output_type": "display_data"
    }
   ],
   "source": [
    "df_ADA= error_modelo(ADA,X_test,y_test)\n",
    "df_ADA.columns=['ADA']\n",
    "df_ADA"
   ]
  },
  {
   "cell_type": "code",
   "execution_count": 16,
   "metadata": {},
   "outputs": [
    {
     "name": "stdout",
     "output_type": "stream",
     "text": [
      "Accuracy 0.6991094147582697\n",
      "F1 0.3396319435117951\n",
      "Precision 0.4056174289289184\n",
      "Recall 0.35533062317403974\n",
      "------------------------------\n",
      "ROC 0.7438492927602388\n"
     ]
    },
    {
     "data": {
      "text/html": [
       "<div>\n",
       "<style scoped>\n",
       "    .dataframe tbody tr th:only-of-type {\n",
       "        vertical-align: middle;\n",
       "    }\n",
       "\n",
       "    .dataframe tbody tr th {\n",
       "        vertical-align: top;\n",
       "    }\n",
       "\n",
       "    .dataframe thead th {\n",
       "        text-align: right;\n",
       "    }\n",
       "</style>\n",
       "<table border=\"1\" class=\"dataframe\">\n",
       "  <thead>\n",
       "    <tr style=\"text-align: right;\">\n",
       "      <th></th>\n",
       "      <th>BAG</th>\n",
       "    </tr>\n",
       "  </thead>\n",
       "  <tbody>\n",
       "    <tr>\n",
       "      <th>accuracy</th>\n",
       "      <td>0.699109</td>\n",
       "    </tr>\n",
       "    <tr>\n",
       "      <th>f-1</th>\n",
       "      <td>0.339632</td>\n",
       "    </tr>\n",
       "    <tr>\n",
       "      <th>recall</th>\n",
       "      <td>0.355331</td>\n",
       "    </tr>\n",
       "    <tr>\n",
       "      <th>precision</th>\n",
       "      <td>0.405617</td>\n",
       "    </tr>\n",
       "  </tbody>\n",
       "</table>\n",
       "</div>"
      ],
      "text/plain": [
       "                BAG\n",
       "accuracy   0.699109\n",
       "f-1        0.339632\n",
       "recall     0.355331\n",
       "precision  0.405617"
      ]
     },
     "execution_count": 16,
     "metadata": {},
     "output_type": "execute_result"
    },
    {
     "data": {
      "image/png": "[encoded data removed]",
      "text/plain": [
       "<Figure size 720x720 with 2 Axes>"
      ]
     },
     "metadata": {
      "needs_background": "light"
     },
     "output_type": "display_data"
    }
   ],
   "source": [
    "df_BAG= error_modelo(BAG,X_test,y_test)\n",
    "df_BAG.columns=['BAG']\n",
    "df_BAG\n"
   ]
  },
  {
   "cell_type": "code",
   "execution_count": 17,
   "metadata": {},
   "outputs": [
    {
     "name": "stdout",
     "output_type": "stream",
     "text": [
      "Accuracy 0.6974130619168787\n",
      "F1 0.34017715348841115\n",
      "Precision 0.3878614353797647\n",
      "Recall 0.3550344628974059\n",
      "------------------------------\n",
      "ROC 0.7002393292584196\n"
     ]
    },
    {
     "data": {
      "text/html": [
       "<div>\n",
       "<style scoped>\n",
       "    .dataframe tbody tr th:only-of-type {\n",
       "        vertical-align: middle;\n",
       "    }\n",
       "\n",
       "    .dataframe tbody tr th {\n",
       "        vertical-align: top;\n",
       "    }\n",
       "\n",
       "    .dataframe thead th {\n",
       "        text-align: right;\n",
       "    }\n",
       "</style>\n",
       "<table border=\"1\" class=\"dataframe\">\n",
       "  <thead>\n",
       "    <tr style=\"text-align: right;\">\n",
       "      <th></th>\n",
       "      <th>DTC</th>\n",
       "    </tr>\n",
       "  </thead>\n",
       "  <tbody>\n",
       "    <tr>\n",
       "      <th>accuracy</th>\n",
       "      <td>0.697413</td>\n",
       "    </tr>\n",
       "    <tr>\n",
       "      <th>f-1</th>\n",
       "      <td>0.340177</td>\n",
       "    </tr>\n",
       "    <tr>\n",
       "      <th>recall</th>\n",
       "      <td>0.355034</td>\n",
       "    </tr>\n",
       "    <tr>\n",
       "      <th>precision</th>\n",
       "      <td>0.387861</td>\n",
       "    </tr>\n",
       "  </tbody>\n",
       "</table>\n",
       "</div>"
      ],
      "text/plain": [
       "                DTC\n",
       "accuracy   0.697413\n",
       "f-1        0.340177\n",
       "recall     0.355034\n",
       "precision  0.387861"
      ]
     },
     "execution_count": 17,
     "metadata": {},
     "output_type": "execute_result"
    },
    {
     "data": {
      "image/png": "[encoded data removed]",
      "text/plain": [
       "<Figure size 720x720 with 2 Axes>"
      ]
     },
     "metadata": {
      "needs_background": "light"
     },
     "output_type": "display_data"
    }
   ],
   "source": [
    "df_DTC= error_modelo(DTC,X_test,y_test)\n",
    "df_DTC.columns=['DTC']\n",
    "df_DTC"
   ]
  },
  {
   "cell_type": "code",
   "execution_count": 18,
   "metadata": {},
   "outputs": [
    {
     "name": "stderr",
     "output_type": "stream",
     "text": [
      "c:\\Users\\jtr_7\\AppData\\Local\\Programs\\Python\\Python37\\lib\\site-packages\\sklearn\\metrics\\_classification.py:1318: UndefinedMetricWarning: Precision is ill-defined and being set to 0.0 in labels with no predicted samples. Use `zero_division` parameter to control this behavior.\n",
      "  _warn_prf(average, modifier, msg_start, len(result))\n"
     ]
    },
    {
     "name": "stdout",
     "output_type": "stream",
     "text": [
      "Accuracy 0.6967769296013571\n",
      "F1 0.34125970752451085\n",
      "Precision 0.3887287440866466\n",
      "Recall 0.35543283283644395\n",
      "------------------------------\n",
      "ROC 0.7025547485277112\n"
     ]
    },
    {
     "data": {
      "text/html": [
       "<div>\n",
       "<style scoped>\n",
       "    .dataframe tbody tr th:only-of-type {\n",
       "        vertical-align: middle;\n",
       "    }\n",
       "\n",
       "    .dataframe tbody tr th {\n",
       "        vertical-align: top;\n",
       "    }\n",
       "\n",
       "    .dataframe thead th {\n",
       "        text-align: right;\n",
       "    }\n",
       "</style>\n",
       "<table border=\"1\" class=\"dataframe\">\n",
       "  <thead>\n",
       "    <tr style=\"text-align: right;\">\n",
       "      <th></th>\n",
       "      <th>RND</th>\n",
       "    </tr>\n",
       "  </thead>\n",
       "  <tbody>\n",
       "    <tr>\n",
       "      <th>accuracy</th>\n",
       "      <td>0.696777</td>\n",
       "    </tr>\n",
       "    <tr>\n",
       "      <th>f-1</th>\n",
       "      <td>0.341260</td>\n",
       "    </tr>\n",
       "    <tr>\n",
       "      <th>recall</th>\n",
       "      <td>0.355433</td>\n",
       "    </tr>\n",
       "    <tr>\n",
       "      <th>precision</th>\n",
       "      <td>0.388729</td>\n",
       "    </tr>\n",
       "  </tbody>\n",
       "</table>\n",
       "</div>"
      ],
      "text/plain": [
       "                RND\n",
       "accuracy   0.696777\n",
       "f-1        0.341260\n",
       "recall     0.355433\n",
       "precision  0.388729"
      ]
     },
     "execution_count": 18,
     "metadata": {},
     "output_type": "execute_result"
    },
    {
     "data": {
      "image/png": "[encoded data removed]",
      "text/plain": [
       "<Figure size 720x720 with 2 Axes>"
      ]
     },
     "metadata": {
      "needs_background": "light"
     },
     "output_type": "display_data"
    }
   ],
   "source": [
    "df_RND= error_modelo(RND,X_test,y_test)\n",
    "df_RND.columns=['RND']\n",
    "df_RND"
   ]
  },
  {
   "cell_type": "code",
   "execution_count": 19,
   "metadata": {},
   "outputs": [
    {
     "name": "stdout",
     "output_type": "stream",
     "text": [
      "Accuracy 0.7035623409669212\n",
      "F1 0.33075823041714053\n",
      "Precision 0.42541791426206566\n",
      "Recall 0.3525284801910022\n",
      "------------------------------\n",
      "ROC 0.724511737169128\n"
     ]
    },
    {
     "name": "stderr",
     "output_type": "stream",
     "text": [
      "c:\\Users\\jtr_7\\AppData\\Local\\Programs\\Python\\Python37\\lib\\site-packages\\sklearn\\metrics\\_classification.py:1318: UndefinedMetricWarning: Precision is ill-defined and being set to 0.0 in labels with no predicted samples. Use `zero_division` parameter to control this behavior.\n",
      "  _warn_prf(average, modifier, msg_start, len(result))\n"
     ]
    },
    {
     "data": {
      "text/html": [
       "<div>\n",
       "<style scoped>\n",
       "    .dataframe tbody tr th:only-of-type {\n",
       "        vertical-align: middle;\n",
       "    }\n",
       "\n",
       "    .dataframe tbody tr th {\n",
       "        vertical-align: top;\n",
       "    }\n",
       "\n",
       "    .dataframe thead th {\n",
       "        text-align: right;\n",
       "    }\n",
       "</style>\n",
       "<table border=\"1\" class=\"dataframe\">\n",
       "  <thead>\n",
       "    <tr style=\"text-align: right;\">\n",
       "      <th></th>\n",
       "      <th>GBCT</th>\n",
       "    </tr>\n",
       "  </thead>\n",
       "  <tbody>\n",
       "    <tr>\n",
       "      <th>accuracy</th>\n",
       "      <td>0.703562</td>\n",
       "    </tr>\n",
       "    <tr>\n",
       "      <th>f-1</th>\n",
       "      <td>0.330758</td>\n",
       "    </tr>\n",
       "    <tr>\n",
       "      <th>recall</th>\n",
       "      <td>0.352528</td>\n",
       "    </tr>\n",
       "    <tr>\n",
       "      <th>precision</th>\n",
       "      <td>0.425418</td>\n",
       "    </tr>\n",
       "  </tbody>\n",
       "</table>\n",
       "</div>"
      ],
      "text/plain": [
       "               GBCT\n",
       "accuracy   0.703562\n",
       "f-1        0.330758\n",
       "recall     0.352528\n",
       "precision  0.425418"
      ]
     },
     "execution_count": 19,
     "metadata": {},
     "output_type": "execute_result"
    },
    {
     "data": {
      "image/png": "[encoded data removed]",
      "text/plain": [
       "<Figure size 720x720 with 2 Axes>"
      ]
     },
     "metadata": {
      "needs_background": "light"
     },
     "output_type": "display_data"
    }
   ],
   "source": [
    "df_GBCT= error_modelo(GBCT,X_test,y_test)\n",
    "df_GBCT.columns=['GBCT']\n",
    "df_GBCT"
   ]
  },
  {
   "cell_type": "code",
   "execution_count": 20,
   "metadata": {},
   "outputs": [
    {
     "name": "stderr",
     "output_type": "stream",
     "text": [
      "c:\\Users\\jtr_7\\AppData\\Local\\Programs\\Python\\Python37\\lib\\site-packages\\sklearn\\base.py:444: UserWarning: X has feature names, but KNeighborsClassifier was fitted without feature names\n",
      "  f\"X has feature names, but {self.__class__.__name__} was fitted without\"\n"
     ]
    },
    {
     "name": "stdout",
     "output_type": "stream",
     "text": [
      "Accuracy 0.5125106022052587\n",
      "F1 0.23246905571077364\n",
      "Precision 0.2213015858541681\n",
      "Recall 0.254839917037856\n",
      "------------------------------\n",
      "ROC 0.5611808079065893\n"
     ]
    },
    {
     "name": "stderr",
     "output_type": "stream",
     "text": [
      "c:\\Users\\jtr_7\\AppData\\Local\\Programs\\Python\\Python37\\lib\\site-packages\\sklearn\\metrics\\_classification.py:1318: UndefinedMetricWarning: Precision is ill-defined and being set to 0.0 in labels with no predicted samples. Use `zero_division` parameter to control this behavior.\n",
      "  _warn_prf(average, modifier, msg_start, len(result))\n",
      "c:\\Users\\jtr_7\\AppData\\Local\\Programs\\Python\\Python37\\lib\\site-packages\\sklearn\\base.py:444: UserWarning: X has feature names, but KNeighborsClassifier was fitted without feature names\n",
      "  f\"X has feature names, but {self.__class__.__name__} was fitted without\"\n"
     ]
    },
    {
     "data": {
      "text/html": [
       "<div>\n",
       "<style scoped>\n",
       "    .dataframe tbody tr th:only-of-type {\n",
       "        vertical-align: middle;\n",
       "    }\n",
       "\n",
       "    .dataframe tbody tr th {\n",
       "        vertical-align: top;\n",
       "    }\n",
       "\n",
       "    .dataframe thead th {\n",
       "        text-align: right;\n",
       "    }\n",
       "</style>\n",
       "<table border=\"1\" class=\"dataframe\">\n",
       "  <thead>\n",
       "    <tr style=\"text-align: right;\">\n",
       "      <th></th>\n",
       "      <th>KNN</th>\n",
       "    </tr>\n",
       "  </thead>\n",
       "  <tbody>\n",
       "    <tr>\n",
       "      <th>accuracy</th>\n",
       "      <td>0.512511</td>\n",
       "    </tr>\n",
       "    <tr>\n",
       "      <th>f-1</th>\n",
       "      <td>0.232469</td>\n",
       "    </tr>\n",
       "    <tr>\n",
       "      <th>recall</th>\n",
       "      <td>0.254840</td>\n",
       "    </tr>\n",
       "    <tr>\n",
       "      <th>precision</th>\n",
       "      <td>0.221302</td>\n",
       "    </tr>\n",
       "  </tbody>\n",
       "</table>\n",
       "</div>"
      ],
      "text/plain": [
       "                KNN\n",
       "accuracy   0.512511\n",
       "f-1        0.232469\n",
       "recall     0.254840\n",
       "precision  0.221302"
      ]
     },
     "execution_count": 20,
     "metadata": {},
     "output_type": "execute_result"
    },
    {
     "data": {
      "image/png": "[encoded data removed]",
      "text/plain": [
       "<Figure size 720x720 with 2 Axes>"
      ]
     },
     "metadata": {
      "needs_background": "light"
     },
     "output_type": "display_data"
    }
   ],
   "source": [
    "df_KNN= error_modelo(KNN,X_test,y_test)\n",
    "df_KNN.columns=['KNN']\n",
    "df_KNN"
   ]
  },
  {
   "cell_type": "code",
   "execution_count": 21,
   "metadata": {},
   "outputs": [
    {
     "name": "stdout",
     "output_type": "stream",
     "text": [
      "Accuracy 0.6942324003392706\n",
      "F1 0.30528177125509764\n",
      "Precision 0.27859817283211025\n",
      "Recall 0.3393085485084658\n",
      "------------------------------\n",
      "ROC 0.7132963496898228\n"
     ]
    },
    {
     "name": "stderr",
     "output_type": "stream",
     "text": [
      "c:\\Users\\jtr_7\\AppData\\Local\\Programs\\Python\\Python37\\lib\\site-packages\\sklearn\\metrics\\_classification.py:1318: UndefinedMetricWarning: Precision is ill-defined and being set to 0.0 in labels with no predicted samples. Use `zero_division` parameter to control this behavior.\n",
      "  _warn_prf(average, modifier, msg_start, len(result))\n"
     ]
    },
    {
     "data": {
      "text/html": [
       "<div>\n",
       "<style scoped>\n",
       "    .dataframe tbody tr th:only-of-type {\n",
       "        vertical-align: middle;\n",
       "    }\n",
       "\n",
       "    .dataframe tbody tr th {\n",
       "        vertical-align: top;\n",
       "    }\n",
       "\n",
       "    .dataframe thead th {\n",
       "        text-align: right;\n",
       "    }\n",
       "</style>\n",
       "<table border=\"1\" class=\"dataframe\">\n",
       "  <thead>\n",
       "    <tr style=\"text-align: right;\">\n",
       "      <th></th>\n",
       "      <th>LOGREG</th>\n",
       "    </tr>\n",
       "  </thead>\n",
       "  <tbody>\n",
       "    <tr>\n",
       "      <th>accuracy</th>\n",
       "      <td>0.694232</td>\n",
       "    </tr>\n",
       "    <tr>\n",
       "      <th>f-1</th>\n",
       "      <td>0.305282</td>\n",
       "    </tr>\n",
       "    <tr>\n",
       "      <th>recall</th>\n",
       "      <td>0.339309</td>\n",
       "    </tr>\n",
       "    <tr>\n",
       "      <th>precision</th>\n",
       "      <td>0.278598</td>\n",
       "    </tr>\n",
       "  </tbody>\n",
       "</table>\n",
       "</div>"
      ],
      "text/plain": [
       "             LOGREG\n",
       "accuracy   0.694232\n",
       "f-1        0.305282\n",
       "recall     0.339309\n",
       "precision  0.278598"
      ]
     },
     "execution_count": 21,
     "metadata": {},
     "output_type": "execute_result"
    },
    {
     "data": {
      "image/png": "[encoded data removed]",
      "text/plain": [
       "<Figure size 720x720 with 2 Axes>"
      ]
     },
     "metadata": {
      "needs_background": "light"
     },
     "output_type": "display_data"
    }
   ],
   "source": [
    "df_LOGREG= error_modelo(LOGREG,X_test,y_test)\n",
    "df_LOGREG.columns=['LOGREG']\n",
    "df_LOGREG"
   ]
  },
  {
   "cell_type": "markdown",
   "metadata": {},
   "source": [
    "Se puede ver que *ninguno de los modelos se adapta mejor* a los datos al realizar RESAMPLE, por lo que apartamos este camino en vista a estos datos. "
   ]
  },
  {
   "cell_type": "code",
   "execution_count": 22,
   "metadata": {},
   "outputs": [
    {
     "data": {
      "text/html": [
       "<div>\n",
       "<style scoped>\n",
       "    .dataframe tbody tr th:only-of-type {\n",
       "        vertical-align: middle;\n",
       "    }\n",
       "\n",
       "    .dataframe tbody tr th {\n",
       "        vertical-align: top;\n",
       "    }\n",
       "\n",
       "    .dataframe thead th {\n",
       "        text-align: right;\n",
       "    }\n",
       "</style>\n",
       "<table border=\"1\" class=\"dataframe\">\n",
       "  <thead>\n",
       "    <tr style=\"text-align: right;\">\n",
       "      <th></th>\n",
       "      <th>ADA</th>\n",
       "      <th>BAG</th>\n",
       "      <th>DTC</th>\n",
       "      <th>RND</th>\n",
       "      <th>GBCT</th>\n",
       "      <th>KNN</th>\n",
       "      <th>LOGREG</th>\n",
       "    </tr>\n",
       "  </thead>\n",
       "  <tbody>\n",
       "    <tr>\n",
       "      <th>accuracy</th>\n",
       "      <td>0.696353</td>\n",
       "      <td>0.699109</td>\n",
       "      <td>0.697413</td>\n",
       "      <td>0.696777</td>\n",
       "      <td>0.703562</td>\n",
       "      <td>0.512511</td>\n",
       "      <td>0.694232</td>\n",
       "    </tr>\n",
       "    <tr>\n",
       "      <th>f-1</th>\n",
       "      <td>0.338989</td>\n",
       "      <td>0.339632</td>\n",
       "      <td>0.340177</td>\n",
       "      <td>0.341260</td>\n",
       "      <td>0.330758</td>\n",
       "      <td>0.232469</td>\n",
       "      <td>0.305282</td>\n",
       "    </tr>\n",
       "    <tr>\n",
       "      <th>recall</th>\n",
       "      <td>0.354130</td>\n",
       "      <td>0.355331</td>\n",
       "      <td>0.355034</td>\n",
       "      <td>0.355433</td>\n",
       "      <td>0.352528</td>\n",
       "      <td>0.254840</td>\n",
       "      <td>0.339309</td>\n",
       "    </tr>\n",
       "    <tr>\n",
       "      <th>precision</th>\n",
       "      <td>0.379732</td>\n",
       "      <td>0.405617</td>\n",
       "      <td>0.387861</td>\n",
       "      <td>0.388729</td>\n",
       "      <td>0.425418</td>\n",
       "      <td>0.221302</td>\n",
       "      <td>0.278598</td>\n",
       "    </tr>\n",
       "  </tbody>\n",
       "</table>\n",
       "</div>"
      ],
      "text/plain": [
       "                ADA       BAG       DTC       RND      GBCT       KNN  \\\n",
       "accuracy   0.696353  0.699109  0.697413  0.696777  0.703562  0.512511   \n",
       "f-1        0.338989  0.339632  0.340177  0.341260  0.330758  0.232469   \n",
       "recall     0.354130  0.355331  0.355034  0.355433  0.352528  0.254840   \n",
       "precision  0.379732  0.405617  0.387861  0.388729  0.425418  0.221302   \n",
       "\n",
       "             LOGREG  \n",
       "accuracy   0.694232  \n",
       "f-1        0.305282  \n",
       "recall     0.339309  \n",
       "precision  0.278598  "
      ]
     },
     "execution_count": 22,
     "metadata": {},
     "output_type": "execute_result"
    }
   ],
   "source": [
    "df_errores=pd.DataFrame()\n",
    "df_errores=pd.concat([df_ADA,df_BAG,df_DTC,df_RND,df_GBCT,df_KNN,df_LOGREG],axis=1)\n",
    "df_errores"
   ]
  }
 ],
 "metadata": {
  "kernelspec": {
   "display_name": "Python 3.7.4 64-bit",
   "language": "python",
   "name": "python3"
  },
  "language_info": {
   "codemirror_mode": {
    "name": "ipython",
    "version": 3
   },
   "file_extension": ".py",
   "mimetype": "text/x-python",
   "name": "python",
   "nbconvert_exporter": "python",
   "pygments_lexer": "ipython3",
   "version": "3.7.4"
  },
  "orig_nbformat": 4,
  "vscode": {
   "interpreter": {
    "hash": "c0e4a4af33acb5d51fe8962d9e2e7588108ae49a894b6d1e35c2101e79360239"
   }
  }
 },
 "nbformat": 4,
 "nbformat_minor": 2
}
