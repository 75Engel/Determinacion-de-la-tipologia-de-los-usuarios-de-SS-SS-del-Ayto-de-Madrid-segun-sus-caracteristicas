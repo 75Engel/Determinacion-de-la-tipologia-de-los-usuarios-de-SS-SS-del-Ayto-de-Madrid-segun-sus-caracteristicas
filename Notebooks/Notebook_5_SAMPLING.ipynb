{
 "cells": [
  {
   "cell_type": "code",
   "execution_count": 1,
   "metadata": {},
   "outputs": [],
   "source": [
    "\"\"\"\n",
    "IMPORTS\n",
    "\"\"\"\n",
    "import pandas as pd\n",
    "import xlrd\n",
    "import seaborn as sns\n",
    "import matplotlib.pyplot as plt\n",
    "import squarify\n",
    "import folium \n",
    "from folium import plugins\n",
    "import ipywidgets\n",
    "import geocoder\n",
    "import geopy\n",
    "import numpy as np\n",
    "from vega_datasets import data as vds\n",
    "from branca.element import Figure\n",
    "import re\n",
    "from datetime import datetime\n"
   ]
  },
  {
   "cell_type": "code",
   "execution_count": 2,
   "metadata": {},
   "outputs": [],
   "source": [
    "from sklearn.model_selection import train_test_split\n",
    "from sklearn.linear_model import LinearRegression\n",
    "from sklearn.preprocessing import PolynomialFeatures\n",
    "from sklearn.metrics import r2_score\n",
    "from sklearn.tree import DecisionTreeClassifier,plot_tree\n",
    "from sklearn.metrics import accuracy_score,precision_score,recall_score,roc_auc_score,f1_score,confusion_matrix\n",
    "\n",
    "from sklearn import metrics"
   ]
  },
  {
   "cell_type": "markdown",
   "metadata": {},
   "source": [
    "### 1.- Obtención de los datos"
   ]
  },
  {
   "cell_type": "code",
   "execution_count": 3,
   "metadata": {},
   "outputs": [
    {
     "data": {
      "text/html": [
       "<div>\n",
       "<style scoped>\n",
       "    .dataframe tbody tr th:only-of-type {\n",
       "        vertical-align: middle;\n",
       "    }\n",
       "\n",
       "    .dataframe tbody tr th {\n",
       "        vertical-align: top;\n",
       "    }\n",
       "\n",
       "    .dataframe thead th {\n",
       "        text-align: right;\n",
       "    }\n",
       "</style>\n",
       "<table border=\"1\" class=\"dataframe\">\n",
       "  <thead>\n",
       "    <tr style=\"text-align: right;\">\n",
       "      <th></th>\n",
       "      <th>Código Tipo Supuesto Urgente</th>\n",
       "      <th>Código Distrito Centro</th>\n",
       "      <th>Age_range_code</th>\n",
       "      <th>Nationality_code</th>\n",
       "      <th>Sex_code</th>\n",
       "      <th>year</th>\n",
       "    </tr>\n",
       "  </thead>\n",
       "  <tbody>\n",
       "    <tr>\n",
       "      <th>0</th>\n",
       "      <td>30.0</td>\n",
       "      <td>11</td>\n",
       "      <td>0</td>\n",
       "      <td>2</td>\n",
       "      <td>1</td>\n",
       "      <td>2021</td>\n",
       "    </tr>\n",
       "    <tr>\n",
       "      <th>1</th>\n",
       "      <td>30.0</td>\n",
       "      <td>11</td>\n",
       "      <td>1</td>\n",
       "      <td>1</td>\n",
       "      <td>1</td>\n",
       "      <td>2021</td>\n",
       "    </tr>\n",
       "    <tr>\n",
       "      <th>2</th>\n",
       "      <td>40.0</td>\n",
       "      <td>5</td>\n",
       "      <td>6</td>\n",
       "      <td>1</td>\n",
       "      <td>1</td>\n",
       "      <td>2021</td>\n",
       "    </tr>\n",
       "    <tr>\n",
       "      <th>3</th>\n",
       "      <td>30.0</td>\n",
       "      <td>15</td>\n",
       "      <td>0</td>\n",
       "      <td>2</td>\n",
       "      <td>0</td>\n",
       "      <td>2021</td>\n",
       "    </tr>\n",
       "    <tr>\n",
       "      <th>4</th>\n",
       "      <td>40.0</td>\n",
       "      <td>10</td>\n",
       "      <td>6</td>\n",
       "      <td>1</td>\n",
       "      <td>1</td>\n",
       "      <td>2021</td>\n",
       "    </tr>\n",
       "    <tr>\n",
       "      <th>...</th>\n",
       "      <td>...</td>\n",
       "      <td>...</td>\n",
       "      <td>...</td>\n",
       "      <td>...</td>\n",
       "      <td>...</td>\n",
       "      <td>...</td>\n",
       "    </tr>\n",
       "    <tr>\n",
       "      <th>28394</th>\n",
       "      <td>50.0</td>\n",
       "      <td>6</td>\n",
       "      <td>2</td>\n",
       "      <td>1</td>\n",
       "      <td>1</td>\n",
       "      <td>2020</td>\n",
       "    </tr>\n",
       "    <tr>\n",
       "      <th>28395</th>\n",
       "      <td>50.0</td>\n",
       "      <td>6</td>\n",
       "      <td>4</td>\n",
       "      <td>1</td>\n",
       "      <td>1</td>\n",
       "      <td>2020</td>\n",
       "    </tr>\n",
       "    <tr>\n",
       "      <th>28396</th>\n",
       "      <td>50.0</td>\n",
       "      <td>8</td>\n",
       "      <td>1</td>\n",
       "      <td>1</td>\n",
       "      <td>0</td>\n",
       "      <td>2020</td>\n",
       "    </tr>\n",
       "    <tr>\n",
       "      <th>28397</th>\n",
       "      <td>50.0</td>\n",
       "      <td>11</td>\n",
       "      <td>3</td>\n",
       "      <td>1</td>\n",
       "      <td>1</td>\n",
       "      <td>2020</td>\n",
       "    </tr>\n",
       "    <tr>\n",
       "      <th>28398</th>\n",
       "      <td>50.0</td>\n",
       "      <td>6</td>\n",
       "      <td>4</td>\n",
       "      <td>1</td>\n",
       "      <td>1</td>\n",
       "      <td>2020</td>\n",
       "    </tr>\n",
       "  </tbody>\n",
       "</table>\n",
       "<p>28399 rows × 6 columns</p>\n",
       "</div>"
      ],
      "text/plain": [
       "       Código Tipo Supuesto Urgente  Código Distrito Centro  Age_range_code  \\\n",
       "0                              30.0                      11               0   \n",
       "1                              30.0                      11               1   \n",
       "2                              40.0                       5               6   \n",
       "3                              30.0                      15               0   \n",
       "4                              40.0                      10               6   \n",
       "...                             ...                     ...             ...   \n",
       "28394                          50.0                       6               2   \n",
       "28395                          50.0                       6               4   \n",
       "28396                          50.0                       8               1   \n",
       "28397                          50.0                      11               3   \n",
       "28398                          50.0                       6               4   \n",
       "\n",
       "       Nationality_code  Sex_code  year  \n",
       "0                     2         1  2021  \n",
       "1                     1         1  2021  \n",
       "2                     1         1  2021  \n",
       "3                     2         0  2021  \n",
       "4                     1         1  2021  \n",
       "...                 ...       ...   ...  \n",
       "28394                 1         1  2020  \n",
       "28395                 1         1  2020  \n",
       "28396                 1         0  2020  \n",
       "28397                 1         1  2020  \n",
       "28398                 1         1  2020  \n",
       "\n",
       "[28399 rows x 6 columns]"
      ]
     },
     "execution_count": 3,
     "metadata": {},
     "output_type": "execute_result"
    }
   ],
   "source": [
    "df_modelado= pd.read_csv('E:\\Bootcamp_22\\Javier\\Repositorios\\Machine_Learning\\data\\Outcomes\\df_urgencias_totales_balanced.csv',sep=',')\n",
    "df_modelado"
   ]
  },
  {
   "cell_type": "markdown",
   "metadata": {},
   "source": [
    "### 2.- Preparing TRAIN AND TEST DataFrames"
   ]
  },
  {
   "cell_type": "code",
   "execution_count": 4,
   "metadata": {},
   "outputs": [],
   "source": [
    "X=df_modelado[['Código Distrito Centro','Age_range_code','Nationality_code','Sex_code','year']]\n",
    "y=df_modelado['Código Tipo Supuesto Urgente']"
   ]
  },
  {
   "cell_type": "code",
   "execution_count": 5,
   "metadata": {},
   "outputs": [
    {
     "name": "stdout",
     "output_type": "stream",
     "text": [
      "(21299, 5)\n",
      "(7100, 5)\n",
      "(21299,)\n",
      "(7100,)\n"
     ]
    }
   ],
   "source": [
    "X_train, X_test, y_train, y_test = train_test_split(X, y, test_size=0.25, random_state=0)       # Genero los datos para entrenamiento y testeo\n",
    "print(X_train.shape)\n",
    "\n",
    "print(X_test.shape)\n",
    "\n",
    "print(y_train.shape)\n",
    "\n",
    "print(y_test.shape)"
   ]
  },
  {
   "cell_type": "code",
   "execution_count": 6,
   "metadata": {},
   "outputs": [
    {
     "data": {
      "text/html": [
       "<div>\n",
       "<style scoped>\n",
       "    .dataframe tbody tr th:only-of-type {\n",
       "        vertical-align: middle;\n",
       "    }\n",
       "\n",
       "    .dataframe tbody tr th {\n",
       "        vertical-align: top;\n",
       "    }\n",
       "\n",
       "    .dataframe thead th {\n",
       "        text-align: right;\n",
       "    }\n",
       "</style>\n",
       "<table border=\"1\" class=\"dataframe\">\n",
       "  <thead>\n",
       "    <tr style=\"text-align: right;\">\n",
       "      <th></th>\n",
       "      <th>Código Distrito Centro</th>\n",
       "      <th>Age_range_code</th>\n",
       "      <th>Nationality_code</th>\n",
       "      <th>Sex_code</th>\n",
       "      <th>year</th>\n",
       "      <th>Código Tipo Supuesto Urgente</th>\n",
       "    </tr>\n",
       "  </thead>\n",
       "  <tbody>\n",
       "    <tr>\n",
       "      <th>22694</th>\n",
       "      <td>7</td>\n",
       "      <td>3</td>\n",
       "      <td>0</td>\n",
       "      <td>0</td>\n",
       "      <td>2020</td>\n",
       "      <td>20.0</td>\n",
       "    </tr>\n",
       "    <tr>\n",
       "      <th>23890</th>\n",
       "      <td>8</td>\n",
       "      <td>1</td>\n",
       "      <td>1</td>\n",
       "      <td>1</td>\n",
       "      <td>2020</td>\n",
       "      <td>30.0</td>\n",
       "    </tr>\n",
       "    <tr>\n",
       "      <th>11081</th>\n",
       "      <td>12</td>\n",
       "      <td>4</td>\n",
       "      <td>1</td>\n",
       "      <td>1</td>\n",
       "      <td>2018</td>\n",
       "      <td>30.0</td>\n",
       "    </tr>\n",
       "    <tr>\n",
       "      <th>27550</th>\n",
       "      <td>6</td>\n",
       "      <td>4</td>\n",
       "      <td>0</td>\n",
       "      <td>1</td>\n",
       "      <td>2020</td>\n",
       "      <td>50.0</td>\n",
       "    </tr>\n",
       "    <tr>\n",
       "      <th>28213</th>\n",
       "      <td>6</td>\n",
       "      <td>2</td>\n",
       "      <td>1</td>\n",
       "      <td>0</td>\n",
       "      <td>2020</td>\n",
       "      <td>50.0</td>\n",
       "    </tr>\n",
       "    <tr>\n",
       "      <th>...</th>\n",
       "      <td>...</td>\n",
       "      <td>...</td>\n",
       "      <td>...</td>\n",
       "      <td>...</td>\n",
       "      <td>...</td>\n",
       "      <td>...</td>\n",
       "    </tr>\n",
       "    <tr>\n",
       "      <th>13123</th>\n",
       "      <td>12</td>\n",
       "      <td>6</td>\n",
       "      <td>1</td>\n",
       "      <td>1</td>\n",
       "      <td>2018</td>\n",
       "      <td>30.0</td>\n",
       "    </tr>\n",
       "    <tr>\n",
       "      <th>19648</th>\n",
       "      <td>15</td>\n",
       "      <td>2</td>\n",
       "      <td>1</td>\n",
       "      <td>1</td>\n",
       "      <td>2020</td>\n",
       "      <td>10.0</td>\n",
       "    </tr>\n",
       "    <tr>\n",
       "      <th>9845</th>\n",
       "      <td>2</td>\n",
       "      <td>6</td>\n",
       "      <td>1</td>\n",
       "      <td>1</td>\n",
       "      <td>2018</td>\n",
       "      <td>40.0</td>\n",
       "    </tr>\n",
       "    <tr>\n",
       "      <th>10799</th>\n",
       "      <td>13</td>\n",
       "      <td>6</td>\n",
       "      <td>1</td>\n",
       "      <td>0</td>\n",
       "      <td>2018</td>\n",
       "      <td>40.0</td>\n",
       "    </tr>\n",
       "    <tr>\n",
       "      <th>2732</th>\n",
       "      <td>11</td>\n",
       "      <td>4</td>\n",
       "      <td>1</td>\n",
       "      <td>1</td>\n",
       "      <td>2019</td>\n",
       "      <td>40.0</td>\n",
       "    </tr>\n",
       "  </tbody>\n",
       "</table>\n",
       "<p>21299 rows × 6 columns</p>\n",
       "</div>"
      ],
      "text/plain": [
       "       Código Distrito Centro  Age_range_code  Nationality_code  Sex_code  \\\n",
       "22694                       7               3                 0         0   \n",
       "23890                       8               1                 1         1   \n",
       "11081                      12               4                 1         1   \n",
       "27550                       6               4                 0         1   \n",
       "28213                       6               2                 1         0   \n",
       "...                       ...             ...               ...       ...   \n",
       "13123                      12               6                 1         1   \n",
       "19648                      15               2                 1         1   \n",
       "9845                        2               6                 1         1   \n",
       "10799                      13               6                 1         0   \n",
       "2732                       11               4                 1         1   \n",
       "\n",
       "       year  Código Tipo Supuesto Urgente  \n",
       "22694  2020                          20.0  \n",
       "23890  2020                          30.0  \n",
       "11081  2018                          30.0  \n",
       "27550  2020                          50.0  \n",
       "28213  2020                          50.0  \n",
       "...     ...                           ...  \n",
       "13123  2018                          30.0  \n",
       "19648  2020                          10.0  \n",
       "9845   2018                          40.0  \n",
       "10799  2018                          40.0  \n",
       "2732   2019                          40.0  \n",
       "\n",
       "[21299 rows x 6 columns]"
      ]
     },
     "execution_count": 6,
     "metadata": {},
     "output_type": "execute_result"
    }
   ],
   "source": [
    "train=pd.concat([X_train,y_train],axis=1)\n",
    "train\n"
   ]
  },
  {
   "cell_type": "code",
   "execution_count": 7,
   "metadata": {},
   "outputs": [
    {
     "data": {
      "text/html": [
       "<div>\n",
       "<style scoped>\n",
       "    .dataframe tbody tr th:only-of-type {\n",
       "        vertical-align: middle;\n",
       "    }\n",
       "\n",
       "    .dataframe tbody tr th {\n",
       "        vertical-align: top;\n",
       "    }\n",
       "\n",
       "    .dataframe thead th {\n",
       "        text-align: right;\n",
       "    }\n",
       "</style>\n",
       "<table border=\"1\" class=\"dataframe\">\n",
       "  <thead>\n",
       "    <tr style=\"text-align: right;\">\n",
       "      <th></th>\n",
       "      <th>Código Distrito Centro</th>\n",
       "      <th>Age_range_code</th>\n",
       "      <th>Nationality_code</th>\n",
       "      <th>Sex_code</th>\n",
       "      <th>year</th>\n",
       "      <th>Código Tipo Supuesto Urgente</th>\n",
       "    </tr>\n",
       "  </thead>\n",
       "  <tbody>\n",
       "    <tr>\n",
       "      <th>14637</th>\n",
       "      <td>8</td>\n",
       "      <td>7</td>\n",
       "      <td>0</td>\n",
       "      <td>1</td>\n",
       "      <td>2020</td>\n",
       "      <td>40.0</td>\n",
       "    </tr>\n",
       "    <tr>\n",
       "      <th>15771</th>\n",
       "      <td>6</td>\n",
       "      <td>1</td>\n",
       "      <td>1</td>\n",
       "      <td>1</td>\n",
       "      <td>2020</td>\n",
       "      <td>50.0</td>\n",
       "    </tr>\n",
       "    <tr>\n",
       "      <th>16216</th>\n",
       "      <td>6</td>\n",
       "      <td>3</td>\n",
       "      <td>1</td>\n",
       "      <td>1</td>\n",
       "      <td>2020</td>\n",
       "      <td>50.0</td>\n",
       "    </tr>\n",
       "    <tr>\n",
       "      <th>14209</th>\n",
       "      <td>6</td>\n",
       "      <td>2</td>\n",
       "      <td>1</td>\n",
       "      <td>0</td>\n",
       "      <td>2020</td>\n",
       "      <td>30.0</td>\n",
       "    </tr>\n",
       "    <tr>\n",
       "      <th>19926</th>\n",
       "      <td>6</td>\n",
       "      <td>1</td>\n",
       "      <td>0</td>\n",
       "      <td>1</td>\n",
       "      <td>2020</td>\n",
       "      <td>10.0</td>\n",
       "    </tr>\n",
       "    <tr>\n",
       "      <th>...</th>\n",
       "      <td>...</td>\n",
       "      <td>...</td>\n",
       "      <td>...</td>\n",
       "      <td>...</td>\n",
       "      <td>...</td>\n",
       "      <td>...</td>\n",
       "    </tr>\n",
       "    <tr>\n",
       "      <th>23013</th>\n",
       "      <td>11</td>\n",
       "      <td>3</td>\n",
       "      <td>1</td>\n",
       "      <td>1</td>\n",
       "      <td>2020</td>\n",
       "      <td>30.0</td>\n",
       "    </tr>\n",
       "    <tr>\n",
       "      <th>10673</th>\n",
       "      <td>11</td>\n",
       "      <td>3</td>\n",
       "      <td>1</td>\n",
       "      <td>1</td>\n",
       "      <td>2018</td>\n",
       "      <td>40.0</td>\n",
       "    </tr>\n",
       "    <tr>\n",
       "      <th>20206</th>\n",
       "      <td>3</td>\n",
       "      <td>4</td>\n",
       "      <td>1</td>\n",
       "      <td>0</td>\n",
       "      <td>2020</td>\n",
       "      <td>10.0</td>\n",
       "    </tr>\n",
       "    <tr>\n",
       "      <th>18405</th>\n",
       "      <td>15</td>\n",
       "      <td>7</td>\n",
       "      <td>0</td>\n",
       "      <td>0</td>\n",
       "      <td>2020</td>\n",
       "      <td>10.0</td>\n",
       "    </tr>\n",
       "    <tr>\n",
       "      <th>6683</th>\n",
       "      <td>11</td>\n",
       "      <td>5</td>\n",
       "      <td>2</td>\n",
       "      <td>1</td>\n",
       "      <td>2019</td>\n",
       "      <td>30.0</td>\n",
       "    </tr>\n",
       "  </tbody>\n",
       "</table>\n",
       "<p>7100 rows × 6 columns</p>\n",
       "</div>"
      ],
      "text/plain": [
       "       Código Distrito Centro  Age_range_code  Nationality_code  Sex_code  \\\n",
       "14637                       8               7                 0         1   \n",
       "15771                       6               1                 1         1   \n",
       "16216                       6               3                 1         1   \n",
       "14209                       6               2                 1         0   \n",
       "19926                       6               1                 0         1   \n",
       "...                       ...             ...               ...       ...   \n",
       "23013                      11               3                 1         1   \n",
       "10673                      11               3                 1         1   \n",
       "20206                       3               4                 1         0   \n",
       "18405                      15               7                 0         0   \n",
       "6683                       11               5                 2         1   \n",
       "\n",
       "       year  Código Tipo Supuesto Urgente  \n",
       "14637  2020                          40.0  \n",
       "15771  2020                          50.0  \n",
       "16216  2020                          50.0  \n",
       "14209  2020                          30.0  \n",
       "19926  2020                          10.0  \n",
       "...     ...                           ...  \n",
       "23013  2020                          30.0  \n",
       "10673  2018                          40.0  \n",
       "20206  2020                          10.0  \n",
       "18405  2020                          10.0  \n",
       "6683   2019                          30.0  \n",
       "\n",
       "[7100 rows x 6 columns]"
      ]
     },
     "execution_count": 7,
     "metadata": {},
     "output_type": "execute_result"
    }
   ],
   "source": [
    "test=pd.concat([X_test,y_test],axis=1)\n",
    "test"
   ]
  },
  {
   "cell_type": "code",
   "execution_count": 8,
   "metadata": {},
   "outputs": [],
   "source": [
    "train.to_csv('E:\\Bootcamp_22\\Javier\\Repositorios\\Machine_Learning\\data\\df_train_balanced.csv',header=True,index=False)\n",
    "test.to_csv('E:\\Bootcamp_22\\Javier\\Repositorios\\Machine_Learning\\data\\df_test_balanced.csv',header=True,index=False)"
   ]
  },
  {
   "cell_type": "markdown",
   "metadata": {},
   "source": [
    "### 3.- My first Model (DecisionTreeClassifier)"
   ]
  },
  {
   "cell_type": "code",
   "execution_count": 9,
   "metadata": {},
   "outputs": [],
   "source": [
    "train=pd.read_csv('E:\\Bootcamp_22\\Javier\\Repositorios\\Machine_Learning\\data\\df_train_balanced.csv',sep=',')\n",
    "test=pd.read_csv('E:\\Bootcamp_22\\Javier\\Repositorios\\Machine_Learning\\data\\df_test_balanced.csv',sep=',')\n"
   ]
  },
  {
   "cell_type": "code",
   "execution_count": 10,
   "metadata": {},
   "outputs": [],
   "source": [
    "X_test=test[['Código Distrito Centro','Age_range_code','Nationality_code','Sex_code','year']]\n",
    "X_train=train[['Código Distrito Centro','Age_range_code','Nationality_code','Sex_code','year']]\n",
    "y_test=test['Código Tipo Supuesto Urgente']\n",
    "y_train=train['Código Tipo Supuesto Urgente']"
   ]
  },
  {
   "cell_type": "code",
   "execution_count": 11,
   "metadata": {},
   "outputs": [
    {
     "name": "stdout",
     "output_type": "stream",
     "text": [
      "Accuracy 0.6764788732394367\n",
      "Precision 0.6764788732394367\n",
      "Recall 0.6764788732394367\n",
      "ROC 0.8756454650502559\n",
      "F1 0.6764788732394367\n"
     ]
    },
    {
     "data": {
      "text/plain": [
       "<AxesSubplot:>"
      ]
     },
     "execution_count": 11,
     "metadata": {},
     "output_type": "execute_result"
    },
    {
     "data": {
      "image/png": "[encoded data removed]",
      "text/plain": [
       "<Figure size 720x720 with 2 Axes>"
      ]
     },
     "metadata": {
      "needs_background": "light"
     },
     "output_type": "display_data"
    }
   ],
   "source": [
    "tree_reg = DecisionTreeClassifier(random_state=20)\n",
    "tree_reg.fit(X_train, y_train)\n",
    "y_pred = tree_reg.predict(X_test)\n",
    "\n",
    "\n",
    "\n",
    "print('Accuracy', accuracy_score(y_test, y_pred))\n",
    "print('Precision', precision_score(y_test, y_pred,average='micro'))\n",
    "print('Recall', recall_score(y_test, y_pred,average='micro'))\n",
    "print('ROC', roc_auc_score(y_test, tree_reg.predict_proba(X_test),multi_class='ovr'))\n",
    "print('F1', f1_score(y_test, y_pred,average='micro'))\n",
    "\n",
    "plt.figure(figsize=(10,10))\n",
    "sns.heatmap(confusion_matrix(y_test, y_pred, normalize='true'), annot=True)"
   ]
  },
  {
   "cell_type": "code",
   "execution_count": 12,
   "metadata": {},
   "outputs": [],
   "source": [
    "def error_modelo(model):\n",
    "    y_pred = model.predict(X_test)\n",
    "    acc_model=accuracy_score(y_test, y_pred)\n",
    "    precision_model=precision_score(y_test, y_pred,average='micro')\n",
    "    recall_model=recall_score(y_test, y_pred,average='micro')\n",
    "    roc_auc_model=roc_auc_score(y_test, model.predict_proba(X_test),multi_class='ovr')\n",
    "    f1_model=f1_score(y_test, y_pred,average='micro')\n",
    "    conf_model=confusion_matrix(y_test, y_pred, normalize='true')\n",
    "    print('Accuracy', acc_model)\n",
    "    print('Precision', precision_model)\n",
    "    print('Recall', recall_model)\n",
    "    print('ROC', roc_auc_model)\n",
    "    print('F1', f1_model)\n",
    "\n",
    "    plt.figure(figsize=(10,10))\n",
    "    sns.heatmap(conf_model, annot=True)"
   ]
  },
  {
   "cell_type": "code",
   "execution_count": 13,
   "metadata": {},
   "outputs": [
    {
     "name": "stdout",
     "output_type": "stream",
     "text": [
      "Accuracy 0.6764788732394367\n",
      "Precision 0.6764788732394367\n",
      "Recall 0.6764788732394367\n",
      "ROC 0.8756454650502559\n",
      "F1 0.6764788732394367\n"
     ]
    },
    {
     "data": {
      "image/png": "[encoded data removed]",
      "text/plain": [
       "<Figure size 720x720 with 2 Axes>"
      ]
     },
     "metadata": {
      "needs_background": "light"
     },
     "output_type": "display_data"
    }
   ],
   "source": [
    "error_modelo(tree_reg)"
   ]
  },
  {
   "cell_type": "code",
   "execution_count": 14,
   "metadata": {},
   "outputs": [],
   "source": [
    "import pickle "
   ]
  },
  {
   "cell_type": "code",
   "execution_count": null,
   "metadata": {},
   "outputs": [],
   "source": [
    "date=str(datetime.today().strftime('%y%m%d%H%M%S'))\n",
    "name=input(\"Introduce el nombre del modelo a grabar (iniciales): \")\n",
    "path=str('Javier/Repositorios/Machine_Learning/model/')\n",
    "file=path+name+date+'.pickle'\n",
    "pickle.dump(tree_reg,open(file,'wb'))"
   ]
  },
  {
   "cell_type": "code",
   "execution_count": 21,
   "metadata": {},
   "outputs": [],
   "source": [
    "\n",
    "#pickle_file= file('train.pickle','w')\n",
    "pickle.dump(tree_reg,open('train.pickle','wb'))"
   ]
  },
  {
   "cell_type": "code",
   "execution_count": 23,
   "metadata": {},
   "outputs": [],
   "source": [
    "favorite_color = pickle.load( open( \"train.pickle\", \"rb\" ) )"
   ]
  },
  {
   "cell_type": "code",
   "execution_count": 24,
   "metadata": {},
   "outputs": [
    {
     "data": {
      "text/plain": [
       "DecisionTreeClassifier(random_state=20)"
      ]
     },
     "execution_count": 24,
     "metadata": {},
     "output_type": "execute_result"
    }
   ],
   "source": [
    "favorite_color      #Vemos que se ha cargado el fichero"
   ]
  },
  {
   "cell_type": "code",
   "execution_count": 56,
   "metadata": {},
   "outputs": [
    {
     "name": "stdout",
     "output_type": "stream",
     "text": [
      "Javier/Repositorios/Machine_Learning/modelTDC220831165608.pickle\n"
     ]
    }
   ],
   "source": [
    "from datetime import datetime\n",
    "\n",
    "date=str(datetime.today().strftime('%y%m%d%H%M%S'))\n",
    "model=str('TDC')\n",
    "path=str('Javier/Repositorios/Machine_Learning/model')\n",
    "file=path+model+date+'.pickle'\n",
    "print(file)"
   ]
  },
  {
   "cell_type": "markdown",
   "metadata": {},
   "source": [
    "### 4.- Exploring Graphics"
   ]
  },
  {
   "cell_type": "markdown",
   "metadata": {},
   "source": [
    "### 5.- My first Model (linearRegression)"
   ]
  },
  {
   "cell_type": "code",
   "execution_count": null,
   "metadata": {},
   "outputs": [],
   "source": [
    "df_urgencias_corregido['Código Tipo Supuesto Urgente']=df_urgencias_corregido['Código Tipo Supuesto Urgente'].mask(df_urgencias_corregido['Código Tipo Supuesto Urgente'] == ' ').fillna(0)\n",
    "#   He añadido este codigo para ver si conseguia hacer que funcionará el modelo, al haber NaN en y"
   ]
  },
  {
   "cell_type": "code",
   "execution_count": null,
   "metadata": {},
   "outputs": [],
   "source": [
    "X=df_urgencias_corregido_prueba[['Código Distrito Centro','Age_range_code','Nationality_code','Sex_code','year']]\n",
    "y=df_urgencias_corregido_prueba['Código Tipo Supuesto Urgente']"
   ]
  },
  {
   "cell_type": "code",
   "execution_count": null,
   "metadata": {},
   "outputs": [],
   "source": [
    "\n",
    "lin_reg = LinearRegression()   \n",
    "X_train, X_test, y_train, y_test = train_test_split(X, y, test_size=0.25, random_state=0)\n",
    "lin_reg.fit(X_train, y_train)                           #   Entrenas/generas el modelo para determinar los coeficientes\n",
    "\n",
    "print(\"Estos son los datos del test y del target:\\n-----\")\n",
    "print(\"Total features shape:\", X.shape)\n",
    "print(\"Train features shape:\", X_train.shape)\n",
    "print(\"Train target shape:\", y_train.shape)\n",
    "print(\"Test features shape:\", X_test.shape)\n",
    "print(\"Test target shape:\", y_test.shape)  \n",
    "\n",
    "#    print(\"Estos son los datos del valor de y en x=0 y de las pendientes de cada gradiente de las variables:\\n-----\")\n",
    "#    print(lin_reg.intercept_)\n",
    "#    print(lin_reg.coef_)\n",
    "coeff_df = pd.DataFrame(lin_reg.coef_,\n",
    "                            X.columns,\n",
    "                            columns=['Coefficient'])\n",
    "print(\"-----\\nEstos son las pendientes de cada gradiente visto en un Dataframe:\")\n",
    "print(coeff_df)\n",
    "\n",
    "predictions = lin_reg.predict(X_test)                   #   Determino los resultados que deberían de dar con los valores guardados para\n",
    "print(\"-----\\nEl factor de correlacion de la regresión es: \",lin_reg.score(X_test, y_test))\n",
    "print(\"-----\\nErrores de las predicciones:\")\n",
    "print('MAE:', metrics.mean_absolute_error(y_test, predictions))\n",
    "print('MAPE:', metrics.mean_absolute_percentage_error(y_test, predictions))\n",
    "print('MSE:', metrics.mean_squared_error(y_test, predictions))\n",
    "print('RMSE:', np.sqrt(metrics.mean_squared_error(y_test, predictions)))\n",
    "print(\"-----\\nErrores de los tests:\")\n",
    "print('MAE:', metrics.mean_absolute_error(y_train, lin_reg.predict(X_train)))\n",
    "print('MAPE:', metrics.mean_absolute_percentage_error(y_train, lin_reg.predict(X_train)))\n",
    "print('MSE:', metrics.mean_squared_error(y_train, lin_reg.predict(X_train)))\n",
    "print('RMSE:', np.sqrt(metrics.mean_squared_error(y_train, lin_reg.predict(X_train))))\n",
    "\n",
    "print(\"Esta es la importancia de las variables:\\n-----\")\n",
    "features = pd.DataFrame(lin_reg.coef_, X_train.columns, columns=['coefficient'])\n",
    "print(features.head().sort_values('coefficient', ascending=False))"
   ]
  },
  {
   "cell_type": "markdown",
   "metadata": {},
   "source": [
    "Se observa en los datos que, efectivamente, un **módelo de regresión lineal** no es válido para este tipo de predicciones, ya que el coeficiente de correlación de la regresión es 0.268."
   ]
  }
 ],
 "metadata": {
  "kernelspec": {
   "display_name": "Python 3.7.4 64-bit",
   "language": "python",
   "name": "python3"
  },
  "language_info": {
   "codemirror_mode": {
    "name": "ipython",
    "version": 3
   },
   "file_extension": ".py",
   "mimetype": "text/x-python",
   "name": "python",
   "nbconvert_exporter": "python",
   "pygments_lexer": "ipython3",
   "version": "3.7.4"
  },
  "orig_nbformat": 4,
  "vscode": {
   "interpreter": {
    "hash": "c0e4a4af33acb5d51fe8962d9e2e7588108ae49a894b6d1e35c2101e79360239"
   }
  }
 },
 "nbformat": 4,
 "nbformat_minor": 2
}
