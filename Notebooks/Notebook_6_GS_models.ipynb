{
 "cells": [
  {
   "cell_type": "markdown",
   "metadata": {},
   "source": [
    "### 1. LOADING FILES"
   ]
  },
  {
   "cell_type": "code",
   "execution_count": 1,
   "metadata": {},
   "outputs": [],
   "source": [
    "import pickle \n",
    "import pandas as pd\n",
    "import numpy as np\n",
    "import seaborn as sns\n",
    "import matplotlib.pyplot as plt\n",
    "import os\n",
    "from datetime import datetime"
   ]
  },
  {
   "cell_type": "code",
   "execution_count": 2,
   "metadata": {},
   "outputs": [],
   "source": [
    "from sklearn.tree import DecisionTreeClassifier\n",
    "from sklearn.ensemble import RandomForestClassifier,AdaBoostClassifier,GradientBoostingClassifier,BaggingClassifier\n",
    "from sklearn.model_selection import train_test_split\n",
    "from sklearn.model_selection import GridSearchCV\n",
    "from sklearn.pipeline import Pipeline\n",
    "from sklearn.metrics import accuracy_score,precision_score,recall_score,roc_auc_score,f1_score,confusion_matrix"
   ]
  },
  {
   "cell_type": "code",
   "execution_count": 111,
   "metadata": {},
   "outputs": [],
   "source": [
    "lista_modelos=['DTC','RND','BAG','ADA','GBCT','LOGREG','KNN']"
   ]
  },
  {
   "cell_type": "code",
   "execution_count": 3,
   "metadata": {},
   "outputs": [],
   "source": [
    "train=pd.read_csv('E:\\Bootcamp_22\\Javier\\Repositorios\\Machine_Learning\\data\\df_train.csv',sep=',')\n",
    "test=pd.read_csv('E:\\Bootcamp_22\\Javier\\Repositorios\\Machine_Learning\\data\\df_test.csv',sep=',')\n",
    "X_test=test[['Código Distrito Centro','Age_range_code','Nationality_code','Sexo_code']]\n",
    "X_train=train[['Código Distrito Centro','Age_range_code','Nationality_code','Sexo_code']]\n",
    "y_test=test['Código Tipo Supuesto Urgente']\n",
    "y_train=train['Código Tipo Supuesto Urgente']"
   ]
  },
  {
   "cell_type": "code",
   "execution_count": 6,
   "metadata": {},
   "outputs": [
    {
     "name": "stdout",
     "output_type": "stream",
     "text": [
      "(9477, 5)\n",
      "(28429, 5)\n",
      "(9477,)\n",
      "(28429,)\n"
     ]
    }
   ],
   "source": [
    "print(X_test.shape)\n",
    "print(X_train.shape)\n",
    "print(y_test.shape)\n",
    "print(y_train.shape)"
   ]
  },
  {
   "cell_type": "code",
   "execution_count": 4,
   "metadata": {},
   "outputs": [],
   "source": [
    "def load_files(file):\n",
    "    '''\n",
    "    Cargar modelos con formato binario en un notebook o fichero python\n",
    "    '''\n",
    "    os.chdir('E:\\Bootcamp_22\\Javier\\Repositorios\\Machine_Learning\\model')\n",
    "    model = pickle.load( open( file, \"rb\" ) )\n",
    "    return model"
   ]
  },
  {
   "cell_type": "code",
   "execution_count": 5,
   "metadata": {},
   "outputs": [],
   "source": [
    "def save_files(model):\n",
    "    '''\n",
    "    Grabar modelos con formato binario en una carpeta\n",
    "    '''\n",
    "    os.chdir('E:/Bootcamp_22/Javier/Repositorios/Machine_Learning/model')\n",
    "    date=str(datetime.today().strftime('%y%m%d%H%M%S'))\n",
    "    name=input(\"Introduce el nombre del modelo a grabar (iniciales): \")\n",
    "    file=name+date+'.pickle'\n",
    "    pickle.dump(model,open(file,'wb'))"
   ]
  },
  {
   "cell_type": "markdown",
   "metadata": {},
   "source": [
    "Aqui vamos a cargar los modelos para pasar los test"
   ]
  },
  {
   "cell_type": "code",
   "execution_count": 14,
   "metadata": {},
   "outputs": [],
   "source": [
    "ADA = load_files( 'ADA220909190844.pickle' ) \n",
    "BAG = load_files( 'BAG220909190839.pickle' ) \n",
    "DTC = load_files( 'DTC220909190809.pickle' ) \n",
    "GBCT = load_files( 'GBCT220909190855.pickle' ) \n",
    "RND = load_files( 'RND220909190829.pickle' ) "
   ]
  },
  {
   "cell_type": "markdown",
   "metadata": {},
   "source": [
    "### 2. CALCULATING ERROR IN EACH MODEL"
   ]
  },
  {
   "cell_type": "code",
   "execution_count": 12,
   "metadata": {},
   "outputs": [],
   "source": [
    "def error_modelo(model, x_test, Y_test):\n",
    "    '''\n",
    "    Dejamos grabada cada uno de los parámetros de cada modelo y hacemos su representación\n",
    "    '''\n",
    "    y_pred = model.predict(X_test)\n",
    "    f1_model=f1_score(y_test, y_pred,average='macro')\n",
    "    acc_model=accuracy_score(y_test, y_pred)\n",
    "    precision_model=precision_score(y_test, y_pred,average='macro')\n",
    "    recall_model=recall_score(y_test, y_pred,average='macro')\n",
    "    roc_auc_model=roc_auc_score(y_test, model.predict_proba(X_test),multi_class='ovr')\n",
    "    conf_model=confusion_matrix(y_test, y_pred, normalize='true')\n",
    "    model_error = {'accuracy': acc_model, 'f-1': f1_model, 'recall': recall_model , 'precision': precision_model}\n",
    "    print(model_error)\n",
    "    df=pd.DataFrame.from_dict(model_error,orient='index')\n",
    "    print('Accuracy', acc_model)\n",
    "    print('F1', f1_model)\n",
    "    print('Precision', precision_model)\n",
    "    print('Recall', recall_model)\n",
    "    print('-'*30)\n",
    "    print('ROC', roc_auc_model)\n",
    "\n",
    "    plt.figure(figsize=(10,10))\n",
    "    sns.heatmap(conf_model, annot=True)\n",
    "    return df"
   ]
  },
  {
   "cell_type": "markdown",
   "metadata": {},
   "source": [
    "### 3. LOOKING FOR THE BEST MODEL"
   ]
  },
  {
   "cell_type": "markdown",
   "metadata": {},
   "source": [
    "**ADA**"
   ]
  },
  {
   "cell_type": "code",
   "execution_count": 16,
   "metadata": {},
   "outputs": [
    {
     "name": "stdout",
     "output_type": "stream",
     "text": [
      "AdaBoostClassifier(algorithm='SAMME',\n",
      "                   base_estimator=DecisionTreeClassifier(max_depth=10,\n",
      "                                                         random_state=20),\n",
      "                   learning_rate=0.01, n_estimators=1, random_state=20)\n",
      "0.4452497439698043\n",
      "{'algorithm': 'SAMME', 'learning_rate': 0.01, 'n_estimators': 1}\n"
     ]
    }
   ],
   "source": [
    "ada_params = {\n",
    "    'n_estimators': np.arange(1,200,50),                                # hacerlo o mano y ver si consigo mejores resultados\n",
    "    'learning_rate': np.arange(0.01,0.1,0.02),\n",
    "    'algorithm': ['SAMME','SAMME.R']   \n",
    "}\n",
    "\n",
    "GS_ADA = GridSearchCV(estimator = ADA,\n",
    "                  param_grid = ada_params,\n",
    "#                  n_jobs = -1,              #Cuantos procesadores se utilizan, -1 es el maximo\n",
    "                  cv = 5,\n",
    "                  scoring='f1_macro',\n",
    "#                  error_score='raise'\n",
    "                    )\n",
    "\n",
    "GS_ADA.fit(X_train, y_train)\n",
    "print(GS_ADA.best_estimator_)\n",
    "print(GS_ADA.best_score_)\n",
    "print(GS_ADA.best_params_)"
   ]
  },
  {
   "cell_type": "markdown",
   "metadata": {},
   "source": [
    "Según estos datos habría que realizar un nuevo GS modificando el parámetro *learning_rate* disminuyendo el rango."
   ]
  },
  {
   "cell_type": "code",
   "execution_count": 17,
   "metadata": {},
   "outputs": [],
   "source": [
    "save_files(GS_ADA.best_estimator_)"
   ]
  },
  {
   "cell_type": "code",
   "execution_count": 18,
   "metadata": {},
   "outputs": [
    {
     "name": "stdout",
     "output_type": "stream",
     "text": [
      "{'accuracy': 0.7604308390022676, 'f-1': 0.4438933484920403, 'recall': 0.45284560054056466, 'precision': 0.43572527681231643}\n",
      "Accuracy 0.7604308390022676\n",
      "F1 0.4438933484920403\n",
      "Precision 0.43572527681231643\n",
      "Recall 0.45284560054056466\n",
      "------------------------------\n",
      "ROC 0.6696154813173864\n"
     ]
    },
    {
     "data": {
      "text/html": [
       "<div>\n",
       "<style scoped>\n",
       "    .dataframe tbody tr th:only-of-type {\n",
       "        vertical-align: middle;\n",
       "    }\n",
       "\n",
       "    .dataframe tbody tr th {\n",
       "        vertical-align: top;\n",
       "    }\n",
       "\n",
       "    .dataframe thead th {\n",
       "        text-align: right;\n",
       "    }\n",
       "</style>\n",
       "<table border=\"1\" class=\"dataframe\">\n",
       "  <thead>\n",
       "    <tr style=\"text-align: right;\">\n",
       "      <th></th>\n",
       "      <th>ADA</th>\n",
       "    </tr>\n",
       "  </thead>\n",
       "  <tbody>\n",
       "    <tr>\n",
       "      <th>accuracy</th>\n",
       "      <td>0.760431</td>\n",
       "    </tr>\n",
       "    <tr>\n",
       "      <th>f-1</th>\n",
       "      <td>0.443893</td>\n",
       "    </tr>\n",
       "    <tr>\n",
       "      <th>recall</th>\n",
       "      <td>0.452846</td>\n",
       "    </tr>\n",
       "    <tr>\n",
       "      <th>precision</th>\n",
       "      <td>0.435725</td>\n",
       "    </tr>\n",
       "  </tbody>\n",
       "</table>\n",
       "</div>"
      ],
      "text/plain": [
       "                ADA\n",
       "accuracy   0.760431\n",
       "f-1        0.443893\n",
       "recall     0.452846\n",
       "precision  0.435725"
      ]
     },
     "execution_count": 18,
     "metadata": {},
     "output_type": "execute_result"
    },
    {
     "data": {
      "image/png": "[encoded data removed]",
      "text/plain": [
       "<Figure size 720x720 with 2 Axes>"
      ]
     },
     "metadata": {
      "needs_background": "light"
     },
     "output_type": "display_data"
    }
   ],
   "source": [
    "df_GS_ADA= error_modelo(GS_ADA.best_estimator_, X_test, y_test)\n",
    "df_GS_ADA.columns=['ADA']\n",
    "df_GS_ADA"
   ]
  },
  {
   "cell_type": "markdown",
   "metadata": {},
   "source": [
    "**BAG**"
   ]
  },
  {
   "cell_type": "code",
   "execution_count": 19,
   "metadata": {},
   "outputs": [
    {
     "name": "stdout",
     "output_type": "stream",
     "text": [
      "BaggingClassifier(base_estimator=DecisionTreeClassifier(max_depth=10,\n",
      "                                                        random_state=20),\n",
      "                  max_features=4, max_samples=150, n_estimators=125,\n",
      "                  random_state=20, warm_start=True)\n",
      "0.7592592592592592\n",
      "{'bootstrap': True, 'max_features': 4, 'max_samples': 150, 'n_estimators': 125, 'warm_start': True}\n"
     ]
    }
   ],
   "source": [
    "bag_params = {\n",
    "    'bootstrap': [True,False],                              # hacerlo o mano y ver si consigo mejores resultados\n",
    "    'warm_start': [True,False],\n",
    "    'max_features': np.arange(3,5,1),\n",
    "    'max_samples': np.arange(125,175,25),\n",
    "    'n_estimators': np.arange(125,175,25)\n",
    "}\n",
    "\n",
    "GS_BAG = GridSearchCV(estimator = BAG,\n",
    "                  param_grid = bag_params,\n",
    "#                  n_jobs = -1,              #Cuantos procesadores se utilizan, -1 es el maximo\n",
    "                  cv = 5,\n",
    "                  scoring='f1_micro')\n",
    "\n",
    "GS_BAG.fit(X_train, y_train)\n",
    "print(GS_BAG.best_estimator_)\n",
    "print(GS_BAG.best_score_)\n",
    "print(GS_BAG.best_params_)"
   ]
  },
  {
   "cell_type": "markdown",
   "metadata": {},
   "source": [
    "Estos parámetros son válidos como valores de optimización.\n",
    "\n",
    "Se podría mejorar acotando más aún los mismos."
   ]
  },
  {
   "cell_type": "code",
   "execution_count": 20,
   "metadata": {},
   "outputs": [],
   "source": [
    "save_files(GS_BAG.best_estimator_)"
   ]
  },
  {
   "cell_type": "code",
   "execution_count": 21,
   "metadata": {},
   "outputs": [
    {
     "name": "stderr",
     "output_type": "stream",
     "text": [
      "c:\\Users\\jtr_7\\AppData\\Local\\Programs\\Python\\Python37\\lib\\site-packages\\sklearn\\metrics\\_classification.py:1318: UndefinedMetricWarning: Precision is ill-defined and being set to 0.0 in labels with no predicted samples. Use `zero_division` parameter to control this behavior.\n",
      "  _warn_prf(average, modifier, msg_start, len(result))\n"
     ]
    },
    {
     "name": "stdout",
     "output_type": "stream",
     "text": [
      "{'accuracy': 0.7626984126984127, 'f-1': 0.4461822879182811, 'recall': 0.4562989790832897, 'precision': 0.43714004813392293}\n",
      "Accuracy 0.7626984126984127\n",
      "F1 0.4461822879182811\n",
      "Precision 0.43714004813392293\n",
      "Recall 0.4562989790832897\n",
      "------------------------------\n",
      "ROC 0.8124244869011783\n"
     ]
    },
    {
     "data": {
      "image/png": "[encoded data removed]",
      "text/plain": [
       "<Figure size 720x720 with 2 Axes>"
      ]
     },
     "metadata": {
      "needs_background": "light"
     },
     "output_type": "display_data"
    }
   ],
   "source": [
    "df_GS_BAG = error_modelo(GS_BAG.best_estimator_, X_test, y_test)\n",
    "df_GS_BAG.columns=['BAG']"
   ]
  },
  {
   "cell_type": "markdown",
   "metadata": {},
   "source": [
    "**DTC**"
   ]
  },
  {
   "cell_type": "code",
   "execution_count": 22,
   "metadata": {},
   "outputs": [
    {
     "name": "stdout",
     "output_type": "stream",
     "text": [
      "DecisionTreeClassifier(max_depth=3, max_features=3, min_samples_leaf=0.05,\n",
      "                       min_samples_split=3, random_state=20)\n",
      "0.7401360544217687\n",
      "{'criterion': 'gini', 'max_depth': 3, 'max_features': 3, 'min_samples_leaf': 0.05, 'min_samples_split': 3}\n"
     ]
    }
   ],
   "source": [
    "DTC_params = {\n",
    "#    'max_leaf_nodes': np.arange(1,50,5),                    # hacerlo o mano y ver si consigo mejores resultados\n",
    "    'criterion': ['gini','entropy'],\n",
    "    'max_depth': np.arange(1,5,1),\n",
    "    'max_features': np.arange(3,5,1),\n",
    "    'min_samples_leaf': np.arange(0.05,0.15,0.05),\n",
    "    'min_samples_split': np.arange(3,7,1)\n",
    "}\n",
    "\n",
    "GS_DTC = GridSearchCV(estimator = DTC,\n",
    "                  param_grid = DTC_params,\n",
    "#                  n_jobs = -1,              #Cuantos procesadores se utilizan, -1 es el maximo\n",
    "                  cv = 3,\n",
    "                  scoring='f1_micro')\n",
    "\n",
    "GS_DTC.fit(X_train, y_train)\n",
    "print(GS_DTC.best_estimator_)\n",
    "print(GS_DTC.best_score_)\n",
    "print(GS_DTC.best_params_)"
   ]
  },
  {
   "cell_type": "code",
   "execution_count": 23,
   "metadata": {},
   "outputs": [],
   "source": [
    "save_files(GS_DTC.best_estimator_)"
   ]
  },
  {
   "cell_type": "code",
   "execution_count": 24,
   "metadata": {},
   "outputs": [
    {
     "name": "stderr",
     "output_type": "stream",
     "text": [
      "c:\\Users\\jtr_7\\AppData\\Local\\Programs\\Python\\Python37\\lib\\site-packages\\sklearn\\metrics\\_classification.py:1318: UndefinedMetricWarning: Precision is ill-defined and being set to 0.0 in labels with no predicted samples. Use `zero_division` parameter to control this behavior.\n",
      "  _warn_prf(average, modifier, msg_start, len(result))\n"
     ]
    },
    {
     "name": "stdout",
     "output_type": "stream",
     "text": [
      "{'accuracy': 0.7417233560090702, 'f-1': 0.43573349331328065, 'recall': 0.45590530165782184, 'precision': 0.42351130015477}\n",
      "Accuracy 0.7417233560090702\n",
      "F1 0.43573349331328065\n",
      "Precision 0.42351130015477\n",
      "Recall 0.45590530165782184\n",
      "------------------------------\n",
      "ROC 0.7707881528706151\n"
     ]
    },
    {
     "data": {
      "image/png": "[encoded data removed]",
      "text/plain": [
       "<Figure size 720x720 with 2 Axes>"
      ]
     },
     "metadata": {
      "needs_background": "light"
     },
     "output_type": "display_data"
    }
   ],
   "source": [
    "df_GS_DTC = error_modelo(GS_DTC.best_estimator_, X_test, y_test)\n",
    "df_GS_DTC.columns=['DTC']"
   ]
  },
  {
   "cell_type": "markdown",
   "metadata": {},
   "source": [
    "**RND**"
   ]
  },
  {
   "cell_type": "code",
   "execution_count": 25,
   "metadata": {},
   "outputs": [
    {
     "name": "stdout",
     "output_type": "stream",
     "text": [
      "RandomForestClassifier(max_depth=4, max_features=3, max_leaf_nodes=7,\n",
      "                       random_state=20)\n",
      "0.7540060468631897\n",
      "{'max_depth': 4, 'max_features': 3, 'max_leaf_nodes': 7, 'min_samples_split': 2}\n"
     ]
    }
   ],
   "source": [
    "random_forest_params = {                            # pendiente de volver a realizarlo\n",
    "    'max_leaf_nodes': [5,6,7],\n",
    "#    'criterion': ['gini','entropy'],\n",
    "    'max_depth': [2,3,4],\n",
    "    'max_features': [3,4],\n",
    "#    'min_samples_leaf': [0.05,0.1,0.15],\n",
    "#    'bootstrap': [True,False],\n",
    "#    'warm_start': [True,False],\n",
    "    'min_samples_split': [2 ,5,15,20]\n",
    "}\n",
    "\n",
    "GS_RND = GridSearchCV(estimator = RND,\n",
    "                  param_grid = random_forest_params,\n",
    "#                  n_jobs = -1,              #Cuantos procesadores se utilizan, -1 es el maximo\n",
    "                  cv = 3,\n",
    "#                  error_score='raise',\n",
    "                  scoring='f1_micro')\n",
    "\n",
    "GS_RND.fit(X_train, y_train)\n",
    "print(GS_RND.best_estimator_)\n",
    "print(GS_RND.best_score_)\n",
    "print(GS_RND.best_params_)"
   ]
  },
  {
   "cell_type": "code",
   "execution_count": 26,
   "metadata": {},
   "outputs": [],
   "source": [
    "save_files(GS_RND.best_estimator_)"
   ]
  },
  {
   "cell_type": "code",
   "execution_count": 27,
   "metadata": {},
   "outputs": [
    {
     "name": "stderr",
     "output_type": "stream",
     "text": [
      "c:\\Users\\jtr_7\\AppData\\Local\\Programs\\Python\\Python37\\lib\\site-packages\\sklearn\\metrics\\_classification.py:1318: UndefinedMetricWarning: Precision is ill-defined and being set to 0.0 in labels with no predicted samples. Use `zero_division` parameter to control this behavior.\n",
      "  _warn_prf(average, modifier, msg_start, len(result))\n"
     ]
    },
    {
     "name": "stdout",
     "output_type": "stream",
     "text": [
      "{'accuracy': 0.7600907029478458, 'f-1': 0.4459616477709239, 'recall': 0.4588037861762695, 'precision': 0.435364970761944}\n",
      "Accuracy 0.7600907029478458\n",
      "F1 0.4459616477709239\n",
      "Precision 0.435364970761944\n",
      "Recall 0.4588037861762695\n",
      "------------------------------\n",
      "ROC 0.8086826490993506\n"
     ]
    },
    {
     "data": {
      "image/png": "[encoded data removed]",
      "text/plain": [
       "<Figure size 720x720 with 2 Axes>"
      ]
     },
     "metadata": {
      "needs_background": "light"
     },
     "output_type": "display_data"
    }
   ],
   "source": [
    "df_GS_RND = error_modelo(GS_RND.best_estimator_, X_test, y_test)\n",
    "df_GS_RND.columns=['RND']"
   ]
  },
  {
   "cell_type": "markdown",
   "metadata": {},
   "source": [
    "**GBCT**\n"
   ]
  },
  {
   "cell_type": "markdown",
   "metadata": {},
   "source": [
    "QUEDA ESTE MODELO POR MEJORAR"
   ]
  },
  {
   "cell_type": "code",
   "execution_count": 29,
   "metadata": {},
   "outputs": [
    {
     "name": "stdout",
     "output_type": "stream",
     "text": [
      "GradientBoostingClassifier(learning_rate=0.05, max_depth=6, max_features=4,\n",
      "                           min_samples_split=25, random_state=20,\n",
      "                           warm_start=True)\n",
      "0.759297052154195\n",
      "{'learning_rate': 0.05, 'max_depth': 6, 'max_features': 4, 'min_samples_split': 25, 'n_estimators': 100, 'warm_start': True}\n"
     ]
    }
   ],
   "source": [
    "GB_params = {                                                                       # He reducido cantiddad de valores para repetirlo y ver si lo hace \n",
    "#    'criterion': ['friedman_mse', 'squared_error', 'mse', 'mae'],\n",
    "    'max_depth': np.arange(1,11,5),\n",
    "    'warm_start': [True, False],\n",
    "    'max_features': np.arange(2,5,2),\n",
    "    'learning_rate': np.arange(0.05,0.55,0.25),\n",
    "    'min_samples_split': np.arange(5,30,10),\n",
    "    'n_estimators': np.arange(100,200,50)\n",
    "}\n",
    "\n",
    "GS_GBCT = GridSearchCV(estimator = GBCT,\n",
    "                  param_grid = GB_params,\n",
    "#                  n_jobs = -1,              #Cuantos procesadores se utilizan, -1 es el maximo\n",
    "                  error_score='raise',\n",
    "                  cv = 3,\n",
    "                  scoring='f1_micro')\n",
    "\n",
    "GS_GBCT.fit(X_train, y_train)\n",
    "print(GS_GBCT.best_estimator_)\n",
    "print(GS_GBCT.best_score_)\n",
    "print(GS_GBCT.best_params_)"
   ]
  },
  {
   "cell_type": "code",
   "execution_count": 30,
   "metadata": {},
   "outputs": [],
   "source": [
    "save_files(GS_GBCT.best_estimator_)"
   ]
  },
  {
   "cell_type": "code",
   "execution_count": 31,
   "metadata": {},
   "outputs": [
    {
     "name": "stderr",
     "output_type": "stream",
     "text": [
      "c:\\Users\\jtr_7\\AppData\\Local\\Programs\\Python\\Python37\\lib\\site-packages\\sklearn\\metrics\\_classification.py:1318: UndefinedMetricWarning: Precision is ill-defined and being set to 0.0 in labels with no predicted samples. Use `zero_division` parameter to control this behavior.\n",
      "  _warn_prf(average, modifier, msg_start, len(result))\n"
     ]
    },
    {
     "name": "stdout",
     "output_type": "stream",
     "text": [
      "{'accuracy': 0.7639455782312925, 'f-1': 0.44683358697079056, 'recall': 0.45602468430665777, 'precision': 0.43841515047852225}\n",
      "Accuracy 0.7639455782312925\n",
      "F1 0.44683358697079056\n",
      "Precision 0.43841515047852225\n",
      "Recall 0.45602468430665777\n",
      "------------------------------\n",
      "ROC 0.820903499735917\n"
     ]
    },
    {
     "data": {
      "image/png": "[encoded data removed]",
      "text/plain": [
       "<Figure size 720x720 with 2 Axes>"
      ]
     },
     "metadata": {
      "needs_background": "light"
     },
     "output_type": "display_data"
    }
   ],
   "source": [
    "df_GS_GBCT = error_modelo(GS_GBCT.best_estimator_, X_test, y_test)\n",
    "df_GS_GBCT.columns=['GBCT']"
   ]
  },
  {
   "cell_type": "markdown",
   "metadata": {},
   "source": [
    "Salvo el modelo **ADA Boost** ninguno de los modelos mejora con un *GridSearch*, es por ello que vamos a hacer un último intento de mejorar los modelos \"a mano\"."
   ]
  },
  {
   "cell_type": "markdown",
   "metadata": {},
   "source": []
  },
  {
   "cell_type": "code",
   "execution_count": 32,
   "metadata": {},
   "outputs": [
    {
     "data": {
      "text/html": [
       "<div>\n",
       "<style scoped>\n",
       "    .dataframe tbody tr th:only-of-type {\n",
       "        vertical-align: middle;\n",
       "    }\n",
       "\n",
       "    .dataframe tbody tr th {\n",
       "        vertical-align: top;\n",
       "    }\n",
       "\n",
       "    .dataframe thead th {\n",
       "        text-align: right;\n",
       "    }\n",
       "</style>\n",
       "<table border=\"1\" class=\"dataframe\">\n",
       "  <thead>\n",
       "    <tr style=\"text-align: right;\">\n",
       "      <th></th>\n",
       "      <th>ADA</th>\n",
       "      <th>BAG</th>\n",
       "      <th>DTC</th>\n",
       "      <th>RND</th>\n",
       "      <th>GBCT</th>\n",
       "    </tr>\n",
       "  </thead>\n",
       "  <tbody>\n",
       "    <tr>\n",
       "      <th>accuracy</th>\n",
       "      <td>0.760431</td>\n",
       "      <td>0.762698</td>\n",
       "      <td>0.741723</td>\n",
       "      <td>0.760091</td>\n",
       "      <td>0.763946</td>\n",
       "    </tr>\n",
       "    <tr>\n",
       "      <th>f-1</th>\n",
       "      <td>0.443893</td>\n",
       "      <td>0.446182</td>\n",
       "      <td>0.435733</td>\n",
       "      <td>0.445962</td>\n",
       "      <td>0.446834</td>\n",
       "    </tr>\n",
       "    <tr>\n",
       "      <th>recall</th>\n",
       "      <td>0.452846</td>\n",
       "      <td>0.456299</td>\n",
       "      <td>0.455905</td>\n",
       "      <td>0.458804</td>\n",
       "      <td>0.456025</td>\n",
       "    </tr>\n",
       "    <tr>\n",
       "      <th>precision</th>\n",
       "      <td>0.435725</td>\n",
       "      <td>0.437140</td>\n",
       "      <td>0.423511</td>\n",
       "      <td>0.435365</td>\n",
       "      <td>0.438415</td>\n",
       "    </tr>\n",
       "  </tbody>\n",
       "</table>\n",
       "</div>"
      ],
      "text/plain": [
       "                ADA       BAG       DTC       RND      GBCT\n",
       "accuracy   0.760431  0.762698  0.741723  0.760091  0.763946\n",
       "f-1        0.443893  0.446182  0.435733  0.445962  0.446834\n",
       "recall     0.452846  0.456299  0.455905  0.458804  0.456025\n",
       "precision  0.435725  0.437140  0.423511  0.435365  0.438415"
      ]
     },
     "execution_count": 32,
     "metadata": {},
     "output_type": "execute_result"
    }
   ],
   "source": [
    "df_errores=pd.concat([df_GS_ADA,df_GS_BAG,df_GS_DTC,df_GS_RND,df_GS_GBCT],axis=1)\n",
    "df_errores"
   ]
  }
 ],
 "metadata": {
  "kernelspec": {
   "display_name": "Python 3.7.4 64-bit",
   "language": "python",
   "name": "python3"
  },
  "language_info": {
   "codemirror_mode": {
    "name": "ipython",
    "version": 3
   },
   "file_extension": ".py",
   "mimetype": "text/x-python",
   "name": "python",
   "nbconvert_exporter": "python",
   "pygments_lexer": "ipython3",
   "version": "3.7.4"
  },
  "orig_nbformat": 4,
  "vscode": {
   "interpreter": {
    "hash": "c0e4a4af33acb5d51fe8962d9e2e7588108ae49a894b6d1e35c2101e79360239"
   }
  }
 },
 "nbformat": 4,
 "nbformat_minor": 2
}
