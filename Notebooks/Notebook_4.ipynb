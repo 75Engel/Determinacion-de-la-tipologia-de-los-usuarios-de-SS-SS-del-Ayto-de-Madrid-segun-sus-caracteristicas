{
 "cells": [
  {
   "cell_type": "code",
   "execution_count": 1,
   "metadata": {},
   "outputs": [],
   "source": [
    "\"\"\"\n",
    "IMPORTS\n",
    "\"\"\"\n",
    "import pandas as pd\n",
    "import xlrd\n",
    "import seaborn as sns\n",
    "import matplotlib.pyplot as plt\n",
    "import squarify\n",
    "import folium \n",
    "from folium import plugins\n",
    "import ipywidgets\n",
    "import geocoder\n",
    "import geopy\n",
    "import numpy as np\n",
    "from vega_datasets import data as vds\n",
    "from branca.element import Figure\n",
    "import re\n",
    "from datetime import datetime\n"
   ]
  },
  {
   "cell_type": "code",
   "execution_count": 2,
   "metadata": {},
   "outputs": [],
   "source": [
    "from sklearn.model_selection import train_test_split\n",
    "from sklearn.linear_model import LinearRegression\n",
    "from sklearn.preprocessing import PolynomialFeatures\n",
    "from sklearn.metrics import r2_score\n",
    "from sklearn.tree import DecisionTreeClassifier,plot_tree\n",
    "from sklearn.metrics import accuracy_score,precision_score,recall_score,roc_auc_score,f1_score,confusion_matrix\n",
    "\n",
    "from sklearn import metrics"
   ]
  },
  {
   "cell_type": "markdown",
   "metadata": {},
   "source": [
    "### 1.- Obtención de los datos"
   ]
  },
  {
   "cell_type": "code",
   "execution_count": 3,
   "metadata": {},
   "outputs": [
    {
     "data": {
      "text/html": [
       "<div>\n",
       "<style scoped>\n",
       "    .dataframe tbody tr th:only-of-type {\n",
       "        vertical-align: middle;\n",
       "    }\n",
       "\n",
       "    .dataframe tbody tr th {\n",
       "        vertical-align: top;\n",
       "    }\n",
       "\n",
       "    .dataframe thead th {\n",
       "        text-align: right;\n",
       "    }\n",
       "</style>\n",
       "<table border=\"1\" class=\"dataframe\">\n",
       "  <thead>\n",
       "    <tr style=\"text-align: right;\">\n",
       "      <th></th>\n",
       "      <th>Código Tipo Supuesto Urgente</th>\n",
       "      <th>Centro</th>\n",
       "      <th>Código Distrito Centro</th>\n",
       "      <th>Distrito Centro</th>\n",
       "      <th>Tramo Edad</th>\n",
       "      <th>Nacionalidad</th>\n",
       "      <th>Sexo</th>\n",
       "      <th>Código Tipo Atención</th>\n",
       "      <th>Tipo Atención</th>\n",
       "      <th>Tipo Supuesto Urgente</th>\n",
       "      <th>Fecha Cita</th>\n",
       "      <th>Age_range_code</th>\n",
       "      <th>Nationality_code</th>\n",
       "      <th>Sex_code</th>\n",
       "      <th>year</th>\n",
       "      <th>Quarteryear</th>\n",
       "    </tr>\n",
       "  </thead>\n",
       "  <tbody>\n",
       "    <tr>\n",
       "      <th>0</th>\n",
       "      <td>30.0</td>\n",
       "      <td>CSS Zaida</td>\n",
       "      <td>11</td>\n",
       "      <td>CARABANCHEL</td>\n",
       "      <td>19-29</td>\n",
       "      <td>Extranjera</td>\n",
       "      <td>M</td>\n",
       "      <td>2</td>\n",
       "      <td>Zona / Historia Social</td>\n",
       "      <td>Alojamiento/Vivienda</td>\n",
       "      <td>2021-01-04</td>\n",
       "      <td>0</td>\n",
       "      <td>2</td>\n",
       "      <td>1</td>\n",
       "      <td>2021</td>\n",
       "      <td>1</td>\n",
       "    </tr>\n",
       "    <tr>\n",
       "      <th>1</th>\n",
       "      <td>30.0</td>\n",
       "      <td>CSS Zaida</td>\n",
       "      <td>11</td>\n",
       "      <td>CARABANCHEL</td>\n",
       "      <td>30-39</td>\n",
       "      <td>Española</td>\n",
       "      <td>M</td>\n",
       "      <td>1</td>\n",
       "      <td>Primera Atención</td>\n",
       "      <td>Alojamiento/Vivienda</td>\n",
       "      <td>2021-01-04</td>\n",
       "      <td>1</td>\n",
       "      <td>1</td>\n",
       "      <td>1</td>\n",
       "      <td>2021</td>\n",
       "      <td>1</td>\n",
       "    </tr>\n",
       "    <tr>\n",
       "      <th>2</th>\n",
       "      <td>40.0</td>\n",
       "      <td>CSS Santa Hortensia</td>\n",
       "      <td>5</td>\n",
       "      <td>CHAMARTÍN</td>\n",
       "      <td>&gt;=65</td>\n",
       "      <td>Española</td>\n",
       "      <td>M</td>\n",
       "      <td>1</td>\n",
       "      <td>Primera Atención</td>\n",
       "      <td>Desproteccion social problema salud</td>\n",
       "      <td>2021-01-04</td>\n",
       "      <td>6</td>\n",
       "      <td>1</td>\n",
       "      <td>1</td>\n",
       "      <td>2021</td>\n",
       "      <td>1</td>\n",
       "    </tr>\n",
       "    <tr>\n",
       "      <th>3</th>\n",
       "      <td>30.0</td>\n",
       "      <td>CSS Luis Vives</td>\n",
       "      <td>15</td>\n",
       "      <td>CIUDAD LINEAL</td>\n",
       "      <td>19-29</td>\n",
       "      <td>Extranjera</td>\n",
       "      <td>H</td>\n",
       "      <td>2</td>\n",
       "      <td>Zona / Historia Social</td>\n",
       "      <td>Alojamiento/Vivienda</td>\n",
       "      <td>2021-01-04</td>\n",
       "      <td>0</td>\n",
       "      <td>2</td>\n",
       "      <td>0</td>\n",
       "      <td>2021</td>\n",
       "      <td>1</td>\n",
       "    </tr>\n",
       "    <tr>\n",
       "      <th>4</th>\n",
       "      <td>40.0</td>\n",
       "      <td>CSS Gallur</td>\n",
       "      <td>10</td>\n",
       "      <td>LATINA</td>\n",
       "      <td>&gt;=65</td>\n",
       "      <td>Española</td>\n",
       "      <td>M</td>\n",
       "      <td>1</td>\n",
       "      <td>Primera Atención</td>\n",
       "      <td>Desproteccion social problema salud</td>\n",
       "      <td>2021-01-04</td>\n",
       "      <td>6</td>\n",
       "      <td>1</td>\n",
       "      <td>1</td>\n",
       "      <td>2021</td>\n",
       "      <td>1</td>\n",
       "    </tr>\n",
       "    <tr>\n",
       "      <th>...</th>\n",
       "      <td>...</td>\n",
       "      <td>...</td>\n",
       "      <td>...</td>\n",
       "      <td>...</td>\n",
       "      <td>...</td>\n",
       "      <td>...</td>\n",
       "      <td>...</td>\n",
       "      <td>...</td>\n",
       "      <td>...</td>\n",
       "      <td>...</td>\n",
       "      <td>...</td>\n",
       "      <td>...</td>\n",
       "      <td>...</td>\n",
       "      <td>...</td>\n",
       "      <td>...</td>\n",
       "      <td>...</td>\n",
       "    </tr>\n",
       "    <tr>\n",
       "      <th>37901</th>\n",
       "      <td>30.0</td>\n",
       "      <td>CSS Pablo Casals</td>\n",
       "      <td>20</td>\n",
       "      <td>SAN BLAS-CANILLEJAS</td>\n",
       "      <td>30-39</td>\n",
       "      <td>Española</td>\n",
       "      <td>M</td>\n",
       "      <td>2</td>\n",
       "      <td>Zona / Historia Social</td>\n",
       "      <td>Alojamiento/Vivienda</td>\n",
       "      <td>2018-12-28</td>\n",
       "      <td>1</td>\n",
       "      <td>1</td>\n",
       "      <td>1</td>\n",
       "      <td>2018</td>\n",
       "      <td>4</td>\n",
       "    </tr>\n",
       "    <tr>\n",
       "      <th>37902</th>\n",
       "      <td>40.0</td>\n",
       "      <td>CSS Loyola de Palacio</td>\n",
       "      <td>12</td>\n",
       "      <td>USERA</td>\n",
       "      <td>&gt;=65</td>\n",
       "      <td>Española</td>\n",
       "      <td>M</td>\n",
       "      <td>2</td>\n",
       "      <td>Zona / Historia Social</td>\n",
       "      <td>Desproteccion social problema salud</td>\n",
       "      <td>2018-12-28</td>\n",
       "      <td>6</td>\n",
       "      <td>1</td>\n",
       "      <td>1</td>\n",
       "      <td>2018</td>\n",
       "      <td>4</td>\n",
       "    </tr>\n",
       "    <tr>\n",
       "      <th>37903</th>\n",
       "      <td>30.0</td>\n",
       "      <td>CSS San Filiberto</td>\n",
       "      <td>12</td>\n",
       "      <td>USERA</td>\n",
       "      <td>30-39</td>\n",
       "      <td>Extranjera</td>\n",
       "      <td>M</td>\n",
       "      <td>2</td>\n",
       "      <td>Zona / Historia Social</td>\n",
       "      <td>Alojamiento/Vivienda</td>\n",
       "      <td>2018-12-28</td>\n",
       "      <td>1</td>\n",
       "      <td>2</td>\n",
       "      <td>1</td>\n",
       "      <td>2018</td>\n",
       "      <td>4</td>\n",
       "    </tr>\n",
       "    <tr>\n",
       "      <th>37904</th>\n",
       "      <td>30.0</td>\n",
       "      <td>CSS San Filiberto</td>\n",
       "      <td>12</td>\n",
       "      <td>USERA</td>\n",
       "      <td>&gt;=65</td>\n",
       "      <td>Española</td>\n",
       "      <td>H</td>\n",
       "      <td>1</td>\n",
       "      <td>Primera Atención</td>\n",
       "      <td>Alojamiento/Vivienda</td>\n",
       "      <td>2018-12-28</td>\n",
       "      <td>6</td>\n",
       "      <td>1</td>\n",
       "      <td>0</td>\n",
       "      <td>2018</td>\n",
       "      <td>4</td>\n",
       "    </tr>\n",
       "    <tr>\n",
       "      <th>37905</th>\n",
       "      <td>40.0</td>\n",
       "      <td>CSS San Filiberto</td>\n",
       "      <td>12</td>\n",
       "      <td>USERA</td>\n",
       "      <td>&gt;=65</td>\n",
       "      <td>Española</td>\n",
       "      <td>M</td>\n",
       "      <td>2</td>\n",
       "      <td>Zona / Historia Social</td>\n",
       "      <td>Desproteccion social problema salud</td>\n",
       "      <td>2018-12-28</td>\n",
       "      <td>6</td>\n",
       "      <td>1</td>\n",
       "      <td>1</td>\n",
       "      <td>2018</td>\n",
       "      <td>4</td>\n",
       "    </tr>\n",
       "  </tbody>\n",
       "</table>\n",
       "<p>37906 rows × 16 columns</p>\n",
       "</div>"
      ],
      "text/plain": [
       "       Código Tipo Supuesto Urgente                 Centro  \\\n",
       "0                              30.0              CSS Zaida   \n",
       "1                              30.0              CSS Zaida   \n",
       "2                              40.0    CSS Santa Hortensia   \n",
       "3                              30.0         CSS Luis Vives   \n",
       "4                              40.0             CSS Gallur   \n",
       "...                             ...                    ...   \n",
       "37901                          30.0       CSS Pablo Casals   \n",
       "37902                          40.0  CSS Loyola de Palacio   \n",
       "37903                          30.0      CSS San Filiberto   \n",
       "37904                          30.0      CSS San Filiberto   \n",
       "37905                          40.0      CSS San Filiberto   \n",
       "\n",
       "       Código Distrito Centro      Distrito Centro Tramo Edad Nacionalidad  \\\n",
       "0                          11          CARABANCHEL      19-29   Extranjera   \n",
       "1                          11          CARABANCHEL      30-39     Española   \n",
       "2                           5            CHAMARTÍN       >=65     Española   \n",
       "3                          15        CIUDAD LINEAL      19-29   Extranjera   \n",
       "4                          10               LATINA       >=65     Española   \n",
       "...                       ...                  ...        ...          ...   \n",
       "37901                      20  SAN BLAS-CANILLEJAS      30-39     Española   \n",
       "37902                      12               USERA        >=65     Española   \n",
       "37903                      12               USERA       30-39   Extranjera   \n",
       "37904                      12               USERA        >=65     Española   \n",
       "37905                      12               USERA        >=65     Española   \n",
       "\n",
       "      Sexo  Código Tipo Atención           Tipo Atención  \\\n",
       "0        M                     2  Zona / Historia Social   \n",
       "1        M                     1        Primera Atención   \n",
       "2        M                     1        Primera Atención   \n",
       "3        H                     2  Zona / Historia Social   \n",
       "4        M                     1        Primera Atención   \n",
       "...    ...                   ...                     ...   \n",
       "37901    M                     2  Zona / Historia Social   \n",
       "37902    M                     2  Zona / Historia Social   \n",
       "37903    M                     2  Zona / Historia Social   \n",
       "37904    H                     1        Primera Atención   \n",
       "37905    M                     2  Zona / Historia Social   \n",
       "\n",
       "                     Tipo Supuesto Urgente  Fecha Cita  Age_range_code  \\\n",
       "0                     Alojamiento/Vivienda  2021-01-04               0   \n",
       "1                     Alojamiento/Vivienda  2021-01-04               1   \n",
       "2      Desproteccion social problema salud  2021-01-04               6   \n",
       "3                     Alojamiento/Vivienda  2021-01-04               0   \n",
       "4      Desproteccion social problema salud  2021-01-04               6   \n",
       "...                                    ...         ...             ...   \n",
       "37901                 Alojamiento/Vivienda  2018-12-28               1   \n",
       "37902  Desproteccion social problema salud  2018-12-28               6   \n",
       "37903                 Alojamiento/Vivienda  2018-12-28               1   \n",
       "37904                 Alojamiento/Vivienda  2018-12-28               6   \n",
       "37905  Desproteccion social problema salud  2018-12-28               6   \n",
       "\n",
       "       Nationality_code  Sex_code  year  Quarteryear  \n",
       "0                     2         1  2021            1  \n",
       "1                     1         1  2021            1  \n",
       "2                     1         1  2021            1  \n",
       "3                     2         0  2021            1  \n",
       "4                     1         1  2021            1  \n",
       "...                 ...       ...   ...          ...  \n",
       "37901                 1         1  2018            4  \n",
       "37902                 1         1  2018            4  \n",
       "37903                 2         1  2018            4  \n",
       "37904                 1         0  2018            4  \n",
       "37905                 1         1  2018            4  \n",
       "\n",
       "[37906 rows x 16 columns]"
      ]
     },
     "execution_count": 3,
     "metadata": {},
     "output_type": "execute_result"
    }
   ],
   "source": [
    "df_modelado= pd.read_csv('E:\\Bootcamp_22\\Javier\\Repositorios\\Machine_Learning\\data\\Outcomes\\df_urgencias_corregido_prueba.csv',sep=',')\n",
    "df_modelado"
   ]
  },
  {
   "cell_type": "markdown",
   "metadata": {},
   "source": [
    "### 2.- Preparing TRAIN AND TEST DataFrames"
   ]
  },
  {
   "cell_type": "code",
   "execution_count": 4,
   "metadata": {},
   "outputs": [],
   "source": [
    "X=df_modelado[['Código Distrito Centro','Age_range_code','Nationality_code','Sex_code','year']]\n",
    "y=df_modelado['Código Tipo Supuesto Urgente']"
   ]
  },
  {
   "cell_type": "code",
   "execution_count": 33,
   "metadata": {},
   "outputs": [
    {
     "name": "stdout",
     "output_type": "stream",
     "text": [
      "(28429, 5)\n",
      "(9477, 5)\n",
      "(28429,)\n",
      "(9477,)\n"
     ]
    }
   ],
   "source": [
    "X_train, X_test, y_train, y_test = train_test_split(X, y, test_size=0.25, random_state=0)       # Genero los datos para entrenamiento y testeo\n",
    "print(X_train.shape)\n",
    "\n",
    "print(X_test.shape)\n",
    "\n",
    "print(y_train.shape)\n",
    "\n",
    "print(y_test.shape)"
   ]
  },
  {
   "cell_type": "code",
   "execution_count": 50,
   "metadata": {},
   "outputs": [
    {
     "data": {
      "text/html": [
       "<div>\n",
       "<style scoped>\n",
       "    .dataframe tbody tr th:only-of-type {\n",
       "        vertical-align: middle;\n",
       "    }\n",
       "\n",
       "    .dataframe tbody tr th {\n",
       "        vertical-align: top;\n",
       "    }\n",
       "\n",
       "    .dataframe thead th {\n",
       "        text-align: right;\n",
       "    }\n",
       "</style>\n",
       "<table border=\"1\" class=\"dataframe\">\n",
       "  <thead>\n",
       "    <tr style=\"text-align: right;\">\n",
       "      <th></th>\n",
       "      <th>Código Distrito Centro</th>\n",
       "      <th>Age_range_code</th>\n",
       "      <th>Nationality_code</th>\n",
       "      <th>Sex_code</th>\n",
       "      <th>year</th>\n",
       "      <th>Código Tipo Supuesto Urgente</th>\n",
       "    </tr>\n",
       "  </thead>\n",
       "  <tbody>\n",
       "    <tr>\n",
       "      <th>10915</th>\n",
       "      <td>7</td>\n",
       "      <td>1</td>\n",
       "      <td>2</td>\n",
       "      <td>1</td>\n",
       "      <td>2020</td>\n",
       "      <td>50.0</td>\n",
       "    </tr>\n",
       "    <tr>\n",
       "      <th>25000</th>\n",
       "      <td>6</td>\n",
       "      <td>1</td>\n",
       "      <td>2</td>\n",
       "      <td>1</td>\n",
       "      <td>2020</td>\n",
       "      <td>50.0</td>\n",
       "    </tr>\n",
       "    <tr>\n",
       "      <th>21303</th>\n",
       "      <td>13</td>\n",
       "      <td>0</td>\n",
       "      <td>2</td>\n",
       "      <td>1</td>\n",
       "      <td>2020</td>\n",
       "      <td>30.0</td>\n",
       "    </tr>\n",
       "    <tr>\n",
       "      <th>26143</th>\n",
       "      <td>1</td>\n",
       "      <td>6</td>\n",
       "      <td>2</td>\n",
       "      <td>0</td>\n",
       "      <td>2020</td>\n",
       "      <td>40.0</td>\n",
       "    </tr>\n",
       "    <tr>\n",
       "      <th>10458</th>\n",
       "      <td>6</td>\n",
       "      <td>1</td>\n",
       "      <td>2</td>\n",
       "      <td>0</td>\n",
       "      <td>2020</td>\n",
       "      <td>50.0</td>\n",
       "    </tr>\n",
       "    <tr>\n",
       "      <th>...</th>\n",
       "      <td>...</td>\n",
       "      <td>...</td>\n",
       "      <td>...</td>\n",
       "      <td>...</td>\n",
       "      <td>...</td>\n",
       "      <td>...</td>\n",
       "    </tr>\n",
       "    <tr>\n",
       "      <th>20757</th>\n",
       "      <td>6</td>\n",
       "      <td>2</td>\n",
       "      <td>2</td>\n",
       "      <td>1</td>\n",
       "      <td>2020</td>\n",
       "      <td>50.0</td>\n",
       "    </tr>\n",
       "    <tr>\n",
       "      <th>32103</th>\n",
       "      <td>11</td>\n",
       "      <td>1</td>\n",
       "      <td>2</td>\n",
       "      <td>1</td>\n",
       "      <td>2019</td>\n",
       "      <td>30.0</td>\n",
       "    </tr>\n",
       "    <tr>\n",
       "      <th>30403</th>\n",
       "      <td>7</td>\n",
       "      <td>2</td>\n",
       "      <td>2</td>\n",
       "      <td>1</td>\n",
       "      <td>2019</td>\n",
       "      <td>30.0</td>\n",
       "    </tr>\n",
       "    <tr>\n",
       "      <th>21243</th>\n",
       "      <td>8</td>\n",
       "      <td>2</td>\n",
       "      <td>1</td>\n",
       "      <td>1</td>\n",
       "      <td>2020</td>\n",
       "      <td>50.0</td>\n",
       "    </tr>\n",
       "    <tr>\n",
       "      <th>2732</th>\n",
       "      <td>15</td>\n",
       "      <td>6</td>\n",
       "      <td>1</td>\n",
       "      <td>0</td>\n",
       "      <td>2020</td>\n",
       "      <td>40.0</td>\n",
       "    </tr>\n",
       "  </tbody>\n",
       "</table>\n",
       "<p>28429 rows × 6 columns</p>\n",
       "</div>"
      ],
      "text/plain": [
       "       Código Distrito Centro  Age_range_code  Nationality_code  Sex_code  \\\n",
       "10915                       7               1                 2         1   \n",
       "25000                       6               1                 2         1   \n",
       "21303                      13               0                 2         1   \n",
       "26143                       1               6                 2         0   \n",
       "10458                       6               1                 2         0   \n",
       "...                       ...             ...               ...       ...   \n",
       "20757                       6               2                 2         1   \n",
       "32103                      11               1                 2         1   \n",
       "30403                       7               2                 2         1   \n",
       "21243                       8               2                 1         1   \n",
       "2732                       15               6                 1         0   \n",
       "\n",
       "       year  Código Tipo Supuesto Urgente  \n",
       "10915  2020                          50.0  \n",
       "25000  2020                          50.0  \n",
       "21303  2020                          30.0  \n",
       "26143  2020                          40.0  \n",
       "10458  2020                          50.0  \n",
       "...     ...                           ...  \n",
       "20757  2020                          50.0  \n",
       "32103  2019                          30.0  \n",
       "30403  2019                          30.0  \n",
       "21243  2020                          50.0  \n",
       "2732   2020                          40.0  \n",
       "\n",
       "[28429 rows x 6 columns]"
      ]
     },
     "execution_count": 50,
     "metadata": {},
     "output_type": "execute_result"
    }
   ],
   "source": [
    "train=pd.concat([X_train,y_train],axis=1)\n",
    "train\n"
   ]
  },
  {
   "cell_type": "code",
   "execution_count": 51,
   "metadata": {},
   "outputs": [
    {
     "data": {
      "text/html": [
       "<div>\n",
       "<style scoped>\n",
       "    .dataframe tbody tr th:only-of-type {\n",
       "        vertical-align: middle;\n",
       "    }\n",
       "\n",
       "    .dataframe tbody tr th {\n",
       "        vertical-align: top;\n",
       "    }\n",
       "\n",
       "    .dataframe thead th {\n",
       "        text-align: right;\n",
       "    }\n",
       "</style>\n",
       "<table border=\"1\" class=\"dataframe\">\n",
       "  <thead>\n",
       "    <tr style=\"text-align: right;\">\n",
       "      <th></th>\n",
       "      <th>Código Distrito Centro</th>\n",
       "      <th>Age_range_code</th>\n",
       "      <th>Nationality_code</th>\n",
       "      <th>Sex_code</th>\n",
       "      <th>year</th>\n",
       "      <th>Código Tipo Supuesto Urgente</th>\n",
       "    </tr>\n",
       "  </thead>\n",
       "  <tbody>\n",
       "    <tr>\n",
       "      <th>27744</th>\n",
       "      <td>1</td>\n",
       "      <td>0</td>\n",
       "      <td>1</td>\n",
       "      <td>1</td>\n",
       "      <td>2019</td>\n",
       "      <td>50.0</td>\n",
       "    </tr>\n",
       "    <tr>\n",
       "      <th>35549</th>\n",
       "      <td>11</td>\n",
       "      <td>6</td>\n",
       "      <td>1</td>\n",
       "      <td>0</td>\n",
       "      <td>2018</td>\n",
       "      <td>40.0</td>\n",
       "    </tr>\n",
       "    <tr>\n",
       "      <th>32052</th>\n",
       "      <td>18</td>\n",
       "      <td>0</td>\n",
       "      <td>1</td>\n",
       "      <td>0</td>\n",
       "      <td>2019</td>\n",
       "      <td>30.0</td>\n",
       "    </tr>\n",
       "    <tr>\n",
       "      <th>17684</th>\n",
       "      <td>6</td>\n",
       "      <td>1</td>\n",
       "      <td>2</td>\n",
       "      <td>1</td>\n",
       "      <td>2020</td>\n",
       "      <td>50.0</td>\n",
       "    </tr>\n",
       "    <tr>\n",
       "      <th>12673</th>\n",
       "      <td>8</td>\n",
       "      <td>0</td>\n",
       "      <td>1</td>\n",
       "      <td>1</td>\n",
       "      <td>2020</td>\n",
       "      <td>50.0</td>\n",
       "    </tr>\n",
       "    <tr>\n",
       "      <th>...</th>\n",
       "      <td>...</td>\n",
       "      <td>...</td>\n",
       "      <td>...</td>\n",
       "      <td>...</td>\n",
       "      <td>...</td>\n",
       "      <td>...</td>\n",
       "    </tr>\n",
       "    <tr>\n",
       "      <th>4758</th>\n",
       "      <td>6</td>\n",
       "      <td>2</td>\n",
       "      <td>2</td>\n",
       "      <td>1</td>\n",
       "      <td>2020</td>\n",
       "      <td>50.0</td>\n",
       "    </tr>\n",
       "    <tr>\n",
       "      <th>7761</th>\n",
       "      <td>6</td>\n",
       "      <td>2</td>\n",
       "      <td>2</td>\n",
       "      <td>1</td>\n",
       "      <td>2020</td>\n",
       "      <td>50.0</td>\n",
       "    </tr>\n",
       "    <tr>\n",
       "      <th>24784</th>\n",
       "      <td>6</td>\n",
       "      <td>3</td>\n",
       "      <td>2</td>\n",
       "      <td>1</td>\n",
       "      <td>2020</td>\n",
       "      <td>50.0</td>\n",
       "    </tr>\n",
       "    <tr>\n",
       "      <th>20438</th>\n",
       "      <td>6</td>\n",
       "      <td>3</td>\n",
       "      <td>2</td>\n",
       "      <td>1</td>\n",
       "      <td>2020</td>\n",
       "      <td>50.0</td>\n",
       "    </tr>\n",
       "    <tr>\n",
       "      <th>24697</th>\n",
       "      <td>13</td>\n",
       "      <td>3</td>\n",
       "      <td>2</td>\n",
       "      <td>1</td>\n",
       "      <td>2020</td>\n",
       "      <td>30.0</td>\n",
       "    </tr>\n",
       "  </tbody>\n",
       "</table>\n",
       "<p>9477 rows × 6 columns</p>\n",
       "</div>"
      ],
      "text/plain": [
       "       Código Distrito Centro  Age_range_code  Nationality_code  Sex_code  \\\n",
       "27744                       1               0                 1         1   \n",
       "35549                      11               6                 1         0   \n",
       "32052                      18               0                 1         0   \n",
       "17684                       6               1                 2         1   \n",
       "12673                       8               0                 1         1   \n",
       "...                       ...             ...               ...       ...   \n",
       "4758                        6               2                 2         1   \n",
       "7761                        6               2                 2         1   \n",
       "24784                       6               3                 2         1   \n",
       "20438                       6               3                 2         1   \n",
       "24697                      13               3                 2         1   \n",
       "\n",
       "       year  Código Tipo Supuesto Urgente  \n",
       "27744  2019                          50.0  \n",
       "35549  2018                          40.0  \n",
       "32052  2019                          30.0  \n",
       "17684  2020                          50.0  \n",
       "12673  2020                          50.0  \n",
       "...     ...                           ...  \n",
       "4758   2020                          50.0  \n",
       "7761   2020                          50.0  \n",
       "24784  2020                          50.0  \n",
       "20438  2020                          50.0  \n",
       "24697  2020                          30.0  \n",
       "\n",
       "[9477 rows x 6 columns]"
      ]
     },
     "execution_count": 51,
     "metadata": {},
     "output_type": "execute_result"
    }
   ],
   "source": [
    "test=pd.concat([X_test,y_test],axis=1)\n",
    "test"
   ]
  },
  {
   "cell_type": "code",
   "execution_count": 52,
   "metadata": {},
   "outputs": [],
   "source": [
    "train.to_csv('E:\\Bootcamp_22\\Javier\\Repositorios\\Machine_Learning\\data\\df_train.csv',header=True,index=False)\n",
    "test.to_csv('E:\\Bootcamp_22\\Javier\\Repositorios\\Machine_Learning\\data\\df_test.csv',header=True,index=False)"
   ]
  },
  {
   "cell_type": "markdown",
   "metadata": {},
   "source": [
    "### 3.- My first Model (DecisionTreeClassifier)"
   ]
  },
  {
   "cell_type": "code",
   "execution_count": 3,
   "metadata": {},
   "outputs": [],
   "source": [
    "train=pd.read_csv('E:\\Bootcamp_22\\Javier\\Repositorios\\Machine_Learning\\data\\df_train.csv',sep=',')\n",
    "test=pd.read_csv('E:\\Bootcamp_22\\Javier\\Repositorios\\Machine_Learning\\data\\df_test.csv',sep=',')\n"
   ]
  },
  {
   "cell_type": "code",
   "execution_count": 4,
   "metadata": {},
   "outputs": [],
   "source": [
    "X_test=test[['Código Distrito Centro','Age_range_code','Nationality_code','Sex_code','year']]\n",
    "X_train=train[['Código Distrito Centro','Age_range_code','Nationality_code','Sex_code','year']]\n",
    "y_test=test['Código Tipo Supuesto Urgente']\n",
    "y_train=train['Código Tipo Supuesto Urgente']"
   ]
  },
  {
   "cell_type": "code",
   "execution_count": 5,
   "metadata": {},
   "outputs": [
    {
     "ename": "NameError",
     "evalue": "name 'y_pred' is not defined",
     "output_type": "error",
     "traceback": [
      "\u001b[1;31m---------------------------------------------------------------------------\u001b[0m",
      "\u001b[1;31mNameError\u001b[0m                                 Traceback (most recent call last)",
      "\u001b[1;32m~\\AppData\\Local\\Temp\\ipykernel_16668\\3562620839.py\u001b[0m in \u001b[0;36m<module>\u001b[1;34m\u001b[0m\n\u001b[1;32m----> 1\u001b[1;33m \u001b[0my_pred\u001b[0m\u001b[1;33m\u001b[0m\u001b[1;33m\u001b[0m\u001b[0m\n\u001b[0m",
      "\u001b[1;31mNameError\u001b[0m: name 'y_pred' is not defined"
     ]
    }
   ],
   "source": [
    "y_pred"
   ]
  },
  {
   "cell_type": "code",
   "execution_count": null,
   "metadata": {},
   "outputs": [
    {
     "name": "stdout",
     "output_type": "stream",
     "text": [
      "Accuracy 0.7684921388625092\n"
     ]
    },
    {
     "data": {
      "text/plain": [
       "<AxesSubplot:>"
      ]
     },
     "execution_count": 17,
     "metadata": {},
     "output_type": "execute_result"
    },
    {
     "data": {
      "image/png": "[encoded data removed]",
      "text/plain": [
       "<Figure size 720x720 with 2 Axes>"
      ]
     },
     "metadata": {
      "needs_background": "light"
     },
     "output_type": "display_data"
    }
   ],
   "source": [
    "tree_reg = DecisionTreeClassifier(random_state=20)\n",
    "tree_reg.fit(X_train, y_train)\n",
    "y_pred = tree_reg.predict(X_test)\n",
    "\n",
    "print('Accuracy', accuracy_score(y_test, y_pred))\n",
    "plt.figure(figsize=(10,10))\n",
    "sns.heatmap(confusion_matrix(y_test, y_pred, normalize='true'), annot=True)\n",
    "                 \n",
    "#print('Precision', precision_score(y_test, y_pred))\n",
    "#print('Recall', recall_score(y_test, y_pred))\n",
    "#print('ROC', roc_auc_score(y_test, y_pred))\n",
    "\n"
   ]
  },
  {
   "cell_type": "code",
   "execution_count": 6,
   "metadata": {},
   "outputs": [
    {
     "name": "stdout",
     "output_type": "stream",
     "text": [
      "Accuracy 0.7710245858394007\n"
     ]
    },
    {
     "data": {
      "text/plain": [
       "<AxesSubplot:>"
      ]
     },
     "execution_count": 6,
     "metadata": {},
     "output_type": "execute_result"
    },
    {
     "data": {
      "image/png": "[encoded data removed]",
      "text/plain": [
       "<Figure size 720x720 with 2 Axes>"
      ]
     },
     "metadata": {
      "needs_background": "light"
     },
     "output_type": "display_data"
    }
   ],
   "source": [
    "tree_reg = DecisionTreeClassifier(random_state=20,max_depth=7)\n",
    "tree_reg.fit(X_train, y_train)\n",
    "y_pred = tree_reg.predict(X_test)\n",
    "\n",
    "print('Accuracy', accuracy_score(y_test, y_pred))\n",
    "plt.figure(figsize=(10,10))\n",
    "sns.heatmap(confusion_matrix(y_test, y_pred, normalize='true'), annot=True)\n",
    "                 \n",
    "#print('Precision', precision_score(y_test, y_pred))\n",
    "#print('Recall', recall_score(y_test, y_pred))\n",
    "#print('ROC', roc_auc_score(y_test, y_pred))"
   ]
  },
  {
   "cell_type": "code",
   "execution_count": 7,
   "metadata": {},
   "outputs": [],
   "source": [
    "import pickle "
   ]
  },
  {
   "cell_type": "code",
   "execution_count": null,
   "metadata": {},
   "outputs": [],
   "source": [
    "date=str(datetime.today().strftime('%y%m%d%H%M%S'))\n",
    "name=input(\"Introduce el nombre del modelo a grabar (iniciales): \")\n",
    "path=str('Javier/Repositorios/Machine_Learning/model/')\n",
    "file=path+name+date+'.pickle'\n",
    "pickle.dump(tree_reg,open(file,'wb'))"
   ]
  },
  {
   "cell_type": "code",
   "execution_count": null,
   "metadata": {},
   "outputs": [],
   "source": [
    "var.gbct.fit\n"
   ]
  },
  {
   "cell_type": "code",
   "execution_count": 22,
   "metadata": {},
   "outputs": [
    {
     "ename": "NameError",
     "evalue": "name 'gbct' is not defined",
     "output_type": "error",
     "traceback": [
      "\u001b[1;31m---------------------------------------------------------------------------\u001b[0m",
      "\u001b[1;31mNameError\u001b[0m                                 Traceback (most recent call last)",
      "\u001b[1;32m~\\AppData\\Local\\Temp\\ipykernel_16668\\2121444039.py\u001b[0m in \u001b[0;36m<module>\u001b[1;34m\u001b[0m\n\u001b[1;32m----> 1\u001b[1;33m \u001b[0mmodelo\u001b[0m\u001b[1;33m=\u001b[0m\u001b[0mstr\u001b[0m\u001b[1;33m(\u001b[0m\u001b[0mgbct\u001b[0m\u001b[1;33m.\u001b[0m\u001b[0mfit\u001b[0m\u001b[1;33m)\u001b[0m\u001b[1;33m\u001b[0m\u001b[1;33m\u001b[0m\u001b[0m\n\u001b[0m",
      "\u001b[1;31mNameError\u001b[0m: name 'gbct' is not defined"
     ]
    }
   ],
   "source": [
    "modelo=str(gbct.fit)"
   ]
  },
  {
   "cell_type": "code",
   "execution_count": 20,
   "metadata": {},
   "outputs": [
    {
     "name": "stdout",
     "output_type": "stream",
     "text": [
      "<class 'str'>\n"
     ]
    }
   ],
   "source": [
    "print(type(modelo))"
   ]
  },
  {
   "cell_type": "code",
   "execution_count": 15,
   "metadata": {},
   "outputs": [
    {
     "data": {
      "text/plain": [
       "'DecisionTreeClassifier(max_depth=7, random_state=20)'"
      ]
     },
     "execution_count": 15,
     "metadata": {},
     "output_type": "execute_result"
    }
   ],
   "source": [
    "modelo"
   ]
  },
  {
   "cell_type": "code",
   "execution_count": 17,
   "metadata": {},
   "outputs": [
    {
     "ename": "AttributeError",
     "evalue": "'list' object has no attribute 'str'",
     "output_type": "error",
     "traceback": [
      "\u001b[1;31m---------------------------------------------------------------------------\u001b[0m",
      "\u001b[1;31mAttributeError\u001b[0m                            Traceback (most recent call last)",
      "\u001b[1;32m~\\AppData\\Local\\Temp\\ipykernel_16668\\1651590765.py\u001b[0m in \u001b[0;36m<module>\u001b[1;34m\u001b[0m\n\u001b[1;32m----> 1\u001b[1;33m \u001b[0mmodelo_prueba\u001b[0m\u001b[1;33m=\u001b[0m\u001b[0mstr\u001b[0m\u001b[1;33m(\u001b[0m\u001b[0mmodelo\u001b[0m\u001b[1;33m.\u001b[0m\u001b[0msplit\u001b[0m\u001b[1;33m(\u001b[0m\u001b[1;34m'_'\u001b[0m\u001b[1;33m)\u001b[0m\u001b[1;33m.\u001b[0m\u001b[0mstr\u001b[0m\u001b[1;33m.\u001b[0m\u001b[0mget\u001b[0m\u001b[1;33m(\u001b[0m\u001b[1;36m0\u001b[0m\u001b[1;33m)\u001b[0m\u001b[1;33m)\u001b[0m\u001b[1;33m\u001b[0m\u001b[1;33m\u001b[0m\u001b[0m\n\u001b[0m\u001b[0;32m      2\u001b[0m \u001b[0mprint\u001b[0m\u001b[1;33m(\u001b[0m\u001b[0mmodelo_prueba\u001b[0m\u001b[1;33m)\u001b[0m\u001b[1;33m\u001b[0m\u001b[1;33m\u001b[0m\u001b[0m\n",
      "\u001b[1;31mAttributeError\u001b[0m: 'list' object has no attribute 'str'"
     ]
    }
   ],
   "source": [
    "modelo_prueba=str(modelo.split('_').str.get(0))\n",
    "print(modelo_prueba)"
   ]
  },
  {
   "cell_type": "code",
   "execution_count": 21,
   "metadata": {},
   "outputs": [],
   "source": [
    "\n",
    "#pickle_file= file('train.pickle','w')\n",
    "pickle.dump(tree_reg,open('train.pickle','wb'))"
   ]
  },
  {
   "cell_type": "code",
   "execution_count": 23,
   "metadata": {},
   "outputs": [],
   "source": [
    "favorite_color = pickle.load( open( \"train.pickle\", \"rb\" ) )"
   ]
  },
  {
   "cell_type": "code",
   "execution_count": 24,
   "metadata": {},
   "outputs": [
    {
     "data": {
      "text/plain": [
       "DecisionTreeClassifier(random_state=20)"
      ]
     },
     "execution_count": 24,
     "metadata": {},
     "output_type": "execute_result"
    }
   ],
   "source": [
    "favorite_color      #Vemos que se ha cargado el fichero"
   ]
  },
  {
   "cell_type": "code",
   "execution_count": 56,
   "metadata": {},
   "outputs": [
    {
     "name": "stdout",
     "output_type": "stream",
     "text": [
      "Javier/Repositorios/Machine_Learning/modelTDC220831165608.pickle\n"
     ]
    }
   ],
   "source": [
    "from datetime import datetime\n",
    "\n",
    "date=str(datetime.today().strftime('%y%m%d%H%M%S'))\n",
    "model=str('TDC')\n",
    "path=str('Javier/Repositorios/Machine_Learning/model')\n",
    "file=path+model+date+'.pickle'\n",
    "print(file)"
   ]
  },
  {
   "cell_type": "markdown",
   "metadata": {},
   "source": [
    "### 4.- Exploring Graphics"
   ]
  },
  {
   "cell_type": "markdown",
   "metadata": {},
   "source": [
    "### 5.- My first Model (linearRegression)"
   ]
  },
  {
   "cell_type": "code",
   "execution_count": null,
   "metadata": {},
   "outputs": [],
   "source": [
    "df_urgencias_corregido['Código Tipo Supuesto Urgente']=df_urgencias_corregido['Código Tipo Supuesto Urgente'].mask(df_urgencias_corregido['Código Tipo Supuesto Urgente'] == ' ').fillna(0)\n",
    "#   He añadido este codigo para ver si conseguia hacer que funcionará el modelo, al haber NaN en y"
   ]
  },
  {
   "cell_type": "code",
   "execution_count": null,
   "metadata": {},
   "outputs": [],
   "source": [
    "X=df_urgencias_corregido_prueba[['Código Distrito Centro','Age_range_code','Nationality_code','Sex_code','year']]\n",
    "y=df_urgencias_corregido_prueba['Código Tipo Supuesto Urgente']"
   ]
  },
  {
   "cell_type": "code",
   "execution_count": null,
   "metadata": {},
   "outputs": [],
   "source": [
    "\n",
    "lin_reg = LinearRegression()   \n",
    "X_train, X_test, y_train, y_test = train_test_split(X, y, test_size=0.25, random_state=0)\n",
    "lin_reg.fit(X_train, y_train)                           #   Entrenas/generas el modelo para determinar los coeficientes\n",
    "\n",
    "print(\"Estos son los datos del test y del target:\\n-----\")\n",
    "print(\"Total features shape:\", X.shape)\n",
    "print(\"Train features shape:\", X_train.shape)\n",
    "print(\"Train target shape:\", y_train.shape)\n",
    "print(\"Test features shape:\", X_test.shape)\n",
    "print(\"Test target shape:\", y_test.shape)  \n",
    "\n",
    "#    print(\"Estos son los datos del valor de y en x=0 y de las pendientes de cada gradiente de las variables:\\n-----\")\n",
    "#    print(lin_reg.intercept_)\n",
    "#    print(lin_reg.coef_)\n",
    "coeff_df = pd.DataFrame(lin_reg.coef_,\n",
    "                            X.columns,\n",
    "                            columns=['Coefficient'])\n",
    "print(\"-----\\nEstos son las pendientes de cada gradiente visto en un Dataframe:\")\n",
    "print(coeff_df)\n",
    "\n",
    "predictions = lin_reg.predict(X_test)                   #   Determino los resultados que deberían de dar con los valores guardados para\n",
    "print(\"-----\\nEl factor de correlacion de la regresión es: \",lin_reg.score(X_test, y_test))\n",
    "print(\"-----\\nErrores de las predicciones:\")\n",
    "print('MAE:', metrics.mean_absolute_error(y_test, predictions))\n",
    "print('MAPE:', metrics.mean_absolute_percentage_error(y_test, predictions))\n",
    "print('MSE:', metrics.mean_squared_error(y_test, predictions))\n",
    "print('RMSE:', np.sqrt(metrics.mean_squared_error(y_test, predictions)))\n",
    "print(\"-----\\nErrores de los tests:\")\n",
    "print('MAE:', metrics.mean_absolute_error(y_train, lin_reg.predict(X_train)))\n",
    "print('MAPE:', metrics.mean_absolute_percentage_error(y_train, lin_reg.predict(X_train)))\n",
    "print('MSE:', metrics.mean_squared_error(y_train, lin_reg.predict(X_train)))\n",
    "print('RMSE:', np.sqrt(metrics.mean_squared_error(y_train, lin_reg.predict(X_train))))\n",
    "\n",
    "print(\"Esta es la importancia de las variables:\\n-----\")\n",
    "features = pd.DataFrame(lin_reg.coef_, X_train.columns, columns=['coefficient'])\n",
    "print(features.head().sort_values('coefficient', ascending=False))"
   ]
  },
  {
   "cell_type": "markdown",
   "metadata": {},
   "source": [
    "Se observa en los datos que, efectivamente, un **módelo de regresión lineal** no es válido para este tipo de predicciones, ya que el coeficiente de correlación de la regresión es 0.268."
   ]
  }
 ],
 "metadata": {
  "kernelspec": {
   "display_name": "Python 3.7.4 64-bit",
   "language": "python",
   "name": "python3"
  },
  "language_info": {
   "codemirror_mode": {
    "name": "ipython",
    "version": 3
   },
   "file_extension": ".py",
   "mimetype": "text/x-python",
   "name": "python",
   "nbconvert_exporter": "python",
   "pygments_lexer": "ipython3",
   "version": "3.7.4"
  },
  "orig_nbformat": 4,
  "vscode": {
   "interpreter": {
    "hash": "c0e4a4af33acb5d51fe8962d9e2e7588108ae49a894b6d1e35c2101e79360239"
   }
  }
 },
 "nbformat": 4,
 "nbformat_minor": 2
}
