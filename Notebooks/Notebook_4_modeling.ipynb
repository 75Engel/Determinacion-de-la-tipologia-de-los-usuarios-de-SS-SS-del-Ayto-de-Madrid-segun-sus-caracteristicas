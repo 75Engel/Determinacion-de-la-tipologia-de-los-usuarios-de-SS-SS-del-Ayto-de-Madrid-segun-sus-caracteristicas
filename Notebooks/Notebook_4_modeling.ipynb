{
 "cells": [
  {
   "cell_type": "markdown",
   "metadata": {},
   "source": [
    "### 1. LOADING FILES"
   ]
  },
  {
   "cell_type": "code",
   "execution_count": 1,
   "metadata": {},
   "outputs": [],
   "source": [
    "import pickle \n",
    "import pandas as pd\n",
    "import numpy as np\n",
    "import seaborn as sns\n",
    "import matplotlib.pyplot as plt\n",
    "from datetime import datetime\n",
    "import os"
   ]
  },
  {
   "cell_type": "code",
   "execution_count": 2,
   "metadata": {},
   "outputs": [],
   "source": [
    "from sklearn.tree import DecisionTreeClassifier\n",
    "from sklearn.ensemble import RandomForestClassifier,AdaBoostClassifier,GradientBoostingClassifier,BaggingClassifier\n",
    "from sklearn.neighbors import KNeighborsClassifier\n",
    "from sklearn.model_selection import train_test_split\n",
    "from sklearn.model_selection import GridSearchCV\n",
    "from sklearn.pipeline import Pipeline\n",
    "from sklearn.metrics import accuracy_score,precision_score,recall_score,roc_auc_score,f1_score,confusion_matrix"
   ]
  },
  {
   "cell_type": "code",
   "execution_count": 6,
   "metadata": {},
   "outputs": [],
   "source": [
    "lista_modelos=['DTC','RND','BAG','ADA','GBCT','LOGREG','KNN']"
   ]
  },
  {
   "cell_type": "code",
   "execution_count": 3,
   "metadata": {},
   "outputs": [],
   "source": [
    "train=pd.read_csv('E:\\Bootcamp_22\\Javier\\Repositorios\\Machine_Learning\\data\\df_train.csv',sep=',')\n",
    "test=pd.read_csv('E:\\Bootcamp_22\\Javier\\Repositorios\\Machine_Learning\\data\\df_test.csv',sep=',')\n",
    "X_test=test[['Código Distrito Centro','Age_range_code','Nationality_code','Sexo_code']]\n",
    "X_train=train[['Código Distrito Centro','Age_range_code','Nationality_code','Sexo_code']]\n",
    "y_test=test['Código Tipo Supuesto Urgente']\n",
    "y_train=train['Código Tipo Supuesto Urgente']"
   ]
  },
  {
   "cell_type": "code",
   "execution_count": 4,
   "metadata": {},
   "outputs": [],
   "source": [
    "def load_files(file):\n",
    "    '''\n",
    "    Cargar modelos con formato binario en un notebook o fichero python\n",
    "    '''\n",
    "    os.chdir('E:\\Bootcamp_22\\Javier\\Repositorios\\Machine_Learning\\model')\n",
    "    model = pickle.load( open( file, \"rb\" ) )\n",
    "    return model\n",
    "\n",
    "def save_files(model):\n",
    "    '''\n",
    "    Grabar modelos con formato binario en una carpeta\n",
    "    '''\n",
    "    os.chdir('E:/Bootcamp_22/Javier/Repositorios/Machine_Learning/model')\n",
    "    date=str(datetime.today().strftime('%y%m%d%H%M%S'))\n",
    "    name=input(\"Introduce el nombre del modelo a grabar (iniciales): \")\n",
    "    file=name+date+'.pickle'\n",
    "    pickle.dump(model,open(file,'wb'))\n"
   ]
  },
  {
   "cell_type": "markdown",
   "metadata": {},
   "source": [
    "Aqui vamos a cargar los modelos para pasar los test"
   ]
  },
  {
   "cell_type": "code",
   "execution_count": 20,
   "metadata": {},
   "outputs": [
    {
     "data": {
      "text/plain": [
       "AdaBoostClassifier(base_estimator=DecisionTreeClassifier(max_depth=10,\n",
       "                                                         presort=None,\n",
       "                                                         random_state=20),\n",
       "                   random_state=20)"
      ]
     },
     "execution_count": 20,
     "metadata": {},
     "output_type": "execute_result"
    }
   ],
   "source": [
    "ADA"
   ]
  },
  {
   "cell_type": "code",
   "execution_count": 5,
   "metadata": {},
   "outputs": [],
   "source": [
    "ADA = load_files( 'ADA220924191105.pickle' ) \n",
    "BAG = load_files( 'BAG220924191109.pickle' ) \n",
    "DTC = load_files( 'DTC220924191112.pickle' ) \n",
    "GBCT = load_files( 'GBCT220924191130.pickle' ) \n",
    "KNN = load_files( 'KNN220924191142.pickle' ) \n",
    "LOGREG = load_files( 'LOGREG220924191139.pickle' ) \n",
    "RND = load_files( 'RND220924191119.pickle' ) "
   ]
  },
  {
   "cell_type": "markdown",
   "metadata": {},
   "source": [
    "A partir de aqui tengo que cambiar las siguientes ordenes para cargar los modelos"
   ]
  },
  {
   "cell_type": "markdown",
   "metadata": {},
   "source": [
    "### 2. CALCULATING ERROR IN EACH MODEL"
   ]
  },
  {
   "cell_type": "code",
   "execution_count": 6,
   "metadata": {},
   "outputs": [],
   "source": [
    "def error_modelo(model, x_test, Y_test):\n",
    "    '''\n",
    "    Dejamos grabada cada uno de los parámetros de cada modelo y hacemos su representación\n",
    "    '''\n",
    "    y_pred = model.predict(X_test)\n",
    "    f1_model=f1_score(y_test, y_pred,average='macro')\n",
    "    acc_model=accuracy_score(y_test, y_pred)\n",
    "    precision_model=precision_score(y_test, y_pred,average='macro')\n",
    "    recall_model=recall_score(y_test, y_pred,average='macro')\n",
    "    roc_auc_model=roc_auc_score(y_test, model.predict_proba(X_test),multi_class='ovr')\n",
    "    conf_model=confusion_matrix(y_test, y_pred, normalize='true')\n",
    "    model_error = {'accuracy': acc_model, 'f-1': f1_model, 'recall': recall_model , 'precision': precision_model}\n",
    "    df=pd.DataFrame.from_dict(model_error,orient='index')\n",
    "    print('Accuracy', acc_model)\n",
    "    print('F1', f1_model)\n",
    "    print('Precision', precision_model)\n",
    "    print('Recall', recall_model)\n",
    "    print('-'*30)\n",
    "    print('ROC', roc_auc_model)\n",
    "\n",
    "    plt.figure(figsize=(10,10))\n",
    "    sns.heatmap(conf_model, xticklabels=[10,20,30,40,50], yticklabels=[10,20,30,40,50],annot=True)\n",
    "    return df\n"
   ]
  },
  {
   "cell_type": "code",
   "execution_count": 7,
   "metadata": {},
   "outputs": [
    {
     "name": "stderr",
     "output_type": "stream",
     "text": [
      "c:\\Users\\jtr_7\\AppData\\Local\\Programs\\Python\\Python37\\lib\\site-packages\\sklearn\\metrics\\_classification.py:1221: UndefinedMetricWarning: Precision is ill-defined and being set to 0.0 in labels with no predicted samples. Use `zero_division` parameter to control this behavior.\n",
      "  _warn_prf(average, modifier, msg_start, len(result))\n"
     ]
    },
    {
     "name": "stdout",
     "output_type": "stream",
     "text": [
      "Accuracy 0.7537195314973093\n",
      "F1 0.4470204877067017\n",
      "Precision 0.4794261669174011\n",
      "Recall 0.45507374951289903\n",
      "------------------------------\n",
      "ROC 0.6198167879381712\n"
     ]
    },
    {
     "data": {
      "text/html": [
       "<div>\n",
       "<style scoped>\n",
       "    .dataframe tbody tr th:only-of-type {\n",
       "        vertical-align: middle;\n",
       "    }\n",
       "\n",
       "    .dataframe tbody tr th {\n",
       "        vertical-align: top;\n",
       "    }\n",
       "\n",
       "    .dataframe thead th {\n",
       "        text-align: right;\n",
       "    }\n",
       "</style>\n",
       "<table border=\"1\" class=\"dataframe\">\n",
       "  <thead>\n",
       "    <tr style=\"text-align: right;\">\n",
       "      <th></th>\n",
       "      <th>ADA</th>\n",
       "    </tr>\n",
       "  </thead>\n",
       "  <tbody>\n",
       "    <tr>\n",
       "      <th>accuracy</th>\n",
       "      <td>0.753720</td>\n",
       "    </tr>\n",
       "    <tr>\n",
       "      <th>f-1</th>\n",
       "      <td>0.447020</td>\n",
       "    </tr>\n",
       "    <tr>\n",
       "      <th>recall</th>\n",
       "      <td>0.455074</td>\n",
       "    </tr>\n",
       "    <tr>\n",
       "      <th>precision</th>\n",
       "      <td>0.479426</td>\n",
       "    </tr>\n",
       "  </tbody>\n",
       "</table>\n",
       "</div>"
      ],
      "text/plain": [
       "                ADA\n",
       "accuracy   0.753720\n",
       "f-1        0.447020\n",
       "recall     0.455074\n",
       "precision  0.479426"
      ]
     },
     "execution_count": 7,
     "metadata": {},
     "output_type": "execute_result"
    },
    {
     "data": {
      "image/png": "[encoded data removed]",
      "text/plain": [
       "<Figure size 720x720 with 2 Axes>"
      ]
     },
     "metadata": {
      "needs_background": "light"
     },
     "output_type": "display_data"
    }
   ],
   "source": [
    "df_ADA= error_modelo(ADA,X_test,y_test)\n",
    "df_ADA.columns=['ADA']\n",
    "df_ADA"
   ]
  },
  {
   "cell_type": "code",
   "execution_count": 8,
   "metadata": {},
   "outputs": [
    {
     "name": "stdout",
     "output_type": "stream",
     "text": [
      "Accuracy 0.7563574970982379\n",
      "F1 0.44926112518753525\n",
      "Precision 0.4729848258130332\n",
      "Recall 0.45848646075542643\n",
      "------------------------------\n",
      "ROC 0.7888479609316807\n"
     ]
    },
    {
     "name": "stderr",
     "output_type": "stream",
     "text": [
      "c:\\Users\\jtr_7\\AppData\\Local\\Programs\\Python\\Python37\\lib\\site-packages\\sklearn\\metrics\\_classification.py:1221: UndefinedMetricWarning: Precision is ill-defined and being set to 0.0 in labels with no predicted samples. Use `zero_division` parameter to control this behavior.\n",
      "  _warn_prf(average, modifier, msg_start, len(result))\n"
     ]
    },
    {
     "data": {
      "text/html": [
       "<div>\n",
       "<style scoped>\n",
       "    .dataframe tbody tr th:only-of-type {\n",
       "        vertical-align: middle;\n",
       "    }\n",
       "\n",
       "    .dataframe tbody tr th {\n",
       "        vertical-align: top;\n",
       "    }\n",
       "\n",
       "    .dataframe thead th {\n",
       "        text-align: right;\n",
       "    }\n",
       "</style>\n",
       "<table border=\"1\" class=\"dataframe\">\n",
       "  <thead>\n",
       "    <tr style=\"text-align: right;\">\n",
       "      <th></th>\n",
       "      <th>BAG</th>\n",
       "    </tr>\n",
       "  </thead>\n",
       "  <tbody>\n",
       "    <tr>\n",
       "      <th>accuracy</th>\n",
       "      <td>0.756357</td>\n",
       "    </tr>\n",
       "    <tr>\n",
       "      <th>f-1</th>\n",
       "      <td>0.449261</td>\n",
       "    </tr>\n",
       "    <tr>\n",
       "      <th>recall</th>\n",
       "      <td>0.458486</td>\n",
       "    </tr>\n",
       "    <tr>\n",
       "      <th>precision</th>\n",
       "      <td>0.472985</td>\n",
       "    </tr>\n",
       "  </tbody>\n",
       "</table>\n",
       "</div>"
      ],
      "text/plain": [
       "                BAG\n",
       "accuracy   0.756357\n",
       "f-1        0.449261\n",
       "recall     0.458486\n",
       "precision  0.472985"
      ]
     },
     "execution_count": 8,
     "metadata": {},
     "output_type": "execute_result"
    },
    {
     "data": {
      "image/png": "[encoded data removed]",
      "text/plain": [
       "<Figure size 720x720 with 2 Axes>"
      ]
     },
     "metadata": {
      "needs_background": "light"
     },
     "output_type": "display_data"
    }
   ],
   "source": [
    "df_BAG = error_modelo(BAG,X_test,y_test)\n",
    "df_BAG.columns=['BAG']\n",
    "df_BAG"
   ]
  },
  {
   "cell_type": "markdown",
   "metadata": {},
   "source": [
    "A partir de aqui tengo que cambiar las siguientes ordenes para cargar los modelos"
   ]
  },
  {
   "cell_type": "code",
   "execution_count": 9,
   "metadata": {},
   "outputs": [
    {
     "name": "stdout",
     "output_type": "stream",
     "text": [
      "Accuracy 0.7555133481059407\n",
      "F1 0.4485520220043739\n",
      "Precision 0.4671284639535143\n",
      "Recall 0.4570369534043424\n",
      "------------------------------\n",
      "ROC 0.7784773464682482\n"
     ]
    },
    {
     "name": "stderr",
     "output_type": "stream",
     "text": [
      "c:\\Users\\jtr_7\\AppData\\Local\\Programs\\Python\\Python37\\lib\\site-packages\\sklearn\\metrics\\_classification.py:1221: UndefinedMetricWarning: Precision is ill-defined and being set to 0.0 in labels with no predicted samples. Use `zero_division` parameter to control this behavior.\n",
      "  _warn_prf(average, modifier, msg_start, len(result))\n"
     ]
    },
    {
     "data": {
      "text/html": [
       "<div>\n",
       "<style scoped>\n",
       "    .dataframe tbody tr th:only-of-type {\n",
       "        vertical-align: middle;\n",
       "    }\n",
       "\n",
       "    .dataframe tbody tr th {\n",
       "        vertical-align: top;\n",
       "    }\n",
       "\n",
       "    .dataframe thead th {\n",
       "        text-align: right;\n",
       "    }\n",
       "</style>\n",
       "<table border=\"1\" class=\"dataframe\">\n",
       "  <thead>\n",
       "    <tr style=\"text-align: right;\">\n",
       "      <th></th>\n",
       "      <th>DTC</th>\n",
       "    </tr>\n",
       "  </thead>\n",
       "  <tbody>\n",
       "    <tr>\n",
       "      <th>accuracy</th>\n",
       "      <td>0.755513</td>\n",
       "    </tr>\n",
       "    <tr>\n",
       "      <th>f-1</th>\n",
       "      <td>0.448552</td>\n",
       "    </tr>\n",
       "    <tr>\n",
       "      <th>recall</th>\n",
       "      <td>0.457037</td>\n",
       "    </tr>\n",
       "    <tr>\n",
       "      <th>precision</th>\n",
       "      <td>0.467128</td>\n",
       "    </tr>\n",
       "  </tbody>\n",
       "</table>\n",
       "</div>"
      ],
      "text/plain": [
       "                DTC\n",
       "accuracy   0.755513\n",
       "f-1        0.448552\n",
       "recall     0.457037\n",
       "precision  0.467128"
      ]
     },
     "execution_count": 9,
     "metadata": {},
     "output_type": "execute_result"
    },
    {
     "data": {
      "image/png": "[encoded data removed]",
      "text/plain": [
       "<Figure size 720x720 with 2 Axes>"
      ]
     },
     "metadata": {
      "needs_background": "light"
     },
     "output_type": "display_data"
    }
   ],
   "source": [
    "df_DTC = error_modelo(DTC,X_test,y_test)\n",
    "df_DTC.columns=['DTC']\n",
    "df_DTC"
   ]
  },
  {
   "cell_type": "code",
   "execution_count": 10,
   "metadata": {},
   "outputs": [
    {
     "name": "stderr",
     "output_type": "stream",
     "text": [
      "c:\\Users\\jtr_7\\AppData\\Local\\Programs\\Python\\Python37\\lib\\site-packages\\sklearn\\metrics\\_classification.py:1221: UndefinedMetricWarning: Precision is ill-defined and being set to 0.0 in labels with no predicted samples. Use `zero_division` parameter to control this behavior.\n",
      "  _warn_prf(average, modifier, msg_start, len(result))\n"
     ]
    },
    {
     "name": "stdout",
     "output_type": "stream",
     "text": [
      "Accuracy 0.7547747177376807\n",
      "F1 0.4477520513905784\n",
      "Precision 0.4802587149996495\n",
      "Recall 0.4556247981797714\n",
      "------------------------------\n",
      "ROC 0.7806180532674533\n"
     ]
    },
    {
     "data": {
      "text/html": [
       "<div>\n",
       "<style scoped>\n",
       "    .dataframe tbody tr th:only-of-type {\n",
       "        vertical-align: middle;\n",
       "    }\n",
       "\n",
       "    .dataframe tbody tr th {\n",
       "        vertical-align: top;\n",
       "    }\n",
       "\n",
       "    .dataframe thead th {\n",
       "        text-align: right;\n",
       "    }\n",
       "</style>\n",
       "<table border=\"1\" class=\"dataframe\">\n",
       "  <thead>\n",
       "    <tr style=\"text-align: right;\">\n",
       "      <th></th>\n",
       "      <th>RND</th>\n",
       "    </tr>\n",
       "  </thead>\n",
       "  <tbody>\n",
       "    <tr>\n",
       "      <th>accuracy</th>\n",
       "      <td>0.754775</td>\n",
       "    </tr>\n",
       "    <tr>\n",
       "      <th>f-1</th>\n",
       "      <td>0.447752</td>\n",
       "    </tr>\n",
       "    <tr>\n",
       "      <th>recall</th>\n",
       "      <td>0.455625</td>\n",
       "    </tr>\n",
       "    <tr>\n",
       "      <th>precision</th>\n",
       "      <td>0.480259</td>\n",
       "    </tr>\n",
       "  </tbody>\n",
       "</table>\n",
       "</div>"
      ],
      "text/plain": [
       "                RND\n",
       "accuracy   0.754775\n",
       "f-1        0.447752\n",
       "recall     0.455625\n",
       "precision  0.480259"
      ]
     },
     "execution_count": 10,
     "metadata": {},
     "output_type": "execute_result"
    },
    {
     "data": {
      "image/png": "[encoded data removed]",
      "text/plain": [
       "<Figure size 720x720 with 2 Axes>"
      ]
     },
     "metadata": {
      "needs_background": "light"
     },
     "output_type": "display_data"
    }
   ],
   "source": [
    "df_RND = error_modelo(RND,X_test,y_test)\n",
    "df_RND.columns=['RND']\n",
    "df_RND"
   ]
  },
  {
   "cell_type": "code",
   "execution_count": 11,
   "metadata": {},
   "outputs": [
    {
     "name": "stderr",
     "output_type": "stream",
     "text": [
      "c:\\Users\\jtr_7\\AppData\\Local\\Programs\\Python\\Python37\\lib\\site-packages\\sklearn\\metrics\\_classification.py:1221: UndefinedMetricWarning: Precision is ill-defined and being set to 0.0 in labels with no predicted samples. Use `zero_division` parameter to control this behavior.\n",
      "  _warn_prf(average, modifier, msg_start, len(result))\n"
     ]
    },
    {
     "name": "stdout",
     "output_type": "stream",
     "text": [
      "Accuracy 0.7558299039780522\n",
      "F1 0.44576586850927563\n",
      "Precision 0.4359517957749398\n",
      "Recall 0.45733785726097376\n",
      "------------------------------\n",
      "ROC 0.8256666950177991\n"
     ]
    },
    {
     "data": {
      "text/html": [
       "<div>\n",
       "<style scoped>\n",
       "    .dataframe tbody tr th:only-of-type {\n",
       "        vertical-align: middle;\n",
       "    }\n",
       "\n",
       "    .dataframe tbody tr th {\n",
       "        vertical-align: top;\n",
       "    }\n",
       "\n",
       "    .dataframe thead th {\n",
       "        text-align: right;\n",
       "    }\n",
       "</style>\n",
       "<table border=\"1\" class=\"dataframe\">\n",
       "  <thead>\n",
       "    <tr style=\"text-align: right;\">\n",
       "      <th></th>\n",
       "      <th>GBCT</th>\n",
       "    </tr>\n",
       "  </thead>\n",
       "  <tbody>\n",
       "    <tr>\n",
       "      <th>accuracy</th>\n",
       "      <td>0.755830</td>\n",
       "    </tr>\n",
       "    <tr>\n",
       "      <th>f-1</th>\n",
       "      <td>0.445766</td>\n",
       "    </tr>\n",
       "    <tr>\n",
       "      <th>recall</th>\n",
       "      <td>0.457338</td>\n",
       "    </tr>\n",
       "    <tr>\n",
       "      <th>precision</th>\n",
       "      <td>0.435952</td>\n",
       "    </tr>\n",
       "  </tbody>\n",
       "</table>\n",
       "</div>"
      ],
      "text/plain": [
       "               GBCT\n",
       "accuracy   0.755830\n",
       "f-1        0.445766\n",
       "recall     0.457338\n",
       "precision  0.435952"
      ]
     },
     "execution_count": 11,
     "metadata": {},
     "output_type": "execute_result"
    },
    {
     "data": {
      "image/png": "[encoded data removed]",
      "text/plain": [
       "<Figure size 720x720 with 2 Axes>"
      ]
     },
     "metadata": {
      "needs_background": "light"
     },
     "output_type": "display_data"
    }
   ],
   "source": [
    "df_GBCT = error_modelo(GBCT,X_test,y_test)\n",
    "df_GBCT.columns=['GBCT']\n",
    "df_GBCT"
   ]
  },
  {
   "cell_type": "code",
   "execution_count": 12,
   "metadata": {},
   "outputs": [
    {
     "name": "stderr",
     "output_type": "stream",
     "text": [
      "c:\\Users\\jtr_7\\AppData\\Local\\Programs\\Python\\Python37\\lib\\site-packages\\sklearn\\metrics\\_classification.py:1221: UndefinedMetricWarning: Precision is ill-defined and being set to 0.0 in labels with no predicted samples. Use `zero_division` parameter to control this behavior.\n",
      "  _warn_prf(average, modifier, msg_start, len(result))\n"
     ]
    },
    {
     "name": "stdout",
     "output_type": "stream",
     "text": [
      "Accuracy 0.2799409095705392\n",
      "F1 0.1515221817137021\n",
      "Precision 0.11273434898861612\n",
      "Recall 0.23924113782423007\n",
      "------------------------------\n",
      "ROC 0.5189469301041887\n"
     ]
    },
    {
     "data": {
      "text/html": [
       "<div>\n",
       "<style scoped>\n",
       "    .dataframe tbody tr th:only-of-type {\n",
       "        vertical-align: middle;\n",
       "    }\n",
       "\n",
       "    .dataframe tbody tr th {\n",
       "        vertical-align: top;\n",
       "    }\n",
       "\n",
       "    .dataframe thead th {\n",
       "        text-align: right;\n",
       "    }\n",
       "</style>\n",
       "<table border=\"1\" class=\"dataframe\">\n",
       "  <thead>\n",
       "    <tr style=\"text-align: right;\">\n",
       "      <th></th>\n",
       "      <th>KNN</th>\n",
       "    </tr>\n",
       "  </thead>\n",
       "  <tbody>\n",
       "    <tr>\n",
       "      <th>accuracy</th>\n",
       "      <td>0.279941</td>\n",
       "    </tr>\n",
       "    <tr>\n",
       "      <th>f-1</th>\n",
       "      <td>0.151522</td>\n",
       "    </tr>\n",
       "    <tr>\n",
       "      <th>recall</th>\n",
       "      <td>0.239241</td>\n",
       "    </tr>\n",
       "    <tr>\n",
       "      <th>precision</th>\n",
       "      <td>0.112734</td>\n",
       "    </tr>\n",
       "  </tbody>\n",
       "</table>\n",
       "</div>"
      ],
      "text/plain": [
       "                KNN\n",
       "accuracy   0.279941\n",
       "f-1        0.151522\n",
       "recall     0.239241\n",
       "precision  0.112734"
      ]
     },
     "execution_count": 12,
     "metadata": {},
     "output_type": "execute_result"
    },
    {
     "data": {
      "image/png": "[encoded data removed]",
      "text/plain": [
       "<Figure size 720x720 with 2 Axes>"
      ]
     },
     "metadata": {
      "needs_background": "light"
     },
     "output_type": "display_data"
    }
   ],
   "source": [
    "df_KNN = error_modelo(KNN,X_test,y_test)\n",
    "df_KNN.columns=['KNN']\n",
    "df_KNN"
   ]
  },
  {
   "cell_type": "code",
   "execution_count": 13,
   "metadata": {},
   "outputs": [
    {
     "name": "stderr",
     "output_type": "stream",
     "text": [
      "c:\\Users\\jtr_7\\AppData\\Local\\Programs\\Python\\Python37\\lib\\site-packages\\sklearn\\metrics\\_classification.py:1221: UndefinedMetricWarning: Precision is ill-defined and being set to 0.0 in labels with no predicted samples. Use `zero_division` parameter to control this behavior.\n",
      "  _warn_prf(average, modifier, msg_start, len(result))\n"
     ]
    },
    {
     "name": "stdout",
     "output_type": "stream",
     "text": [
      "Accuracy 0.6995884773662552\n",
      "F1 0.38933696072643026\n",
      "Precision 0.4037144802016047\n",
      "Recall 0.39039764463024257\n",
      "------------------------------\n",
      "ROC 0.7677671900777531\n"
     ]
    },
    {
     "data": {
      "text/html": [
       "<div>\n",
       "<style scoped>\n",
       "    .dataframe tbody tr th:only-of-type {\n",
       "        vertical-align: middle;\n",
       "    }\n",
       "\n",
       "    .dataframe tbody tr th {\n",
       "        vertical-align: top;\n",
       "    }\n",
       "\n",
       "    .dataframe thead th {\n",
       "        text-align: right;\n",
       "    }\n",
       "</style>\n",
       "<table border=\"1\" class=\"dataframe\">\n",
       "  <thead>\n",
       "    <tr style=\"text-align: right;\">\n",
       "      <th></th>\n",
       "      <th>LOGREG</th>\n",
       "    </tr>\n",
       "  </thead>\n",
       "  <tbody>\n",
       "    <tr>\n",
       "      <th>accuracy</th>\n",
       "      <td>0.699588</td>\n",
       "    </tr>\n",
       "    <tr>\n",
       "      <th>f-1</th>\n",
       "      <td>0.389337</td>\n",
       "    </tr>\n",
       "    <tr>\n",
       "      <th>recall</th>\n",
       "      <td>0.390398</td>\n",
       "    </tr>\n",
       "    <tr>\n",
       "      <th>precision</th>\n",
       "      <td>0.403714</td>\n",
       "    </tr>\n",
       "  </tbody>\n",
       "</table>\n",
       "</div>"
      ],
      "text/plain": [
       "             LOGREG\n",
       "accuracy   0.699588\n",
       "f-1        0.389337\n",
       "recall     0.390398\n",
       "precision  0.403714"
      ]
     },
     "execution_count": 13,
     "metadata": {},
     "output_type": "execute_result"
    },
    {
     "data": {
      "image/png": "[encoded data removed]",
      "text/plain": [
       "<Figure size 720x720 with 2 Axes>"
      ]
     },
     "metadata": {
      "needs_background": "light"
     },
     "output_type": "display_data"
    }
   ],
   "source": [
    "df_LOGREG = error_modelo(LOGREG,X_test,y_test)\n",
    "df_LOGREG.columns=['LOGREG']\n",
    "df_LOGREG"
   ]
  },
  {
   "cell_type": "markdown",
   "metadata": {},
   "source": [
    "Viendo estos datos desechamos los modelos de *REGRESION LOGÍSTICA* y de *K NEAREST NEIGHBORS*, ya que sus métricas están alejadas del resto."
   ]
  },
  {
   "cell_type": "code",
   "execution_count": 14,
   "metadata": {},
   "outputs": [],
   "source": [
    "df_errores=pd.DataFrame()"
   ]
  },
  {
   "cell_type": "code",
   "execution_count": 15,
   "metadata": {},
   "outputs": [
    {
     "data": {
      "text/html": [
       "<div>\n",
       "<style scoped>\n",
       "    .dataframe tbody tr th:only-of-type {\n",
       "        vertical-align: middle;\n",
       "    }\n",
       "\n",
       "    .dataframe tbody tr th {\n",
       "        vertical-align: top;\n",
       "    }\n",
       "\n",
       "    .dataframe thead th {\n",
       "        text-align: right;\n",
       "    }\n",
       "</style>\n",
       "<table border=\"1\" class=\"dataframe\">\n",
       "  <thead>\n",
       "    <tr style=\"text-align: right;\">\n",
       "      <th></th>\n",
       "      <th>ADA</th>\n",
       "      <th>BAG</th>\n",
       "      <th>DTC</th>\n",
       "      <th>RND</th>\n",
       "      <th>GBCT</th>\n",
       "      <th>KNN</th>\n",
       "      <th>LOGREG</th>\n",
       "    </tr>\n",
       "  </thead>\n",
       "  <tbody>\n",
       "    <tr>\n",
       "      <th>accuracy</th>\n",
       "      <td>0.753720</td>\n",
       "      <td>0.756357</td>\n",
       "      <td>0.755513</td>\n",
       "      <td>0.754775</td>\n",
       "      <td>0.755830</td>\n",
       "      <td>0.279941</td>\n",
       "      <td>0.699588</td>\n",
       "    </tr>\n",
       "    <tr>\n",
       "      <th>f-1</th>\n",
       "      <td>0.447020</td>\n",
       "      <td>0.449261</td>\n",
       "      <td>0.448552</td>\n",
       "      <td>0.447752</td>\n",
       "      <td>0.445766</td>\n",
       "      <td>0.151522</td>\n",
       "      <td>0.389337</td>\n",
       "    </tr>\n",
       "    <tr>\n",
       "      <th>recall</th>\n",
       "      <td>0.455074</td>\n",
       "      <td>0.458486</td>\n",
       "      <td>0.457037</td>\n",
       "      <td>0.455625</td>\n",
       "      <td>0.457338</td>\n",
       "      <td>0.239241</td>\n",
       "      <td>0.390398</td>\n",
       "    </tr>\n",
       "    <tr>\n",
       "      <th>precision</th>\n",
       "      <td>0.479426</td>\n",
       "      <td>0.472985</td>\n",
       "      <td>0.467128</td>\n",
       "      <td>0.480259</td>\n",
       "      <td>0.435952</td>\n",
       "      <td>0.112734</td>\n",
       "      <td>0.403714</td>\n",
       "    </tr>\n",
       "  </tbody>\n",
       "</table>\n",
       "</div>"
      ],
      "text/plain": [
       "                ADA       BAG       DTC       RND      GBCT       KNN  \\\n",
       "accuracy   0.753720  0.756357  0.755513  0.754775  0.755830  0.279941   \n",
       "f-1        0.447020  0.449261  0.448552  0.447752  0.445766  0.151522   \n",
       "recall     0.455074  0.458486  0.457037  0.455625  0.457338  0.239241   \n",
       "precision  0.479426  0.472985  0.467128  0.480259  0.435952  0.112734   \n",
       "\n",
       "             LOGREG  \n",
       "accuracy   0.699588  \n",
       "f-1        0.389337  \n",
       "recall     0.390398  \n",
       "precision  0.403714  "
      ]
     },
     "execution_count": 15,
     "metadata": {},
     "output_type": "execute_result"
    }
   ],
   "source": [
    "df_errores=pd.concat([df_ADA,df_BAG,df_DTC,df_RND,df_GBCT,df_KNN,df_LOGREG],axis=1)\n",
    "df_errores"
   ]
  },
  {
   "cell_type": "markdown",
   "metadata": {},
   "source": [
    "### 3. LOOKING FOR THE BEST MODEL"
   ]
  },
  {
   "cell_type": "code",
   "execution_count": 21,
   "metadata": {},
   "outputs": [],
   "source": [
    "pipe = Pipeline(steps=[\n",
    "    ('classifier', RandomForestClassifier())                #Aqui da igual que clasificador los que se utilizan son los que vienen después, pero hay que poner uno\n",
    "])\n",
    "\n",
    "ada_params = {\n",
    "    'classifier': [AdaBoostClassifier(base_estimator=DecisionTreeClassifier(max_depth=3))],               # Clasificador  1\n",
    "    'classifier__n_estimators': np.arange(0,200,50),\n",
    "    'classifier__learning_rate': np.arange(0.05,0.55,0.1),\n",
    "    'classifier__algorithm': ['SAMME','SAMME.R']   \n",
    "}\n",
    "\n",
    "random_forest_params = {\n",
    "    'classifier': [RandomForestClassifier()],               # Clasificador  2\n",
    "    'classifier__max_leaf_nodes': np.arange(0,50,5),\n",
    "    'classifier__criterion': ['gini','entropy'],\n",
    "    'classifier__max_depth': np.arange(1,11,2),\n",
    "    'classifier__max_features': np.arange(5,30,5),\n",
    "    'classifier__min_samples_leaf': np.arange(0.1,0.25,0.5),\n",
    "    'classifier__bootstrap': [True,False],\n",
    "    'classifier__warm_start': [True,False],\n",
    "    'classifier__min_samples_split': np.arange(5,30,5)\n",
    "}\n",
    "\n",
    "DTC_params = {\n",
    "    'classifier': [DecisionTreeClassifier()],                           # Clasificador  3\n",
    "    'classifier__max_leaf_nodes': np.arange(0,50,5),\n",
    "    'classifier__criterion': ['gini','entropy'],\n",
    "    'classifier__max_depth': np.arange(1,11,2),\n",
    "    'classifier__max_features': np.arange(5,30,5),\n",
    "    'classifier__min_samples_leaf': np.arange(0.1,0.25,0.5),\n",
    "    'classifier__min_samples_split': np.arange(5,30,5)\n",
    "}\n",
    "\n",
    "bag_params = {\n",
    "    'classifier': [BaggingClassifier(base_estimator=DecisionTreeClassifier(max_depth=3))],                           # Clasificador  3\n",
    "    'classifier__bootstrap': [True,False],\n",
    "    'classifier__warm_start': [True,False],\n",
    "    'classifier__max_features': np.arange(2,5,1),\n",
    "    'classifier__max_samples': np.arange(0,200,50),\n",
    "    'classifier__n_estimators': np.arange(0,200,50)\n",
    "}\n",
    "\n",
    "GB_params = {\n",
    "    'classifier': [GradientBoostingClassifier()],                           # Clasificador  3\n",
    "    'classifier__criterion': ['friedman_mse', 'squared_error', 'mse', 'mae'],\n",
    "    'classifier__max_depth': np.arange(1,11,2),\n",
    "    'classifier__warm_start': [True, False],\n",
    "    'classifier__max_features': np.arange(2,5,1),\n",
    "    'classifier__learning_rate': np.arange(0.05,0.55,0.1),\n",
    "    'classifier__min_samples_split': np.arange(5,30,5),\n",
    "    'classifier__n_estimators': np.arange(0,200,50)\n",
    "}\n",
    "\n",
    "search_space = [\n",
    "    ada_params,\n",
    "    random_forest_params,\n",
    "    DTC_params,\n",
    "    bag_params,\n",
    "    GB_params\n",
    "]\n",
    "\n"
   ]
  },
  {
   "cell_type": "code",
   "execution_count": 22,
   "metadata": {},
   "outputs": [],
   "source": [
    "my_model = GridSearchCV(estimator = pipe,\n",
    "                  param_grid = search_space,\n",
    "                  cv = 5,\n",
    "                  scoring='f1_micro')"
   ]
  },
  {
   "cell_type": "code",
   "execution_count": 17,
   "metadata": {},
   "outputs": [
    {
     "ename": "NameError",
     "evalue": "name 'my_model' is not defined",
     "output_type": "error",
     "traceback": [
      "\u001b[1;31m---------------------------------------------------------------------------\u001b[0m",
      "\u001b[1;31mNameError\u001b[0m                                 Traceback (most recent call last)",
      "\u001b[1;32m~\\AppData\\Local\\Temp\\ipykernel_11196\\1846632647.py\u001b[0m in \u001b[0;36m<module>\u001b[1;34m\u001b[0m\n\u001b[1;32m----> 1\u001b[1;33m \u001b[0mmy_model\u001b[0m\u001b[1;33m.\u001b[0m\u001b[0mfit\u001b[0m\u001b[1;33m(\u001b[0m\u001b[0mX_train\u001b[0m\u001b[1;33m,\u001b[0m \u001b[0my_train\u001b[0m\u001b[1;33m)\u001b[0m\u001b[1;33m\u001b[0m\u001b[1;33m\u001b[0m\u001b[0m\n\u001b[0m\u001b[0;32m      2\u001b[0m \u001b[0mprint\u001b[0m\u001b[1;33m(\u001b[0m\u001b[0mmy_model\u001b[0m\u001b[1;33m.\u001b[0m\u001b[0mbest_estimator_\u001b[0m\u001b[1;33m)\u001b[0m\u001b[1;33m\u001b[0m\u001b[1;33m\u001b[0m\u001b[0m\n\u001b[0;32m      3\u001b[0m \u001b[0mprint\u001b[0m\u001b[1;33m(\u001b[0m\u001b[0mmy_model\u001b[0m\u001b[1;33m.\u001b[0m\u001b[0mbest_score_\u001b[0m\u001b[1;33m)\u001b[0m\u001b[1;33m\u001b[0m\u001b[1;33m\u001b[0m\u001b[0m\n\u001b[0;32m      4\u001b[0m \u001b[0mprint\u001b[0m\u001b[1;33m(\u001b[0m\u001b[0mmy_model\u001b[0m\u001b[1;33m.\u001b[0m\u001b[0mbest_params_\u001b[0m\u001b[1;33m)\u001b[0m\u001b[1;33m\u001b[0m\u001b[1;33m\u001b[0m\u001b[0m\n",
      "\u001b[1;31mNameError\u001b[0m: name 'my_model' is not defined"
     ]
    }
   ],
   "source": [
    "my_model.fit(X_train, y_train)\n",
    "print(my_model.best_estimator_)\n",
    "print(my_model.best_score_)\n",
    "print(my_model.best_params_)"
   ]
  },
  {
   "cell_type": "markdown",
   "metadata": {},
   "source": [
    "### 4. CALCULATING ERROR IN EACH MODEL"
   ]
  },
  {
   "cell_type": "markdown",
   "metadata": {},
   "source": [
    "**ADA**"
   ]
  },
  {
   "cell_type": "code",
   "execution_count": null,
   "metadata": {},
   "outputs": [],
   "source": [
    "ada_params = {\n",
    "    'n_estimators': np.arange(1,200,50),                                # hacerlo o mano y ver si consigo mejores resultados\n",
    "    'learning_rate': np.arange(0.01,0.1,0.02),\n",
    "    'algorithm': ['SAMME','SAMME.R']   \n",
    "}\n",
    "\n",
    "GS_ADA = GridSearchCV(estimator = ADA,\n",
    "                  param_grid = ada_params,\n",
    "#                  n_jobs = -1,              #Cuantos procesadores se utilizan, -1 es el maximo\n",
    "                  cv = 5,\n",
    "                  scoring='f1_macro',\n",
    "#                  error_score='raise'\n",
    "                    )\n",
    "\n",
    "GS_ADA.fit(X_train, y_train)\n",
    "print(GS_ADA.best_estimator_)\n",
    "print(GS_ADA.best_score_)\n",
    "print(GS_ADA.best_params_)"
   ]
  },
  {
   "cell_type": "markdown",
   "metadata": {},
   "source": [
    "Según estos datos habría que realizar un nuevo GS modificando el parámetro *learning_rate* disminuyendo el rango."
   ]
  },
  {
   "cell_type": "code",
   "execution_count": null,
   "metadata": {},
   "outputs": [],
   "source": [
    "save_files(GS_ADA.best_estimator_)"
   ]
  },
  {
   "cell_type": "code",
   "execution_count": null,
   "metadata": {},
   "outputs": [],
   "source": [
    "df_GS_ADA= error_modelo(GS_ADA.best_estimator_, X_test, y_test)\n",
    "df_GS_ADA.columns=['ADA']\n",
    "df_GS_ADA"
   ]
  },
  {
   "cell_type": "markdown",
   "metadata": {},
   "source": [
    "**BAG**"
   ]
  },
  {
   "cell_type": "code",
   "execution_count": null,
   "metadata": {},
   "outputs": [],
   "source": [
    "bag_params = {\n",
    "    'bootstrap': [True,False],                              # hacerlo o mano y ver si consigo mejores resultados\n",
    "    'warm_start': [True,False],\n",
    "    'max_features': np.arange(3,5,1),\n",
    "    'max_samples': np.arange(125,175,25),\n",
    "    'n_estimators': np.arange(125,175,25)\n",
    "}\n",
    "\n",
    "GS_BAG = GridSearchCV(estimator = BAG,\n",
    "                  param_grid = bag_params,\n",
    "#                  n_jobs = -1,              #Cuantos procesadores se utilizan, -1 es el maximo\n",
    "                  cv = 5,\n",
    "                  scoring='f1_micro')\n",
    "\n",
    "GS_BAG.fit(X_train, y_train)\n",
    "print(GS_BAG.best_estimator_)\n",
    "print(GS_BAG.best_score_)\n",
    "print(GS_BAG.best_params_)\n"
   ]
  },
  {
   "cell_type": "code",
   "execution_count": null,
   "metadata": {},
   "outputs": [],
   "source": [
    "save_files(GS_BAG.best_estimator_)"
   ]
  },
  {
   "cell_type": "code",
   "execution_count": null,
   "metadata": {},
   "outputs": [],
   "source": [
    "df_GS_BAG = error_modelo(GS_BAG.best_estimator_, X_test, y_test)\n",
    "df_GS_BAG.columns=['BAG']"
   ]
  },
  {
   "cell_type": "markdown",
   "metadata": {},
   "source": [
    "**DTC**"
   ]
  },
  {
   "cell_type": "code",
   "execution_count": null,
   "metadata": {},
   "outputs": [],
   "source": [
    "DTC_params = {\n",
    "#    'max_leaf_nodes': np.arange(1,50,5),                    # hacerlo o mano y ver si consigo mejores resultados\n",
    "    'criterion': ['gini','entropy'],\n",
    "    'max_depth': np.arange(1,5,1),\n",
    "    'max_features': np.arange(3,5,1),\n",
    "    'min_samples_leaf': np.arange(0.05,0.15,0.05),\n",
    "    'min_samples_split': np.arange(3,7,1)\n",
    "}\n",
    "\n",
    "GS_DTC = GridSearchCV(estimator = DTC,\n",
    "                  param_grid = DTC_params,\n",
    "#                  n_jobs = -1,              #Cuantos procesadores se utilizan, -1 es el maximo\n",
    "                  cv = 3,\n",
    "                  scoring='f1_micro')\n",
    "\n",
    "GS_DTC.fit(X_train, y_train)\n",
    "print(GS_DTC.best_estimator_)\n",
    "print(GS_DTC.best_score_)\n",
    "print(GS_DTC.best_params_)"
   ]
  },
  {
   "cell_type": "code",
   "execution_count": null,
   "metadata": {},
   "outputs": [],
   "source": [
    "save_files(GS_DTC.best_estimator_)"
   ]
  },
  {
   "cell_type": "code",
   "execution_count": null,
   "metadata": {},
   "outputs": [],
   "source": [
    "df_GS_DTC = error_modelo(GS_DTC.best_estimator_, X_test, y_test)\n",
    "df_GS_DTC.columns=['DTC']"
   ]
  },
  {
   "cell_type": "markdown",
   "metadata": {},
   "source": [
    "**RND**"
   ]
  },
  {
   "cell_type": "code",
   "execution_count": null,
   "metadata": {},
   "outputs": [],
   "source": [
    "random_forest_params = {                            # pendiente de volver a realizarlo\n",
    "    'max_leaf_nodes': [5,6,7],\n",
    "#    'criterion': ['gini','entropy'],\n",
    "    'max_depth': [2,3,4],\n",
    "    'max_features': [3,4],\n",
    "#    'min_samples_leaf': [0.05,0.1,0.15],\n",
    "#    'bootstrap': [True,False],\n",
    "#    'warm_start': [True,False],\n",
    "    'min_samples_split': [2 ,5,15,20]\n",
    "}\n",
    "\n",
    "GS_RND = GridSearchCV(estimator = RND,\n",
    "                  param_grid = random_forest_params,\n",
    "#                  n_jobs = -1,              #Cuantos procesadores se utilizan, -1 es el maximo\n",
    "                  cv = 3,\n",
    "#                  error_score='raise',\n",
    "                  scoring='f1_micro')\n",
    "\n",
    "GS_RND.fit(X_train, y_train)\n",
    "print(GS_RND.best_estimator_)\n",
    "print(GS_RND.best_score_)\n",
    "print(GS_RND.best_params_)"
   ]
  },
  {
   "cell_type": "code",
   "execution_count": null,
   "metadata": {},
   "outputs": [],
   "source": [
    "save_files(GS_RND.best_estimator_)"
   ]
  },
  {
   "cell_type": "code",
   "execution_count": null,
   "metadata": {},
   "outputs": [],
   "source": [
    "df_GS_RND = error_modelo(GS_RND.best_estimator_, X_test, y_test)\n",
    "df_GS_RND.columns=['RND']"
   ]
  },
  {
   "cell_type": "markdown",
   "metadata": {},
   "source": [
    "**GBCT**"
   ]
  },
  {
   "cell_type": "code",
   "execution_count": null,
   "metadata": {},
   "outputs": [],
   "source": [
    "GB_params = {                                                                       # He reducido cantiddad de valores para repetirlo y ver si lo hace \n",
    "#    'criterion': ['friedman_mse', 'squared_error', 'mse', 'mae'],\n",
    "    'max_depth': np.arange(1,11,5),\n",
    "    'warm_start': [True, False],\n",
    "    'max_features': np.arange(2,5,2),\n",
    "    'learning_rate': np.arange(0.05,0.55,0.25),\n",
    "    'min_samples_split': np.arange(5,30,10),\n",
    "    'n_estimators': np.arange(100,200,50)\n",
    "}\n",
    "\n",
    "GS_GBCT = GridSearchCV(estimator = GBCT,\n",
    "                  param_grid = GB_params,\n",
    "#                  n_jobs = -1,              #Cuantos procesadores se utilizan, -1 es el maximo\n",
    "                  error_score='raise',\n",
    "                  cv = 3,\n",
    "                  scoring='f1_micro')\n",
    "\n",
    "GS_GBCT.fit(X_train, y_train)\n",
    "print(GS_GBCT.best_estimator_)\n",
    "print(GS_GBCT.best_score_)\n",
    "print(GS_GBCT.best_params_)"
   ]
  },
  {
   "cell_type": "code",
   "execution_count": null,
   "metadata": {},
   "outputs": [],
   "source": [
    "save_files(GS_GBCT.best_estimator_)"
   ]
  },
  {
   "cell_type": "code",
   "execution_count": null,
   "metadata": {},
   "outputs": [],
   "source": [
    "df_GS_GBCT = error_modelo(GS_GBCT.best_estimator_, X_test, y_test)\n",
    "df_GS_GBCT.columns=['GBCT']"
   ]
  },
  {
   "cell_type": "markdown",
   "metadata": {},
   "source": [
    "Salvo el modelo **ADA Boost** ninguno de los modelos mejora con un *GridSearch*, es por ello que vamos a hacer un último intento de mejorar los modelos \"a mano\"."
   ]
  },
  {
   "cell_type": "code",
   "execution_count": null,
   "metadata": {},
   "outputs": [],
   "source": [
    "df_errores_GS=pd.concat([df_GS_ADA,df_GS_BAG,df_GS_DTC,df_GS_RND,df_GS_GBCT],axis=1)\n",
    "df_errores_GS"
   ]
  },
  {
   "cell_type": "markdown",
   "metadata": {},
   "source": [
    "### 5. CALCULATING ERROR IN HANDMADE MODEL"
   ]
  },
  {
   "cell_type": "code",
   "execution_count": null,
   "metadata": {},
   "outputs": [],
   "source": [
    "#ADA = load_files('ADA220909190844.pickle')\n",
    "#BAG = load_files('BAG220909190839.pickle')\n",
    "#DTC = load_files('DTC220909190809.pickle')\n",
    "#GBCT=load_files('GBCT220909190855.pickle')\n",
    "#RND=load_files('RND220909190829.pickle')"
   ]
  },
  {
   "cell_type": "markdown",
   "metadata": {},
   "source": [
    "**ADA BOOST**"
   ]
  },
  {
   "cell_type": "code",
   "execution_count": null,
   "metadata": {},
   "outputs": [],
   "source": [
    "seed= 20\n",
    "estimator = DecisionTreeClassifier(max_depth=7,random_state=seed)\n",
    "ADA_m=AdaBoostClassifier(base_estimator = estimator,n_estimators=100,\n",
    "                             random_state=seed,learning_rate=0.02)\n",
    "ADA_m.fit(X_train, y_train)\n",
    "\n",
    "df_HD_ADA= error_modelo(ADA_m, X_test, y_test)\n",
    "df_HD_ADA.columns=['HD_ADA']\n",
    "df_HD_ADA"
   ]
  },
  {
   "cell_type": "markdown",
   "metadata": {},
   "source": [
    "Se observa  que se consigue que el f1-score ascienda *0.005 puntos* manipulando manualmente los hiperparámetros del módelo."
   ]
  },
  {
   "cell_type": "markdown",
   "metadata": {},
   "source": [
    "**BAG**"
   ]
  },
  {
   "cell_type": "code",
   "execution_count": null,
   "metadata": {},
   "outputs": [],
   "source": [
    "seed= 20\n",
    "estimator = DecisionTreeClassifier(max_depth=9,random_state=seed)\n",
    "BAG_m=BaggingClassifier(base_estimator = estimator,random_state=seed,max_features=4,n_estimators=250,max_samples=500)\n",
    "#        AdaBoostClassifier(base_estimator = estimator,n_estimators=100,\n",
    "#                             random_state=seed,learning_rate=0.01)\n",
    "BAG_m.fit(X_train, y_train)\n",
    "\n",
    "df_HD_BAG= error_modelo(BAG_m, X_test, y_test)\n",
    "df_HD_BAG.columns=['HD_BAG']\n",
    "df_HD_BAG"
   ]
  },
  {
   "cell_type": "markdown",
   "metadata": {},
   "source": [
    "Se observa  que se consigue que el f1-score ascienda *0.004 puntos* manipulando manualmente los hiperparámetros del módelo."
   ]
  },
  {
   "cell_type": "markdown",
   "metadata": {},
   "source": [
    "**DTC**"
   ]
  },
  {
   "cell_type": "code",
   "execution_count": null,
   "metadata": {},
   "outputs": [],
   "source": [
    "seed= 20\n",
    "DTC_m=DecisionTreeClassifier(random_state=seed,max_depth=8,min_samples_leaf =50)\n",
    "DTC_m.fit(X_train, y_train)\n",
    "\n",
    "df_HD_DTC= error_modelo(DTC_m, X_test, y_test)\n",
    "df_HD_DTC.columns=['HD_DTC']\n",
    "df_HD_DTC"
   ]
  },
  {
   "cell_type": "markdown",
   "metadata": {},
   "source": [
    "Se observa  que se consigue que el f1-score ascienda *0.002 puntos* manipulando manualmente los hiperparámetros del módelo."
   ]
  },
  {
   "cell_type": "markdown",
   "metadata": {},
   "source": [
    "**RND**"
   ]
  },
  {
   "cell_type": "code",
   "execution_count": null,
   "metadata": {},
   "outputs": [],
   "source": [
    "seed= 20\n",
    "\n",
    "RND_m=RandomForestClassifier(random_state=seed,n_estimators=400,criterion='gini',max_samples=500,max_depth =15)\n",
    "RND_m.fit(X_train, y_train)\n",
    "\n",
    "df_HD_RND= error_modelo(RND_m, X_test, y_test)\n",
    "df_HD_RND.columns=['HD_RND']\n",
    "df_HD_RND"
   ]
  },
  {
   "cell_type": "markdown",
   "metadata": {},
   "source": [
    "Se observa  que se consigue que el f1-score ascienda *0.003 puntos* manipulando manualmente los hiperparámetros del módelo."
   ]
  },
  {
   "cell_type": "markdown",
   "metadata": {},
   "source": [
    "**GBCT**"
   ]
  },
  {
   "cell_type": "code",
   "execution_count": null,
   "metadata": {},
   "outputs": [],
   "source": [
    "seed= 20\n",
    "\n",
    "GBCT_m=GradientBoostingClassifier(n_estimators=150,random_state=seed,subsample =0.65,min_samples_leaf =80)\n",
    "GBCT_m.fit(X_train, y_train)\n",
    "\n",
    "df_HD_GBCT= error_modelo(GBCT_m, X_test, y_test)\n",
    "df_HD_GBCT.columns=['HD_GBCT']\n",
    "df_HD_GBCT"
   ]
  },
  {
   "cell_type": "markdown",
   "metadata": {},
   "source": [
    "Se observa  que se consigue que el f1-score ascienda *0.001 puntos* manipulando manualmente los hiperparámetros del módelo."
   ]
  },
  {
   "cell_type": "code",
   "execution_count": null,
   "metadata": {},
   "outputs": [],
   "source": [
    "df_errores_hm=pd.concat([df_HD_ADA,df_HD_BAG,df_HD_DTC,df_HD_RND,df_HD_GBCT],axis=1)\n",
    "df_errores_hm"
   ]
  },
  {
   "cell_type": "markdown",
   "metadata": {},
   "source": [
    "save_files(BAG_m)"
   ]
  }
 ],
 "metadata": {
  "kernelspec": {
   "display_name": "Python 3.7.4 64-bit",
   "language": "python",
   "name": "python3"
  },
  "language_info": {
   "codemirror_mode": {
    "name": "ipython",
    "version": 3
   },
   "file_extension": ".py",
   "mimetype": "text/x-python",
   "name": "python",
   "nbconvert_exporter": "python",
   "pygments_lexer": "ipython3",
   "version": "3.7.4"
  },
  "orig_nbformat": 4,
  "vscode": {
   "interpreter": {
    "hash": "c0e4a4af33acb5d51fe8962d9e2e7588108ae49a894b6d1e35c2101e79360239"
   }
  }
 },
 "nbformat": 4,
 "nbformat_minor": 2
}
