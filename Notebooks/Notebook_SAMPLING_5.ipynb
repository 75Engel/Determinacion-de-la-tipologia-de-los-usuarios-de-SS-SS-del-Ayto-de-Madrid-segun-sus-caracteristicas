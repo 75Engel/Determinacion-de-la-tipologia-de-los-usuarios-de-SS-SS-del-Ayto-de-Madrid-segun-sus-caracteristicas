{
 "cells": [
  {
   "cell_type": "code",
   "execution_count": 3,
   "metadata": {},
   "outputs": [],
   "source": [
    "\"\"\"\n",
    "IMPORTS\n",
    "\"\"\"\n",
    "import pandas as pd\n",
    "import xlrd\n",
    "import seaborn as sns\n",
    "import matplotlib.pyplot as plt\n",
    "import numpy as np\n",
    "from datetime import datetime\n"
   ]
  },
  {
   "cell_type": "code",
   "execution_count": 4,
   "metadata": {},
   "outputs": [],
   "source": [
    "from sklearn.model_selection import train_test_split\n",
    "from sklearn.linear_model import LinearRegression\n",
    "from sklearn.preprocessing import PolynomialFeatures\n",
    "from sklearn.metrics import r2_score\n",
    "from sklearn.tree import DecisionTreeClassifier,plot_tree\n",
    "from sklearn.metrics import accuracy_score,precision_score,recall_score,roc_auc_score,f1_score,confusion_matrix\n",
    "\n",
    "from sklearn import metrics"
   ]
  },
  {
   "cell_type": "markdown",
   "metadata": {},
   "source": [
    "### 1.- Obtención de los datos"
   ]
  },
  {
   "cell_type": "code",
   "execution_count": 5,
   "metadata": {},
   "outputs": [
    {
     "data": {
      "text/html": [
       "<div>\n",
       "<style scoped>\n",
       "    .dataframe tbody tr th:only-of-type {\n",
       "        vertical-align: middle;\n",
       "    }\n",
       "\n",
       "    .dataframe tbody tr th {\n",
       "        vertical-align: top;\n",
       "    }\n",
       "\n",
       "    .dataframe thead th {\n",
       "        text-align: right;\n",
       "    }\n",
       "</style>\n",
       "<table border=\"1\" class=\"dataframe\">\n",
       "  <thead>\n",
       "    <tr style=\"text-align: right;\">\n",
       "      <th></th>\n",
       "      <th>Código Tipo Supuesto Urgente</th>\n",
       "      <th>Código Distrito Centro</th>\n",
       "      <th>Age_range_code</th>\n",
       "      <th>Nationality_code</th>\n",
       "      <th>Sexo_code</th>\n",
       "      <th>year</th>\n",
       "      <th>Quarteryear</th>\n",
       "    </tr>\n",
       "  </thead>\n",
       "  <tbody>\n",
       "    <tr>\n",
       "      <th>0</th>\n",
       "      <td>30.0</td>\n",
       "      <td>11</td>\n",
       "      <td>0</td>\n",
       "      <td>1</td>\n",
       "      <td>1</td>\n",
       "      <td>2021</td>\n",
       "      <td>1.0</td>\n",
       "    </tr>\n",
       "    <tr>\n",
       "      <th>1</th>\n",
       "      <td>30.0</td>\n",
       "      <td>11</td>\n",
       "      <td>1</td>\n",
       "      <td>0</td>\n",
       "      <td>1</td>\n",
       "      <td>2021</td>\n",
       "      <td>1.0</td>\n",
       "    </tr>\n",
       "    <tr>\n",
       "      <th>2</th>\n",
       "      <td>40.0</td>\n",
       "      <td>5</td>\n",
       "      <td>6</td>\n",
       "      <td>0</td>\n",
       "      <td>1</td>\n",
       "      <td>2021</td>\n",
       "      <td>1.0</td>\n",
       "    </tr>\n",
       "    <tr>\n",
       "      <th>3</th>\n",
       "      <td>30.0</td>\n",
       "      <td>15</td>\n",
       "      <td>0</td>\n",
       "      <td>1</td>\n",
       "      <td>0</td>\n",
       "      <td>2021</td>\n",
       "      <td>1.0</td>\n",
       "    </tr>\n",
       "    <tr>\n",
       "      <th>4</th>\n",
       "      <td>40.0</td>\n",
       "      <td>10</td>\n",
       "      <td>6</td>\n",
       "      <td>0</td>\n",
       "      <td>1</td>\n",
       "      <td>2021</td>\n",
       "      <td>1.0</td>\n",
       "    </tr>\n",
       "    <tr>\n",
       "      <th>...</th>\n",
       "      <td>...</td>\n",
       "      <td>...</td>\n",
       "      <td>...</td>\n",
       "      <td>...</td>\n",
       "      <td>...</td>\n",
       "      <td>...</td>\n",
       "      <td>...</td>\n",
       "    </tr>\n",
       "    <tr>\n",
       "      <th>18858</th>\n",
       "      <td>50.0</td>\n",
       "      <td>6</td>\n",
       "      <td>1</td>\n",
       "      <td>1</td>\n",
       "      <td>0</td>\n",
       "      <td>2020</td>\n",
       "      <td>NaN</td>\n",
       "    </tr>\n",
       "    <tr>\n",
       "      <th>18859</th>\n",
       "      <td>50.0</td>\n",
       "      <td>6</td>\n",
       "      <td>0</td>\n",
       "      <td>1</td>\n",
       "      <td>1</td>\n",
       "      <td>2020</td>\n",
       "      <td>NaN</td>\n",
       "    </tr>\n",
       "    <tr>\n",
       "      <th>18860</th>\n",
       "      <td>50.0</td>\n",
       "      <td>6</td>\n",
       "      <td>1</td>\n",
       "      <td>1</td>\n",
       "      <td>0</td>\n",
       "      <td>2020</td>\n",
       "      <td>NaN</td>\n",
       "    </tr>\n",
       "    <tr>\n",
       "      <th>18861</th>\n",
       "      <td>50.0</td>\n",
       "      <td>6</td>\n",
       "      <td>2</td>\n",
       "      <td>1</td>\n",
       "      <td>1</td>\n",
       "      <td>2020</td>\n",
       "      <td>NaN</td>\n",
       "    </tr>\n",
       "    <tr>\n",
       "      <th>18862</th>\n",
       "      <td>50.0</td>\n",
       "      <td>8</td>\n",
       "      <td>3</td>\n",
       "      <td>1</td>\n",
       "      <td>1</td>\n",
       "      <td>2020</td>\n",
       "      <td>NaN</td>\n",
       "    </tr>\n",
       "  </tbody>\n",
       "</table>\n",
       "<p>18863 rows × 7 columns</p>\n",
       "</div>"
      ],
      "text/plain": [
       "       Código Tipo Supuesto Urgente  Código Distrito Centro  Age_range_code  \\\n",
       "0                              30.0                      11               0   \n",
       "1                              30.0                      11               1   \n",
       "2                              40.0                       5               6   \n",
       "3                              30.0                      15               0   \n",
       "4                              40.0                      10               6   \n",
       "...                             ...                     ...             ...   \n",
       "18858                          50.0                       6               1   \n",
       "18859                          50.0                       6               0   \n",
       "18860                          50.0                       6               1   \n",
       "18861                          50.0                       6               2   \n",
       "18862                          50.0                       8               3   \n",
       "\n",
       "       Nationality_code  Sexo_code  year  Quarteryear  \n",
       "0                     1          1  2021          1.0  \n",
       "1                     0          1  2021          1.0  \n",
       "2                     0          1  2021          1.0  \n",
       "3                     1          0  2021          1.0  \n",
       "4                     0          1  2021          1.0  \n",
       "...                 ...        ...   ...          ...  \n",
       "18858                 1          0  2020          NaN  \n",
       "18859                 1          1  2020          NaN  \n",
       "18860                 1          0  2020          NaN  \n",
       "18861                 1          1  2020          NaN  \n",
       "18862                 1          1  2020          NaN  \n",
       "\n",
       "[18863 rows x 7 columns]"
      ]
     },
     "execution_count": 5,
     "metadata": {},
     "output_type": "execute_result"
    }
   ],
   "source": [
    "df_modelado= pd.read_csv('E:\\Bootcamp_22\\Javier\\Repositorios\\Machine_Learning\\data\\Outcomes\\df_urgencias_totales_balanced.csv',sep=',')\n",
    "df_modelado"
   ]
  },
  {
   "cell_type": "markdown",
   "metadata": {},
   "source": [
    "### 2.- Preparing TRAIN AND TEST DataFrames"
   ]
  },
  {
   "cell_type": "code",
   "execution_count": 7,
   "metadata": {},
   "outputs": [],
   "source": [
    "X=df_modelado[['Código Distrito Centro','Age_range_code','Nationality_code','Sexo_code']]\n",
    "y=df_modelado['Código Tipo Supuesto Urgente']"
   ]
  },
  {
   "cell_type": "code",
   "execution_count": 9,
   "metadata": {},
   "outputs": [
    {
     "name": "stdout",
     "output_type": "stream",
     "text": [
      "(14147, 4)\n",
      "(4716, 4)\n",
      "(14147,)\n",
      "(4716,)\n"
     ]
    }
   ],
   "source": [
    "X_train, X_test, y_train, y_test = train_test_split(X, y, test_size=0.25, random_state=0)       # Genero los datos para entrenamiento y testeo\n",
    "print(X_train.shape)\n",
    "\n",
    "print(X_test.shape)\n",
    "\n",
    "print(y_train.shape)\n",
    "\n",
    "print(y_test.shape)"
   ]
  },
  {
   "cell_type": "code",
   "execution_count": 10,
   "metadata": {},
   "outputs": [
    {
     "data": {
      "text/html": [
       "<div>\n",
       "<style scoped>\n",
       "    .dataframe tbody tr th:only-of-type {\n",
       "        vertical-align: middle;\n",
       "    }\n",
       "\n",
       "    .dataframe tbody tr th {\n",
       "        vertical-align: top;\n",
       "    }\n",
       "\n",
       "    .dataframe thead th {\n",
       "        text-align: right;\n",
       "    }\n",
       "</style>\n",
       "<table border=\"1\" class=\"dataframe\">\n",
       "  <thead>\n",
       "    <tr style=\"text-align: right;\">\n",
       "      <th></th>\n",
       "      <th>Código Distrito Centro</th>\n",
       "      <th>Age_range_code</th>\n",
       "      <th>Nationality_code</th>\n",
       "      <th>Sexo_code</th>\n",
       "      <th>Código Tipo Supuesto Urgente</th>\n",
       "    </tr>\n",
       "  </thead>\n",
       "  <tbody>\n",
       "    <tr>\n",
       "      <th>15486</th>\n",
       "      <td>11</td>\n",
       "      <td>3</td>\n",
       "      <td>0</td>\n",
       "      <td>0</td>\n",
       "      <td>30.0</td>\n",
       "    </tr>\n",
       "    <tr>\n",
       "      <th>4612</th>\n",
       "      <td>10</td>\n",
       "      <td>4</td>\n",
       "      <td>0</td>\n",
       "      <td>0</td>\n",
       "      <td>40.0</td>\n",
       "    </tr>\n",
       "    <tr>\n",
       "      <th>4296</th>\n",
       "      <td>11</td>\n",
       "      <td>6</td>\n",
       "      <td>1</td>\n",
       "      <td>1</td>\n",
       "      <td>40.0</td>\n",
       "    </tr>\n",
       "    <tr>\n",
       "      <th>5866</th>\n",
       "      <td>6</td>\n",
       "      <td>2</td>\n",
       "      <td>0</td>\n",
       "      <td>1</td>\n",
       "      <td>30.0</td>\n",
       "    </tr>\n",
       "    <tr>\n",
       "      <th>7312</th>\n",
       "      <td>11</td>\n",
       "      <td>4</td>\n",
       "      <td>0</td>\n",
       "      <td>0</td>\n",
       "      <td>30.0</td>\n",
       "    </tr>\n",
       "    <tr>\n",
       "      <th>...</th>\n",
       "      <td>...</td>\n",
       "      <td>...</td>\n",
       "      <td>...</td>\n",
       "      <td>...</td>\n",
       "      <td>...</td>\n",
       "    </tr>\n",
       "    <tr>\n",
       "      <th>9225</th>\n",
       "      <td>8</td>\n",
       "      <td>2</td>\n",
       "      <td>1</td>\n",
       "      <td>1</td>\n",
       "      <td>10.0</td>\n",
       "    </tr>\n",
       "    <tr>\n",
       "      <th>13123</th>\n",
       "      <td>12</td>\n",
       "      <td>6</td>\n",
       "      <td>0</td>\n",
       "      <td>1</td>\n",
       "      <td>30.0</td>\n",
       "    </tr>\n",
       "    <tr>\n",
       "      <th>9845</th>\n",
       "      <td>2</td>\n",
       "      <td>6</td>\n",
       "      <td>0</td>\n",
       "      <td>1</td>\n",
       "      <td>40.0</td>\n",
       "    </tr>\n",
       "    <tr>\n",
       "      <th>10799</th>\n",
       "      <td>13</td>\n",
       "      <td>6</td>\n",
       "      <td>0</td>\n",
       "      <td>0</td>\n",
       "      <td>40.0</td>\n",
       "    </tr>\n",
       "    <tr>\n",
       "      <th>2732</th>\n",
       "      <td>11</td>\n",
       "      <td>4</td>\n",
       "      <td>0</td>\n",
       "      <td>1</td>\n",
       "      <td>40.0</td>\n",
       "    </tr>\n",
       "  </tbody>\n",
       "</table>\n",
       "<p>14147 rows × 5 columns</p>\n",
       "</div>"
      ],
      "text/plain": [
       "       Código Distrito Centro  Age_range_code  Nationality_code  Sexo_code  \\\n",
       "15486                      11               3                 0          0   \n",
       "4612                       10               4                 0          0   \n",
       "4296                       11               6                 1          1   \n",
       "5866                        6               2                 0          1   \n",
       "7312                       11               4                 0          0   \n",
       "...                       ...             ...               ...        ...   \n",
       "9225                        8               2                 1          1   \n",
       "13123                      12               6                 0          1   \n",
       "9845                        2               6                 0          1   \n",
       "10799                      13               6                 0          0   \n",
       "2732                       11               4                 0          1   \n",
       "\n",
       "       Código Tipo Supuesto Urgente  \n",
       "15486                          30.0  \n",
       "4612                           40.0  \n",
       "4296                           40.0  \n",
       "5866                           30.0  \n",
       "7312                           30.0  \n",
       "...                             ...  \n",
       "9225                           10.0  \n",
       "13123                          30.0  \n",
       "9845                           40.0  \n",
       "10799                          40.0  \n",
       "2732                           40.0  \n",
       "\n",
       "[14147 rows x 5 columns]"
      ]
     },
     "execution_count": 10,
     "metadata": {},
     "output_type": "execute_result"
    }
   ],
   "source": [
    "train=pd.concat([X_train,y_train],axis=1)\n",
    "train\n"
   ]
  },
  {
   "cell_type": "code",
   "execution_count": 11,
   "metadata": {},
   "outputs": [
    {
     "data": {
      "text/html": [
       "<div>\n",
       "<style scoped>\n",
       "    .dataframe tbody tr th:only-of-type {\n",
       "        vertical-align: middle;\n",
       "    }\n",
       "\n",
       "    .dataframe tbody tr th {\n",
       "        vertical-align: top;\n",
       "    }\n",
       "\n",
       "    .dataframe thead th {\n",
       "        text-align: right;\n",
       "    }\n",
       "</style>\n",
       "<table border=\"1\" class=\"dataframe\">\n",
       "  <thead>\n",
       "    <tr style=\"text-align: right;\">\n",
       "      <th></th>\n",
       "      <th>Código Distrito Centro</th>\n",
       "      <th>Age_range_code</th>\n",
       "      <th>Nationality_code</th>\n",
       "      <th>Sexo_code</th>\n",
       "      <th>Código Tipo Supuesto Urgente</th>\n",
       "    </tr>\n",
       "  </thead>\n",
       "  <tbody>\n",
       "    <tr>\n",
       "      <th>7896</th>\n",
       "      <td>6</td>\n",
       "      <td>6</td>\n",
       "      <td>0</td>\n",
       "      <td>0</td>\n",
       "      <td>40.0</td>\n",
       "    </tr>\n",
       "    <tr>\n",
       "      <th>7732</th>\n",
       "      <td>1</td>\n",
       "      <td>6</td>\n",
       "      <td>0</td>\n",
       "      <td>0</td>\n",
       "      <td>40.0</td>\n",
       "    </tr>\n",
       "    <tr>\n",
       "      <th>6946</th>\n",
       "      <td>11</td>\n",
       "      <td>1</td>\n",
       "      <td>1</td>\n",
       "      <td>1</td>\n",
       "      <td>40.0</td>\n",
       "    </tr>\n",
       "    <tr>\n",
       "      <th>3629</th>\n",
       "      <td>10</td>\n",
       "      <td>6</td>\n",
       "      <td>0</td>\n",
       "      <td>1</td>\n",
       "      <td>40.0</td>\n",
       "    </tr>\n",
       "    <tr>\n",
       "      <th>593</th>\n",
       "      <td>12</td>\n",
       "      <td>6</td>\n",
       "      <td>0</td>\n",
       "      <td>1</td>\n",
       "      <td>40.0</td>\n",
       "    </tr>\n",
       "    <tr>\n",
       "      <th>...</th>\n",
       "      <td>...</td>\n",
       "      <td>...</td>\n",
       "      <td>...</td>\n",
       "      <td>...</td>\n",
       "      <td>...</td>\n",
       "    </tr>\n",
       "    <tr>\n",
       "      <th>15320</th>\n",
       "      <td>1</td>\n",
       "      <td>6</td>\n",
       "      <td>0</td>\n",
       "      <td>0</td>\n",
       "      <td>30.0</td>\n",
       "    </tr>\n",
       "    <tr>\n",
       "      <th>17428</th>\n",
       "      <td>17</td>\n",
       "      <td>1</td>\n",
       "      <td>1</td>\n",
       "      <td>1</td>\n",
       "      <td>40.0</td>\n",
       "    </tr>\n",
       "    <tr>\n",
       "      <th>13578</th>\n",
       "      <td>6</td>\n",
       "      <td>2</td>\n",
       "      <td>1</td>\n",
       "      <td>1</td>\n",
       "      <td>10.0</td>\n",
       "    </tr>\n",
       "    <tr>\n",
       "      <th>17357</th>\n",
       "      <td>7</td>\n",
       "      <td>6</td>\n",
       "      <td>0</td>\n",
       "      <td>0</td>\n",
       "      <td>40.0</td>\n",
       "    </tr>\n",
       "    <tr>\n",
       "      <th>5466</th>\n",
       "      <td>16</td>\n",
       "      <td>6</td>\n",
       "      <td>0</td>\n",
       "      <td>1</td>\n",
       "      <td>40.0</td>\n",
       "    </tr>\n",
       "  </tbody>\n",
       "</table>\n",
       "<p>4716 rows × 5 columns</p>\n",
       "</div>"
      ],
      "text/plain": [
       "       Código Distrito Centro  Age_range_code  Nationality_code  Sexo_code  \\\n",
       "7896                        6               6                 0          0   \n",
       "7732                        1               6                 0          0   \n",
       "6946                       11               1                 1          1   \n",
       "3629                       10               6                 0          1   \n",
       "593                        12               6                 0          1   \n",
       "...                       ...             ...               ...        ...   \n",
       "15320                       1               6                 0          0   \n",
       "17428                      17               1                 1          1   \n",
       "13578                       6               2                 1          1   \n",
       "17357                       7               6                 0          0   \n",
       "5466                       16               6                 0          1   \n",
       "\n",
       "       Código Tipo Supuesto Urgente  \n",
       "7896                           40.0  \n",
       "7732                           40.0  \n",
       "6946                           40.0  \n",
       "3629                           40.0  \n",
       "593                            40.0  \n",
       "...                             ...  \n",
       "15320                          30.0  \n",
       "17428                          40.0  \n",
       "13578                          10.0  \n",
       "17357                          40.0  \n",
       "5466                           40.0  \n",
       "\n",
       "[4716 rows x 5 columns]"
      ]
     },
     "execution_count": 11,
     "metadata": {},
     "output_type": "execute_result"
    }
   ],
   "source": [
    "test=pd.concat([X_test,y_test],axis=1)\n",
    "test"
   ]
  },
  {
   "cell_type": "code",
   "execution_count": 8,
   "metadata": {},
   "outputs": [],
   "source": [
    "train.to_csv('E:\\Bootcamp_22\\Javier\\Repositorios\\Machine_Learning\\data\\df_train_balanced.csv',header=True,index=False)\n",
    "test.to_csv('E:\\Bootcamp_22\\Javier\\Repositorios\\Machine_Learning\\data\\df_test_balanced.csv',header=True,index=False)"
   ]
  },
  {
   "cell_type": "markdown",
   "metadata": {},
   "source": [
    "### 3.- My first Model (DecisionTreeClassifier)"
   ]
  },
  {
   "cell_type": "code",
   "execution_count": 4,
   "metadata": {},
   "outputs": [],
   "source": [
    "train=pd.read_csv('E:\\Bootcamp_22\\Javier\\Repositorios\\Machine_Learning\\data\\df_train_balanced.csv',sep=',')\n",
    "test=pd.read_csv('E:\\Bootcamp_22\\Javier\\Repositorios\\Machine_Learning\\data\\df_test_balanced.csv',sep=',')\n"
   ]
  },
  {
   "cell_type": "code",
   "execution_count": 12,
   "metadata": {},
   "outputs": [],
   "source": [
    "X_test=test[['Código Distrito Centro','Age_range_code','Nationality_code','Sexo_code']]\n",
    "X_train=train[['Código Distrito Centro','Age_range_code','Nationality_code','Sexo_code']]\n",
    "y_test=test['Código Tipo Supuesto Urgente']\n",
    "y_train=train['Código Tipo Supuesto Urgente']"
   ]
  },
  {
   "cell_type": "code",
   "execution_count": 13,
   "metadata": {},
   "outputs": [
    {
     "data": {
      "text/plain": [
       "40.0    5990\n",
       "30.0    5530\n",
       "50.0    1844\n",
       "10.0     721\n",
       "20.0      62\n",
       "Name: Código Tipo Supuesto Urgente, dtype: int64"
      ]
     },
     "execution_count": 13,
     "metadata": {},
     "output_type": "execute_result"
    }
   ],
   "source": [
    "train['Código Tipo Supuesto Urgente'].value_counts()"
   ]
  },
  {
   "cell_type": "code",
   "execution_count": 15,
   "metadata": {},
   "outputs": [
    {
     "name": "stdout",
     "output_type": "stream",
     "text": [
      "Accuracy 0.6974130619168787\n",
      "Precision 0.3878614353797647\n",
      "Recall 0.3550344628974059\n",
      "ROC 0.7002393292584196\n",
      "F1 0.34017715348841115\n"
     ]
    },
    {
     "data": {
      "text/plain": [
       "<AxesSubplot:>"
      ]
     },
     "execution_count": 15,
     "metadata": {},
     "output_type": "execute_result"
    },
    {
     "data": {
      "image/png": "[encoded data removed]",
      "text/plain": [
       "<Figure size 720x720 with 2 Axes>"
      ]
     },
     "metadata": {
      "needs_background": "light"
     },
     "output_type": "display_data"
    }
   ],
   "source": [
    "tree_reg = DecisionTreeClassifier(random_state=20)\n",
    "tree_reg.fit(X_train, y_train)\n",
    "y_pred = tree_reg.predict(X_test)\n",
    "\n",
    "\n",
    "\n",
    "print('Accuracy', accuracy_score(y_test, y_pred))\n",
    "print('Precision', precision_score(y_test, y_pred,average='macro'))\n",
    "print('Recall', recall_score(y_test, y_pred,average='macro'))\n",
    "print('ROC', roc_auc_score(y_test, tree_reg.predict_proba(X_test),multi_class='ovr'))\n",
    "print('F1', f1_score(y_test, y_pred,average='macro'))\n",
    "\n",
    "plt.figure(figsize=(10,10))\n",
    "sns.heatmap(confusion_matrix(y_test, y_pred, normalize='true'), annot=True)"
   ]
  },
  {
   "cell_type": "code",
   "execution_count": 16,
   "metadata": {},
   "outputs": [],
   "source": [
    "def error_modelo(model):\n",
    "    y_pred = model.predict(X_test)\n",
    "    acc_model=accuracy_score(y_test, y_pred)\n",
    "    precision_model=precision_score(y_test, y_pred,average='macro')\n",
    "    recall_model=recall_score(y_test, y_pred,average='macro')\n",
    "    roc_auc_model=roc_auc_score(y_test, model.predict_proba(X_test),multi_class='ovr')\n",
    "    f1_model=f1_score(y_test, y_pred,average='macro')\n",
    "    conf_model=confusion_matrix(y_test, y_pred, normalize='true')\n",
    "    print('Accuracy', acc_model)\n",
    "    print('Precision', precision_model)\n",
    "    print('Recall', recall_model)\n",
    "    print('ROC', roc_auc_model)\n",
    "    print('F1', f1_model)\n",
    "\n",
    "    plt.figure(figsize=(10,10))\n",
    "    sns.heatmap(conf_model, annot=True)"
   ]
  },
  {
   "cell_type": "code",
   "execution_count": 17,
   "metadata": {},
   "outputs": [
    {
     "name": "stdout",
     "output_type": "stream",
     "text": [
      "Accuracy 0.6974130619168787\n",
      "Precision 0.3878614353797647\n",
      "Recall 0.3550344628974059\n",
      "ROC 0.7002393292584196\n",
      "F1 0.34017715348841115\n"
     ]
    },
    {
     "data": {
      "image/png": "[encoded data removed]",
      "text/plain": [
       "<Figure size 720x720 with 2 Axes>"
      ]
     },
     "metadata": {
      "needs_background": "light"
     },
     "output_type": "display_data"
    }
   ],
   "source": [
    "error_modelo(tree_reg)"
   ]
  }
 ],
 "metadata": {
  "kernelspec": {
   "display_name": "Python 3.7.4 64-bit",
   "language": "python",
   "name": "python3"
  },
  "language_info": {
   "codemirror_mode": {
    "name": "ipython",
    "version": 3
   },
   "file_extension": ".py",
   "mimetype": "text/x-python",
   "name": "python",
   "nbconvert_exporter": "python",
   "pygments_lexer": "ipython3",
   "version": "3.7.4"
  },
  "orig_nbformat": 4,
  "vscode": {
   "interpreter": {
    "hash": "c0e4a4af33acb5d51fe8962d9e2e7588108ae49a894b6d1e35c2101e79360239"
   }
  }
 },
 "nbformat": 4,
 "nbformat_minor": 2
}
