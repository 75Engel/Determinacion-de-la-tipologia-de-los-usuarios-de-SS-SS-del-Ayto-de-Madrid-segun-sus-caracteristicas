{
 "cells": [
  {
   "cell_type": "markdown",
   "metadata": {},
   "source": [
    "### 1. LOADING FILES"
   ]
  },
  {
   "cell_type": "code",
   "execution_count": 1,
   "metadata": {},
   "outputs": [],
   "source": [
    "import pickle \n",
    "import pandas as pd\n",
    "import numpy as np\n",
    "import seaborn as sns\n",
    "import matplotlib.pyplot as plt\n",
    "import os\n",
    "from datetime import datetime"
   ]
  },
  {
   "cell_type": "code",
   "execution_count": 2,
   "metadata": {},
   "outputs": [],
   "source": [
    "from sklearn.tree import DecisionTreeClassifier\n",
    "from sklearn.ensemble import RandomForestClassifier,AdaBoostClassifier,GradientBoostingClassifier,BaggingClassifier\n",
    "from sklearn.model_selection import train_test_split\n",
    "from sklearn.model_selection import GridSearchCV\n",
    "from sklearn.pipeline import Pipeline\n",
    "from sklearn.metrics import accuracy_score,precision_score,recall_score,roc_auc_score,f1_score,confusion_matrix"
   ]
  },
  {
   "cell_type": "code",
   "execution_count": 23,
   "metadata": {},
   "outputs": [],
   "source": [
    "def save_files(model):\n",
    "    '''\n",
    "    Grabar modelos con formato binario en una carpeta\n",
    "    '''\n",
    "    os.chdir('E:/Bootcamp_22/Javier/Repositorios/Machine_Learning/model')\n",
    "    date=str(datetime.today().strftime('%y%m%d%H%M%S'))\n",
    "    name=input(\"Introduce el nombre del modelo a grabar (iniciales): \")\n",
    "    file=name+date+'.pickle'\n",
    "    pickle.dump(model,open(file,'wb'))"
   ]
  },
  {
   "cell_type": "code",
   "execution_count": 4,
   "metadata": {},
   "outputs": [],
   "source": [
    "def load_files(file):\n",
    "    '''\n",
    "    Cargar modelos con formato binario en un notebook o fichero python\n",
    "    '''\n",
    "    os.chdir('E:\\Bootcamp_22\\Javier\\Repositorios\\Machine_Learning\\model')\n",
    "    model = pickle.load( open( file, \"rb\" ) )\n",
    "    return model"
   ]
  },
  {
   "cell_type": "code",
   "execution_count": 3,
   "metadata": {},
   "outputs": [],
   "source": [
    "train=pd.read_csv('E:\\Bootcamp_22\\Javier\\Repositorios\\Machine_Learning\\data\\df_train.csv',sep=',')\n",
    "test=pd.read_csv('E:\\Bootcamp_22\\Javier\\Repositorios\\Machine_Learning\\data\\df_test.csv',sep=',')\n",
    "X_test=test[['Código Distrito Centro','Age_range_code','Nationality_code','Sexo_code']]\n",
    "X_train=train[['Código Distrito Centro','Age_range_code','Nationality_code','Sexo_code']]\n",
    "y_test=test['Código Tipo Supuesto Urgente']\n",
    "y_train=train['Código Tipo Supuesto Urgente']"
   ]
  },
  {
   "cell_type": "code",
   "execution_count": 28,
   "metadata": {},
   "outputs": [
    {
     "name": "stdout",
     "output_type": "stream",
     "text": [
      "(8820, 4)\n",
      "(26460, 4)\n",
      "(8820,)\n",
      "(26460,)\n"
     ]
    }
   ],
   "source": [
    "print(X_test.shape)\n",
    "print(X_train.shape)\n",
    "print(y_test.shape)\n",
    "print(y_train.shape)"
   ]
  },
  {
   "cell_type": "markdown",
   "metadata": {},
   "source": [
    "Aqui vamos a cargar los modelos para pasar los test"
   ]
  },
  {
   "cell_type": "code",
   "execution_count": 5,
   "metadata": {},
   "outputs": [],
   "source": [
    "ADA = load_files('ADA220909190844.pickle')\n",
    "BAG = load_files('BAG220909190839.pickle')\n",
    "DTC = load_files('DTC220909190809.pickle')\n",
    "GBCT=load_files('GBCT220909190855.pickle')\n",
    "RND=load_files('RND220909190829.pickle')\n"
   ]
  },
  {
   "cell_type": "markdown",
   "metadata": {},
   "source": [
    "### 2. CALCULATING ERROR IN EACH MODEL"
   ]
  },
  {
   "cell_type": "code",
   "execution_count": 7,
   "metadata": {},
   "outputs": [],
   "source": [
    "def error_modelo(model, x_test, Y_test):\n",
    "    '''\n",
    "    Dejamos grabada cada uno de los parámetros de cada modelo y hacemos su representación\n",
    "    '''\n",
    "    y_pred = model.predict(X_test)\n",
    "    f1_model=f1_score(y_test, y_pred,average='macro')\n",
    "    acc_model=accuracy_score(y_test, y_pred)\n",
    "    precision_model=precision_score(y_test, y_pred,average='macro')\n",
    "    recall_model=recall_score(y_test, y_pred,average='macro')\n",
    "    roc_auc_model=roc_auc_score(y_test, model.predict_proba(X_test),multi_class='ovr')\n",
    "    conf_model=confusion_matrix(y_test, y_pred, normalize='true')\n",
    "    model_error = {'accuracy': acc_model, 'f-1': f1_model, 'recall': recall_model , 'precision': precision_model}\n",
    "    df=pd.DataFrame.from_dict(model_error,orient='index')\n",
    "    print('Accuracy', acc_model)\n",
    "    print('F1', f1_model)\n",
    "    print('Precision', precision_model)\n",
    "    print('Recall', recall_model)\n",
    "    print('-'*30)\n",
    "    print('ROC', roc_auc_model)\n",
    "\n",
    "    plt.figure(figsize=(10,10))\n",
    "    sns.heatmap(conf_model,xticklabels=[10,20,30,40,50],yticklabels=[10,20,30,40,50], annot=True)\n",
    "    return df\n",
    "\n",
    "\n"
   ]
  },
  {
   "cell_type": "markdown",
   "metadata": {},
   "source": [
    "**ADA BOOST**"
   ]
  },
  {
   "cell_type": "code",
   "execution_count": 8,
   "metadata": {},
   "outputs": [
    {
     "data": {
      "text/plain": [
       "AdaBoostClassifier(base_estimator=DecisionTreeClassifier(max_depth=7,\n",
       "                                                         random_state=20),\n",
       "                   learning_rate=0.02, n_estimators=100, random_state=20)"
      ]
     },
     "execution_count": 8,
     "metadata": {},
     "output_type": "execute_result"
    }
   ],
   "source": [
    "seed= 20\n",
    "estimator = DecisionTreeClassifier(max_depth=7,random_state=seed)\n",
    "ADA_m=AdaBoostClassifier(base_estimator = estimator,n_estimators=100,\n",
    "                             random_state=seed,learning_rate=0.02)\n",
    "ADA_m.fit(X_train, y_train)\n"
   ]
  },
  {
   "cell_type": "code",
   "execution_count": 9,
   "metadata": {},
   "outputs": [
    {
     "name": "stderr",
     "output_type": "stream",
     "text": [
      "c:\\Users\\jtr_7\\AppData\\Local\\Programs\\Python\\Python37\\lib\\site-packages\\sklearn\\metrics\\_classification.py:1318: UndefinedMetricWarning: Precision is ill-defined and being set to 0.0 in labels with no predicted samples. Use `zero_division` parameter to control this behavior.\n",
      "  _warn_prf(average, modifier, msg_start, len(result))\n"
     ]
    },
    {
     "name": "stdout",
     "output_type": "stream",
     "text": [
      "Accuracy 0.765079365079365\n",
      "F1 0.44760165568416677\n",
      "Precision 0.4388930100424998\n",
      "Recall 0.4571825260813743\n",
      "------------------------------\n",
      "ROC 0.7990191889447507\n"
     ]
    },
    {
     "data": {
      "text/html": [
       "<div>\n",
       "<style scoped>\n",
       "    .dataframe tbody tr th:only-of-type {\n",
       "        vertical-align: middle;\n",
       "    }\n",
       "\n",
       "    .dataframe tbody tr th {\n",
       "        vertical-align: top;\n",
       "    }\n",
       "\n",
       "    .dataframe thead th {\n",
       "        text-align: right;\n",
       "    }\n",
       "</style>\n",
       "<table border=\"1\" class=\"dataframe\">\n",
       "  <thead>\n",
       "    <tr style=\"text-align: right;\">\n",
       "      <th></th>\n",
       "      <th>HD_ADA</th>\n",
       "    </tr>\n",
       "  </thead>\n",
       "  <tbody>\n",
       "    <tr>\n",
       "      <th>accuracy</th>\n",
       "      <td>0.765079</td>\n",
       "    </tr>\n",
       "    <tr>\n",
       "      <th>f-1</th>\n",
       "      <td>0.447602</td>\n",
       "    </tr>\n",
       "    <tr>\n",
       "      <th>recall</th>\n",
       "      <td>0.457183</td>\n",
       "    </tr>\n",
       "    <tr>\n",
       "      <th>precision</th>\n",
       "      <td>0.438893</td>\n",
       "    </tr>\n",
       "  </tbody>\n",
       "</table>\n",
       "</div>"
      ],
      "text/plain": [
       "             HD_ADA\n",
       "accuracy   0.765079\n",
       "f-1        0.447602\n",
       "recall     0.457183\n",
       "precision  0.438893"
      ]
     },
     "execution_count": 9,
     "metadata": {},
     "output_type": "execute_result"
    },
    {
     "data": {
      "image/png": "[encoded data removed]",
      "text/plain": [
       "<Figure size 720x720 with 2 Axes>"
      ]
     },
     "metadata": {
      "needs_background": "light"
     },
     "output_type": "display_data"
    }
   ],
   "source": [
    "df_HD_ADA= error_modelo(ADA_m, X_test, y_test)\n",
    "df_HD_ADA.columns=['HD_ADA']\n",
    "df_HD_ADA"
   ]
  },
  {
   "cell_type": "markdown",
   "metadata": {},
   "source": [
    "Se observa  que se consigue que el f1-score ascienda *0.005 puntos* manipulando manualmente los hiperparámetros del módelo."
   ]
  },
  {
   "cell_type": "markdown",
   "metadata": {},
   "source": [
    "**BAG**"
   ]
  },
  {
   "cell_type": "code",
   "execution_count": 14,
   "metadata": {},
   "outputs": [
    {
     "data": {
      "text/plain": [
       "BaggingClassifier(base_estimator=DecisionTreeClassifier(max_depth=9,\n",
       "                                                        random_state=20),\n",
       "                  max_features=4, max_samples=500, n_estimators=250,\n",
       "                  random_state=20)"
      ]
     },
     "execution_count": 14,
     "metadata": {},
     "output_type": "execute_result"
    }
   ],
   "source": [
    "seed= 20\n",
    "estimator = DecisionTreeClassifier(max_depth=9,random_state=seed)\n",
    "BAG_m=BaggingClassifier(base_estimator = estimator,random_state=seed,max_features=4,n_estimators=250,max_samples=500)\n",
    "#        AdaBoostClassifier(base_estimator = estimator,n_estimators=100,\n",
    "#                             random_state=seed,learning_rate=0.01)\n",
    "BAG_m.fit(X_train, y_train)"
   ]
  },
  {
   "cell_type": "code",
   "execution_count": 15,
   "metadata": {},
   "outputs": [
    {
     "name": "stderr",
     "output_type": "stream",
     "text": [
      "c:\\Users\\jtr_7\\AppData\\Local\\Programs\\Python\\Python37\\lib\\site-packages\\sklearn\\metrics\\_classification.py:1318: UndefinedMetricWarning: Precision is ill-defined and being set to 0.0 in labels with no predicted samples. Use `zero_division` parameter to control this behavior.\n",
      "  _warn_prf(average, modifier, msg_start, len(result))\n"
     ]
    },
    {
     "name": "stdout",
     "output_type": "stream",
     "text": [
      "Accuracy 0.7662131519274377\n",
      "F1 0.44868956421318595\n",
      "Precision 0.43959547991791564\n",
      "Recall 0.45885684219051515\n",
      "------------------------------\n",
      "ROC 0.8300286141833657\n"
     ]
    },
    {
     "data": {
      "text/html": [
       "<div>\n",
       "<style scoped>\n",
       "    .dataframe tbody tr th:only-of-type {\n",
       "        vertical-align: middle;\n",
       "    }\n",
       "\n",
       "    .dataframe tbody tr th {\n",
       "        vertical-align: top;\n",
       "    }\n",
       "\n",
       "    .dataframe thead th {\n",
       "        text-align: right;\n",
       "    }\n",
       "</style>\n",
       "<table border=\"1\" class=\"dataframe\">\n",
       "  <thead>\n",
       "    <tr style=\"text-align: right;\">\n",
       "      <th></th>\n",
       "      <th>HD_BAG</th>\n",
       "    </tr>\n",
       "  </thead>\n",
       "  <tbody>\n",
       "    <tr>\n",
       "      <th>accuracy</th>\n",
       "      <td>0.766213</td>\n",
       "    </tr>\n",
       "    <tr>\n",
       "      <th>f-1</th>\n",
       "      <td>0.448690</td>\n",
       "    </tr>\n",
       "    <tr>\n",
       "      <th>recall</th>\n",
       "      <td>0.458857</td>\n",
       "    </tr>\n",
       "    <tr>\n",
       "      <th>precision</th>\n",
       "      <td>0.439595</td>\n",
       "    </tr>\n",
       "  </tbody>\n",
       "</table>\n",
       "</div>"
      ],
      "text/plain": [
       "             HD_BAG\n",
       "accuracy   0.766213\n",
       "f-1        0.448690\n",
       "recall     0.458857\n",
       "precision  0.439595"
      ]
     },
     "execution_count": 15,
     "metadata": {},
     "output_type": "execute_result"
    },
    {
     "data": {
      "image/png": "[encoded data removed]",
      "text/plain": [
       "<Figure size 720x720 with 2 Axes>"
      ]
     },
     "metadata": {
      "needs_background": "light"
     },
     "output_type": "display_data"
    }
   ],
   "source": [
    "df_HD_BAG= error_modelo(BAG_m, X_test, y_test)\n",
    "df_HD_BAG.columns=['HD_BAG']\n",
    "df_HD_BAG"
   ]
  },
  {
   "cell_type": "markdown",
   "metadata": {},
   "source": [
    "Se observa  que se consigue que el f1-score ascienda *0.004 puntos* manipulando manualmente los hiperparámetros del módelo."
   ]
  },
  {
   "cell_type": "markdown",
   "metadata": {},
   "source": [
    "**DTC**"
   ]
  },
  {
   "cell_type": "code",
   "execution_count": 16,
   "metadata": {},
   "outputs": [
    {
     "data": {
      "text/plain": [
       "DecisionTreeClassifier(max_depth=8, min_samples_leaf=50, random_state=20)"
      ]
     },
     "execution_count": 16,
     "metadata": {},
     "output_type": "execute_result"
    }
   ],
   "source": [
    "seed= 20\n",
    "DTC_m=DecisionTreeClassifier(random_state=seed,max_depth=8,min_samples_leaf =50)\n",
    "DTC_m.fit(X_train, y_train)\n"
   ]
  },
  {
   "cell_type": "code",
   "execution_count": 17,
   "metadata": {},
   "outputs": [
    {
     "name": "stdout",
     "output_type": "stream",
     "text": [
      "Accuracy 0.7623582766439909\n",
      "F1 0.4464973635230075\n",
      "Precision 0.4372344524933549\n",
      "Recall 0.45691278365156973\n",
      "------------------------------\n",
      "ROC 0.801394056408624\n"
     ]
    },
    {
     "name": "stderr",
     "output_type": "stream",
     "text": [
      "c:\\Users\\jtr_7\\AppData\\Local\\Programs\\Python\\Python37\\lib\\site-packages\\sklearn\\metrics\\_classification.py:1318: UndefinedMetricWarning: Precision is ill-defined and being set to 0.0 in labels with no predicted samples. Use `zero_division` parameter to control this behavior.\n",
      "  _warn_prf(average, modifier, msg_start, len(result))\n"
     ]
    },
    {
     "data": {
      "text/html": [
       "<div>\n",
       "<style scoped>\n",
       "    .dataframe tbody tr th:only-of-type {\n",
       "        vertical-align: middle;\n",
       "    }\n",
       "\n",
       "    .dataframe tbody tr th {\n",
       "        vertical-align: top;\n",
       "    }\n",
       "\n",
       "    .dataframe thead th {\n",
       "        text-align: right;\n",
       "    }\n",
       "</style>\n",
       "<table border=\"1\" class=\"dataframe\">\n",
       "  <thead>\n",
       "    <tr style=\"text-align: right;\">\n",
       "      <th></th>\n",
       "      <th>HD_DTC</th>\n",
       "    </tr>\n",
       "  </thead>\n",
       "  <tbody>\n",
       "    <tr>\n",
       "      <th>accuracy</th>\n",
       "      <td>0.762358</td>\n",
       "    </tr>\n",
       "    <tr>\n",
       "      <th>f-1</th>\n",
       "      <td>0.446497</td>\n",
       "    </tr>\n",
       "    <tr>\n",
       "      <th>recall</th>\n",
       "      <td>0.456913</td>\n",
       "    </tr>\n",
       "    <tr>\n",
       "      <th>precision</th>\n",
       "      <td>0.437234</td>\n",
       "    </tr>\n",
       "  </tbody>\n",
       "</table>\n",
       "</div>"
      ],
      "text/plain": [
       "             HD_DTC\n",
       "accuracy   0.762358\n",
       "f-1        0.446497\n",
       "recall     0.456913\n",
       "precision  0.437234"
      ]
     },
     "execution_count": 17,
     "metadata": {},
     "output_type": "execute_result"
    },
    {
     "data": {
      "image/png": "[encoded data removed]",
      "text/plain": [
       "<Figure size 720x720 with 2 Axes>"
      ]
     },
     "metadata": {
      "needs_background": "light"
     },
     "output_type": "display_data"
    }
   ],
   "source": [
    "df_HD_DTC= error_modelo(DTC_m, X_test, y_test)\n",
    "df_HD_DTC.columns=['HD_DTC']\n",
    "df_HD_DTC"
   ]
  },
  {
   "cell_type": "markdown",
   "metadata": {},
   "source": [
    "Se observa  que se consigue que el f1-score ascienda *0.002 puntos* manipulando manualmente los hiperparámetros del módelo."
   ]
  },
  {
   "cell_type": "markdown",
   "metadata": {},
   "source": [
    "**RND**"
   ]
  },
  {
   "cell_type": "code",
   "execution_count": 18,
   "metadata": {},
   "outputs": [
    {
     "data": {
      "text/plain": [
       "RandomForestClassifier(max_depth=15, max_samples=500, n_estimators=400,\n",
       "                       random_state=20)"
      ]
     },
     "execution_count": 18,
     "metadata": {},
     "output_type": "execute_result"
    }
   ],
   "source": [
    "seed= 20\n",
    "\n",
    "RND_m=RandomForestClassifier(random_state=seed,n_estimators=400,criterion='gini',max_samples=500,max_depth =15)\n",
    "RND_m.fit(X_train, y_train)\n"
   ]
  },
  {
   "cell_type": "code",
   "execution_count": 19,
   "metadata": {},
   "outputs": [
    {
     "name": "stderr",
     "output_type": "stream",
     "text": [
      "c:\\Users\\jtr_7\\AppData\\Local\\Programs\\Python\\Python37\\lib\\site-packages\\sklearn\\metrics\\_classification.py:1318: UndefinedMetricWarning: Precision is ill-defined and being set to 0.0 in labels with no predicted samples. Use `zero_division` parameter to control this behavior.\n",
      "  _warn_prf(average, modifier, msg_start, len(result))\n"
     ]
    },
    {
     "name": "stdout",
     "output_type": "stream",
     "text": [
      "Accuracy 0.7631519274376417\n",
      "F1 0.44618898583191385\n",
      "Precision 0.4376402828192921\n",
      "Recall 0.4555855204669014\n",
      "------------------------------\n",
      "ROC 0.8291830970108798\n"
     ]
    },
    {
     "data": {
      "text/html": [
       "<div>\n",
       "<style scoped>\n",
       "    .dataframe tbody tr th:only-of-type {\n",
       "        vertical-align: middle;\n",
       "    }\n",
       "\n",
       "    .dataframe tbody tr th {\n",
       "        vertical-align: top;\n",
       "    }\n",
       "\n",
       "    .dataframe thead th {\n",
       "        text-align: right;\n",
       "    }\n",
       "</style>\n",
       "<table border=\"1\" class=\"dataframe\">\n",
       "  <thead>\n",
       "    <tr style=\"text-align: right;\">\n",
       "      <th></th>\n",
       "      <th>HD_RND</th>\n",
       "    </tr>\n",
       "  </thead>\n",
       "  <tbody>\n",
       "    <tr>\n",
       "      <th>accuracy</th>\n",
       "      <td>0.763152</td>\n",
       "    </tr>\n",
       "    <tr>\n",
       "      <th>f-1</th>\n",
       "      <td>0.446189</td>\n",
       "    </tr>\n",
       "    <tr>\n",
       "      <th>recall</th>\n",
       "      <td>0.455586</td>\n",
       "    </tr>\n",
       "    <tr>\n",
       "      <th>precision</th>\n",
       "      <td>0.437640</td>\n",
       "    </tr>\n",
       "  </tbody>\n",
       "</table>\n",
       "</div>"
      ],
      "text/plain": [
       "             HD_RND\n",
       "accuracy   0.763152\n",
       "f-1        0.446189\n",
       "recall     0.455586\n",
       "precision  0.437640"
      ]
     },
     "execution_count": 19,
     "metadata": {},
     "output_type": "execute_result"
    },
    {
     "data": {
      "image/png": "[encoded data removed]",
      "text/plain": [
       "<Figure size 720x720 with 2 Axes>"
      ]
     },
     "metadata": {
      "needs_background": "light"
     },
     "output_type": "display_data"
    }
   ],
   "source": [
    "df_HD_RND= error_modelo(RND_m, X_test, y_test)\n",
    "df_HD_RND.columns=['HD_RND']\n",
    "df_HD_RND"
   ]
  },
  {
   "cell_type": "markdown",
   "metadata": {},
   "source": [
    "Se observa  que se consigue que el f1-score ascienda *0.003 puntos* manipulando manualmente los hiperparámetros del módelo."
   ]
  },
  {
   "cell_type": "markdown",
   "metadata": {},
   "source": [
    "**GBCT**"
   ]
  },
  {
   "cell_type": "code",
   "execution_count": 20,
   "metadata": {},
   "outputs": [
    {
     "data": {
      "text/plain": [
       "GradientBoostingClassifier(min_samples_leaf=80, n_estimators=150,\n",
       "                           random_state=20, subsample=0.65)"
      ]
     },
     "execution_count": 20,
     "metadata": {},
     "output_type": "execute_result"
    }
   ],
   "source": [
    "seed= 20\n",
    "\n",
    "GBCT_m=GradientBoostingClassifier(n_estimators=150,random_state=seed,subsample =0.65,min_samples_leaf =80)\n",
    "GBCT_m.fit(X_train, y_train)\n"
   ]
  },
  {
   "cell_type": "code",
   "execution_count": 21,
   "metadata": {},
   "outputs": [
    {
     "name": "stderr",
     "output_type": "stream",
     "text": [
      "c:\\Users\\jtr_7\\AppData\\Local\\Programs\\Python\\Python37\\lib\\site-packages\\sklearn\\metrics\\_classification.py:1318: UndefinedMetricWarning: Precision is ill-defined and being set to 0.0 in labels with no predicted samples. Use `zero_division` parameter to control this behavior.\n",
      "  _warn_prf(average, modifier, msg_start, len(result))\n"
     ]
    },
    {
     "name": "stdout",
     "output_type": "stream",
     "text": [
      "Accuracy 0.764172335600907\n",
      "F1 0.4470915082647977\n",
      "Precision 0.4382297694726133\n",
      "Recall 0.4569329304329943\n",
      "------------------------------\n",
      "ROC 0.8469558424083843\n"
     ]
    },
    {
     "data": {
      "text/html": [
       "<div>\n",
       "<style scoped>\n",
       "    .dataframe tbody tr th:only-of-type {\n",
       "        vertical-align: middle;\n",
       "    }\n",
       "\n",
       "    .dataframe tbody tr th {\n",
       "        vertical-align: top;\n",
       "    }\n",
       "\n",
       "    .dataframe thead th {\n",
       "        text-align: right;\n",
       "    }\n",
       "</style>\n",
       "<table border=\"1\" class=\"dataframe\">\n",
       "  <thead>\n",
       "    <tr style=\"text-align: right;\">\n",
       "      <th></th>\n",
       "      <th>HD_GBCT</th>\n",
       "    </tr>\n",
       "  </thead>\n",
       "  <tbody>\n",
       "    <tr>\n",
       "      <th>accuracy</th>\n",
       "      <td>0.764172</td>\n",
       "    </tr>\n",
       "    <tr>\n",
       "      <th>f-1</th>\n",
       "      <td>0.447092</td>\n",
       "    </tr>\n",
       "    <tr>\n",
       "      <th>recall</th>\n",
       "      <td>0.456933</td>\n",
       "    </tr>\n",
       "    <tr>\n",
       "      <th>precision</th>\n",
       "      <td>0.438230</td>\n",
       "    </tr>\n",
       "  </tbody>\n",
       "</table>\n",
       "</div>"
      ],
      "text/plain": [
       "            HD_GBCT\n",
       "accuracy   0.764172\n",
       "f-1        0.447092\n",
       "recall     0.456933\n",
       "precision  0.438230"
      ]
     },
     "execution_count": 21,
     "metadata": {},
     "output_type": "execute_result"
    },
    {
     "data": {
      "image/png": "[encoded data removed]",
      "text/plain": [
       "<Figure size 720x720 with 2 Axes>"
      ]
     },
     "metadata": {
      "needs_background": "light"
     },
     "output_type": "display_data"
    }
   ],
   "source": [
    "df_HD_GBCT= error_modelo(GBCT_m, X_test, y_test)\n",
    "df_HD_GBCT.columns=['HD_GBCT']\n",
    "df_HD_GBCT"
   ]
  },
  {
   "cell_type": "markdown",
   "metadata": {},
   "source": [
    "Se observa  que se consigue que el f1-score ascienda *0.001 puntos* manipulando manualmente los hiperparámetros del módelo."
   ]
  },
  {
   "cell_type": "code",
   "execution_count": 22,
   "metadata": {},
   "outputs": [
    {
     "data": {
      "text/html": [
       "<div>\n",
       "<style scoped>\n",
       "    .dataframe tbody tr th:only-of-type {\n",
       "        vertical-align: middle;\n",
       "    }\n",
       "\n",
       "    .dataframe tbody tr th {\n",
       "        vertical-align: top;\n",
       "    }\n",
       "\n",
       "    .dataframe thead th {\n",
       "        text-align: right;\n",
       "    }\n",
       "</style>\n",
       "<table border=\"1\" class=\"dataframe\">\n",
       "  <thead>\n",
       "    <tr style=\"text-align: right;\">\n",
       "      <th></th>\n",
       "      <th>HD_ADA</th>\n",
       "      <th>HD_BAG</th>\n",
       "      <th>HD_DTC</th>\n",
       "      <th>HD_RND</th>\n",
       "      <th>HD_GBCT</th>\n",
       "    </tr>\n",
       "  </thead>\n",
       "  <tbody>\n",
       "    <tr>\n",
       "      <th>accuracy</th>\n",
       "      <td>0.765079</td>\n",
       "      <td>0.766213</td>\n",
       "      <td>0.762358</td>\n",
       "      <td>0.763152</td>\n",
       "      <td>0.764172</td>\n",
       "    </tr>\n",
       "    <tr>\n",
       "      <th>f-1</th>\n",
       "      <td>0.447602</td>\n",
       "      <td>0.448690</td>\n",
       "      <td>0.446497</td>\n",
       "      <td>0.446189</td>\n",
       "      <td>0.447092</td>\n",
       "    </tr>\n",
       "    <tr>\n",
       "      <th>recall</th>\n",
       "      <td>0.457183</td>\n",
       "      <td>0.458857</td>\n",
       "      <td>0.456913</td>\n",
       "      <td>0.455586</td>\n",
       "      <td>0.456933</td>\n",
       "    </tr>\n",
       "    <tr>\n",
       "      <th>precision</th>\n",
       "      <td>0.438893</td>\n",
       "      <td>0.439595</td>\n",
       "      <td>0.437234</td>\n",
       "      <td>0.437640</td>\n",
       "      <td>0.438230</td>\n",
       "    </tr>\n",
       "  </tbody>\n",
       "</table>\n",
       "</div>"
      ],
      "text/plain": [
       "             HD_ADA    HD_BAG    HD_DTC    HD_RND   HD_GBCT\n",
       "accuracy   0.765079  0.766213  0.762358  0.763152  0.764172\n",
       "f-1        0.447602  0.448690  0.446497  0.446189  0.447092\n",
       "recall     0.457183  0.458857  0.456913  0.455586  0.456933\n",
       "precision  0.438893  0.439595  0.437234  0.437640  0.438230"
      ]
     },
     "execution_count": 22,
     "metadata": {},
     "output_type": "execute_result"
    }
   ],
   "source": [
    "df_errores=pd.concat([df_HD_ADA,df_HD_BAG,df_HD_DTC,df_HD_RND,df_HD_GBCT],axis=1)\n",
    "df_errores"
   ]
  },
  {
   "cell_type": "code",
   "execution_count": 24,
   "metadata": {},
   "outputs": [],
   "source": [
    "save_files(BAG_m)"
   ]
  }
 ],
 "metadata": {
  "kernelspec": {
   "display_name": "Python 3.7.4 64-bit",
   "language": "python",
   "name": "python3"
  },
  "language_info": {
   "codemirror_mode": {
    "name": "ipython",
    "version": 3
   },
   "file_extension": ".py",
   "mimetype": "text/x-python",
   "name": "python",
   "nbconvert_exporter": "python",
   "pygments_lexer": "ipython3",
   "version": "3.7.4"
  },
  "orig_nbformat": 4,
  "vscode": {
   "interpreter": {
    "hash": "c0e4a4af33acb5d51fe8962d9e2e7588108ae49a894b6d1e35c2101e79360239"
   }
  }
 },
 "nbformat": 4,
 "nbformat_minor": 2
}
