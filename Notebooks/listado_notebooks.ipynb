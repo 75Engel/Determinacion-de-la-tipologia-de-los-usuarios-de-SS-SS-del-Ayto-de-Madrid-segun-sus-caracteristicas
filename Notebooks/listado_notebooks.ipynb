{
 "cells": [
  {
   "cell_type": "markdown",
   "metadata": {},
   "source": [
    "### LISTADO DE LOS NOTEBOOKS QUE SE ENCUENTRAN EN ESTA CARPETA\n",
    "\n",
    ">*   Notebook_1: INVALIDO\n",
    ">\n",
    ">*   Notebook_2_Featuring Engineering: Notebook que se utilizo para los datos descargados de *urgencias*. A pesar que había varios registros incompletos, se pudo completar y se ha desarrollado a partir de éste.\n",
    ">\n",
    ">*   Notebook_3_EDA_&_first_model: Notebook donde hace estudiuo de Análisis Explotario de Datos y un primer modelado. \n",
    ">\n",
    ">*   Notebook_4_modeling: Notebook donde he realizado diversos modelados clasificatorios.\n",
    ">\n",
    ">*  Notebook_5_Features_Importance: Notebook donde he realizado el análisis de los Features distintos en el mejor modelo resultante.\n",
    ">\n",
    ">*   Notebook_6_without_2020_models: Notebook donde he realizado modelado sin incluir el Dataset de 2020.\n",
    ">\n",
    ">*   Notebook_SAMPLING_3: Notebook donde se realizo el resampleado del 2020.\n",
    ">\n",
    ">*   Notebook_SAMPLING_4: Notebook donde he realizado el modelado de los datos para módelos clasificatorios.\n",
    ">\n"
   ]
  },
  {
   "cell_type": "code",
   "execution_count": null,
   "metadata": {},
   "outputs": [],
   "source": []
  }
 ],
 "metadata": {
  "kernelspec": {
   "display_name": "Python 3.7.4 64-bit",
   "language": "python",
   "name": "python3"
  },
  "language_info": {
   "name": "python",
   "version": "3.7.4"
  },
  "orig_nbformat": 4,
  "vscode": {
   "interpreter": {
    "hash": "c0e4a4af33acb5d51fe8962d9e2e7588108ae49a894b6d1e35c2101e79360239"
   }
  }
 },
 "nbformat": 4,
 "nbformat_minor": 2
}
