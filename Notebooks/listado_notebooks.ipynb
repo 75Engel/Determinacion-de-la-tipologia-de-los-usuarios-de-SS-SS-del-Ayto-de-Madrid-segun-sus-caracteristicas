{
 "cells": [
  {
   "cell_type": "markdown",
   "metadata": {},
   "source": [
    "### LISTADO DE LOS NOTEBOOKS QUE SE ENCUENTRAN EN ESTA CARPETA\n",
    "\n",
    "> *   Notebook_1: Notebook que se utilizo para valorar si se podría realizar estudio sobre las *demandas* de los usuarios. Dado que había muchos espacios en blanco, se tuvo que desestimar esta  opción.\n",
    ">\n",
    ">*   Notebook_2: Notebook que se utilizo para los datos descargados de *urgencias*. A pesar que había varios registros incompletos, se pudo completar y se ha desarrollado a partir de éste.\n",
    ">\n",
    ">*   Notebook_3: Notebook donde se volvio a realizar el proceso de ingenieria de datos y se ha realizado un Análisis de Datos Exploratorio del mismo. \n",
    ">\n",
    ">*   Notebook_4: Notebook donde he realizado el modelado de los datos para módelos clasificatorios.\n"
   ]
  },
  {
   "cell_type": "code",
   "execution_count": null,
   "metadata": {},
   "outputs": [],
   "source": []
  }
 ],
 "metadata": {
  "kernelspec": {
   "display_name": "Python 3.7.4 64-bit",
   "language": "python",
   "name": "python3"
  },
  "language_info": {
   "name": "python",
   "version": "3.7.4"
  },
  "orig_nbformat": 4,
  "vscode": {
   "interpreter": {
    "hash": "c0e4a4af33acb5d51fe8962d9e2e7588108ae49a894b6d1e35c2101e79360239"
   }
  }
 },
 "nbformat": 4,
 "nbformat_minor": 2
}
